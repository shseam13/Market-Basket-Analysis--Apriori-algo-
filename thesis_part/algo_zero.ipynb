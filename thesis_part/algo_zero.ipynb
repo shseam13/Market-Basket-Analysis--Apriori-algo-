{
 "cells": [
  {
   "cell_type": "markdown",
   "id": "71959c93",
   "metadata": {
    "papermill": {
     "duration": 0.007688,
     "end_time": "2022-10-02T20:48:12.179139",
     "exception": false,
     "start_time": "2022-10-02T20:48:12.171451",
     "status": "completed"
    },
    "tags": []
   },
   "source": [
    "## **Data Dictionary:** \n",
    "- **Member_number:** Customer Id  \n",
    "- **Date:** Date of purchase\n",
    "- **itemDescription:** Description of product purchased\n"
   ]
  },
  {
   "cell_type": "markdown",
   "id": "97955d9a",
   "metadata": {
    "papermill": {
     "duration": 0.008006,
     "end_time": "2022-10-02T20:48:12.251697",
     "exception": false,
     "start_time": "2022-10-02T20:48:12.243691",
     "status": "completed"
    },
    "tags": []
   },
   "source": [
    "## **Flow of Execution:**\n",
    "\n",
    "1. Loading Necessary Packages\n",
    "2. Loading dataset\n",
    "3. Data Pre-Processing\n",
    "4. Performing EDA\n",
    "5. Apriori Implementation\n",
    "6. Result Customization"
   ]
  },
  {
   "cell_type": "markdown",
   "id": "5d6af6a0",
   "metadata": {
    "papermill": {
     "duration": 0.007936,
     "end_time": "2022-10-02T20:48:12.267858",
     "exception": false,
     "start_time": "2022-10-02T20:48:12.259922",
     "status": "completed"
    },
    "tags": []
   },
   "source": [
    "## **Step - 1 :** Loading Necessary Packages"
   ]
  },
  {
   "cell_type": "code",
   "execution_count": 2,
   "id": "dd8c75a8",
   "metadata": {
    "execution": {
     "iopub.execute_input": "2022-10-02T20:48:12.286313Z",
     "iopub.status.busy": "2022-10-02T20:48:12.285841Z",
     "iopub.status.idle": "2022-10-02T20:48:27.319203Z",
     "shell.execute_reply": "2022-10-02T20:48:27.316863Z"
    },
    "papermill": {
     "duration": 15.046939,
     "end_time": "2022-10-02T20:48:27.323012",
     "exception": false,
     "start_time": "2022-10-02T20:48:12.276073",
     "status": "completed"
    },
    "tags": []
   },
   "outputs": [
    {
     "name": "stdout",
     "output_type": "stream",
     "text": [
      "Note: you may need to restart the kernel to use updated packages.\n"
     ]
    },
    {
     "name": "stderr",
     "output_type": "stream",
     "text": [
      "ERROR: Invalid requirement: '##'\n",
      "\n",
      "[notice] A new release of pip available: 22.2.1 -> 22.3.1\n",
      "[notice] To update, run: python.exe -m pip install --upgrade pip\n"
     ]
    }
   ],
   "source": [
    "%pip install apyori ## Installing apriori library"
   ]
  },
  {
   "cell_type": "code",
   "execution_count": 3,
   "id": "45ae565b",
   "metadata": {
    "execution": {
     "iopub.execute_input": "2022-10-02T20:48:27.343666Z",
     "iopub.status.busy": "2022-10-02T20:48:27.343182Z",
     "iopub.status.idle": "2022-10-02T20:48:28.474606Z",
     "shell.execute_reply": "2022-10-02T20:48:28.473475Z"
    },
    "papermill": {
     "duration": 1.144905,
     "end_time": "2022-10-02T20:48:28.477272",
     "exception": false,
     "start_time": "2022-10-02T20:48:27.332367",
     "status": "completed"
    },
    "tags": []
   },
   "outputs": [],
   "source": [
    "import numpy as np # linear algebra\n",
    "import pandas as pd # Data pre-processing\n",
    "import seaborn as sns # Required for plotting\n",
    "import matplotlib.pyplot as plt # Required for plotting"
   ]
  },
  {
   "cell_type": "markdown",
   "id": "7e90c611",
   "metadata": {
    "papermill": {
     "duration": 0.008647,
     "end_time": "2022-10-02T20:48:28.496078",
     "exception": false,
     "start_time": "2022-10-02T20:48:28.487431",
     "status": "completed"
    },
    "tags": []
   },
   "source": [
    "## **Step - 2 :** Loading dataset"
   ]
  },
  {
   "cell_type": "code",
   "execution_count": 4,
   "id": "779a47ca",
   "metadata": {
    "_cell_guid": "b1076dfc-b9ad-4769-8c92-a6c4dae69d19",
    "_uuid": "8f2839f25d086af736a60e9eeb907d3b93b6e0e5",
    "execution": {
     "iopub.execute_input": "2022-10-02T20:48:28.516864Z",
     "iopub.status.busy": "2022-10-02T20:48:28.515893Z",
     "iopub.status.idle": "2022-10-02T20:48:28.597475Z",
     "shell.execute_reply": "2022-10-02T20:48:28.596540Z"
    },
    "papermill": {
     "duration": 0.094736,
     "end_time": "2022-10-02T20:48:28.599812",
     "exception": false,
     "start_time": "2022-10-02T20:48:28.505076",
     "status": "completed"
    },
    "tags": []
   },
   "outputs": [
    {
     "data": {
      "text/html": [
       "<div>\n",
       "<style scoped>\n",
       "    .dataframe tbody tr th:only-of-type {\n",
       "        vertical-align: middle;\n",
       "    }\n",
       "\n",
       "    .dataframe tbody tr th {\n",
       "        vertical-align: top;\n",
       "    }\n",
       "\n",
       "    .dataframe thead th {\n",
       "        text-align: right;\n",
       "    }\n",
       "</style>\n",
       "<table border=\"1\" class=\"dataframe\">\n",
       "  <thead>\n",
       "    <tr style=\"text-align: right;\">\n",
       "      <th></th>\n",
       "      <th>Member_number</th>\n",
       "      <th>Date</th>\n",
       "      <th>itemDescription</th>\n",
       "    </tr>\n",
       "  </thead>\n",
       "  <tbody>\n",
       "    <tr>\n",
       "      <th>0</th>\n",
       "      <td>1808</td>\n",
       "      <td>21-07-2015</td>\n",
       "      <td>tropical fruit</td>\n",
       "    </tr>\n",
       "    <tr>\n",
       "      <th>1</th>\n",
       "      <td>2552</td>\n",
       "      <td>05-01-2015</td>\n",
       "      <td>whole milk</td>\n",
       "    </tr>\n",
       "    <tr>\n",
       "      <th>2</th>\n",
       "      <td>2300</td>\n",
       "      <td>19-09-2015</td>\n",
       "      <td>pip fruit</td>\n",
       "    </tr>\n",
       "    <tr>\n",
       "      <th>3</th>\n",
       "      <td>1187</td>\n",
       "      <td>12-12-2015</td>\n",
       "      <td>other vegetables</td>\n",
       "    </tr>\n",
       "    <tr>\n",
       "      <th>4</th>\n",
       "      <td>3037</td>\n",
       "      <td>01-02-2015</td>\n",
       "      <td>whole milk</td>\n",
       "    </tr>\n",
       "    <tr>\n",
       "      <th>5</th>\n",
       "      <td>4941</td>\n",
       "      <td>14-02-2015</td>\n",
       "      <td>rolls/buns</td>\n",
       "    </tr>\n",
       "    <tr>\n",
       "      <th>6</th>\n",
       "      <td>4501</td>\n",
       "      <td>08-05-2015</td>\n",
       "      <td>other vegetables</td>\n",
       "    </tr>\n",
       "    <tr>\n",
       "      <th>7</th>\n",
       "      <td>3803</td>\n",
       "      <td>23-12-2015</td>\n",
       "      <td>bread</td>\n",
       "    </tr>\n",
       "    <tr>\n",
       "      <th>8</th>\n",
       "      <td>2762</td>\n",
       "      <td>20-03-2015</td>\n",
       "      <td>whole milk</td>\n",
       "    </tr>\n",
       "    <tr>\n",
       "      <th>9</th>\n",
       "      <td>4119</td>\n",
       "      <td>12-02-2015</td>\n",
       "      <td>tropical fruit</td>\n",
       "    </tr>\n",
       "  </tbody>\n",
       "</table>\n",
       "</div>"
      ],
      "text/plain": [
       "   Member_number        Date   itemDescription\n",
       "0           1808  21-07-2015    tropical fruit\n",
       "1           2552  05-01-2015        whole milk\n",
       "2           2300  19-09-2015         pip fruit\n",
       "3           1187  12-12-2015  other vegetables\n",
       "4           3037  01-02-2015        whole milk\n",
       "5           4941  14-02-2015        rolls/buns\n",
       "6           4501  08-05-2015  other vegetables\n",
       "7           3803  23-12-2015             bread\n",
       "8           2762  20-03-2015        whole milk\n",
       "9           4119  12-02-2015    tropical fruit"
      ]
     },
     "execution_count": 4,
     "metadata": {},
     "output_type": "execute_result"
    }
   ],
   "source": [
    "df = pd.read_csv(\"Groceries_dataset2.csv\") ## Loading dataset\n",
    "df.head(10)"
   ]
  },
  {
   "cell_type": "code",
   "execution_count": 5,
   "id": "236a7459",
   "metadata": {
    "execution": {
     "iopub.execute_input": "2022-10-02T20:48:28.621279Z",
     "iopub.status.busy": "2022-10-02T20:48:28.619845Z",
     "iopub.status.idle": "2022-10-02T20:48:28.648795Z",
     "shell.execute_reply": "2022-10-02T20:48:28.647529Z"
    },
    "papermill": {
     "duration": 0.042565,
     "end_time": "2022-10-02T20:48:28.651744",
     "exception": false,
     "start_time": "2022-10-02T20:48:28.609179",
     "status": "completed"
    },
    "tags": []
   },
   "outputs": [
    {
     "name": "stdout",
     "output_type": "stream",
     "text": [
      "<class 'pandas.core.frame.DataFrame'>\n",
      "RangeIndex: 38765 entries, 0 to 38764\n",
      "Data columns (total 3 columns):\n",
      " #   Column           Non-Null Count  Dtype \n",
      "---  ------           --------------  ----- \n",
      " 0   Member_number    38765 non-null  int64 \n",
      " 1   Date             38765 non-null  object\n",
      " 2   itemDescription  38765 non-null  object\n",
      "dtypes: int64(1), object(2)\n",
      "memory usage: 908.7+ KB\n"
     ]
    }
   ],
   "source": [
    "df.info() # Checking data type information for validation purposes"
   ]
  },
  {
   "cell_type": "markdown",
   "id": "abebfa07",
   "metadata": {
    "papermill": {
     "duration": 0.009018,
     "end_time": "2022-10-02T20:48:28.670175",
     "exception": false,
     "start_time": "2022-10-02T20:48:28.661157",
     "status": "completed"
    },
    "tags": []
   },
   "source": [
    "Interpretation: - No Null values should be present "
   ]
  },
  {
   "cell_type": "code",
   "execution_count": 6,
   "id": "efeea7be",
   "metadata": {
    "execution": {
     "iopub.execute_input": "2022-10-02T20:48:28.691612Z",
     "iopub.status.busy": "2022-10-02T20:48:28.690477Z",
     "iopub.status.idle": "2022-10-02T20:48:28.706320Z",
     "shell.execute_reply": "2022-10-02T20:48:28.705053Z"
    },
    "papermill": {
     "duration": 0.029724,
     "end_time": "2022-10-02T20:48:28.709229",
     "exception": false,
     "start_time": "2022-10-02T20:48:28.679505",
     "status": "completed"
    },
    "tags": []
   },
   "outputs": [
    {
     "data": {
      "text/plain": [
       "Member_number      0\n",
       "Date               0\n",
       "itemDescription    0\n",
       "dtype: int64"
      ]
     },
     "execution_count": 6,
     "metadata": {},
     "output_type": "execute_result"
    }
   ],
   "source": [
    "df.isnull().sum().sort_values(ascending=False) ## Checking availability of NULL values"
   ]
  },
  {
   "cell_type": "markdown",
   "id": "0e351635",
   "metadata": {
    "papermill": {
     "duration": 0.009027,
     "end_time": "2022-10-02T20:48:28.727786",
     "exception": false,
     "start_time": "2022-10-02T20:48:28.718759",
     "status": "completed"
    },
    "tags": []
   },
   "source": [
    "Note - No NULLs present"
   ]
  },
  {
   "cell_type": "markdown",
   "id": "26461c79",
   "metadata": {
    "papermill": {
     "duration": 0.00894,
     "end_time": "2022-10-02T20:48:28.746078",
     "exception": false,
     "start_time": "2022-10-02T20:48:28.737138",
     "status": "completed"
    },
    "tags": []
   },
   "source": [
    "## **Step - 3 :** Data Pre-Processing"
   ]
  },
  {
   "cell_type": "code",
   "execution_count": 7,
   "id": "da46fac7",
   "metadata": {
    "execution": {
     "iopub.execute_input": "2022-10-02T20:48:28.766826Z",
     "iopub.status.busy": "2022-10-02T20:48:28.766030Z",
     "iopub.status.idle": "2022-10-02T20:48:28.792175Z",
     "shell.execute_reply": "2022-10-02T20:48:28.790594Z"
    },
    "papermill": {
     "duration": 0.039735,
     "end_time": "2022-10-02T20:48:28.795250",
     "exception": false,
     "start_time": "2022-10-02T20:48:28.755515",
     "status": "completed"
    },
    "tags": []
   },
   "outputs": [
    {
     "name": "stdout",
     "output_type": "stream",
     "text": [
      "<class 'pandas.core.frame.DataFrame'>\n",
      "RangeIndex: 38765 entries, 0 to 38764\n",
      "Data columns (total 3 columns):\n",
      " #   Column           Non-Null Count  Dtype         \n",
      "---  ------           --------------  -----         \n",
      " 0   Member_number    38765 non-null  int64         \n",
      " 1   Date             38765 non-null  datetime64[ns]\n",
      " 2   itemDescription  38765 non-null  object        \n",
      "dtypes: datetime64[ns](1), int64(1), object(1)\n",
      "memory usage: 908.7+ KB\n"
     ]
    },
    {
     "name": "stderr",
     "output_type": "stream",
     "text": [
      "C:\\Users\\Administrator\\AppData\\Local\\Temp\\ipykernel_10980\\2319157033.py:1: UserWarning: Parsing dates in DD/MM/YYYY format when dayfirst=False (the default) was specified. This may lead to inconsistently parsed dates! Specify a format to ensure consistent parsing.\n",
      "  df['Date'] = pd.to_datetime(df['Date']) ## Type-Conversion from Object to Dateime\n"
     ]
    }
   ],
   "source": [
    "df['Date'] = pd.to_datetime(df['Date']) ## Type-Conversion from Object to Dateime\n",
    "df.info()"
   ]
  },
  {
   "cell_type": "code",
   "execution_count": 8,
   "id": "afe49413",
   "metadata": {
    "execution": {
     "iopub.execute_input": "2022-10-02T20:48:28.817137Z",
     "iopub.status.busy": "2022-10-02T20:48:28.816513Z",
     "iopub.status.idle": "2022-10-02T20:48:28.826514Z",
     "shell.execute_reply": "2022-10-02T20:48:28.825653Z"
    },
    "papermill": {
     "duration": 0.023275,
     "end_time": "2022-10-02T20:48:28.828805",
     "exception": false,
     "start_time": "2022-10-02T20:48:28.805530",
     "status": "completed"
    },
    "tags": []
   },
   "outputs": [
    {
     "data": {
      "text/html": [
       "<div>\n",
       "<style scoped>\n",
       "    .dataframe tbody tr th:only-of-type {\n",
       "        vertical-align: middle;\n",
       "    }\n",
       "\n",
       "    .dataframe tbody tr th {\n",
       "        vertical-align: top;\n",
       "    }\n",
       "\n",
       "    .dataframe thead th {\n",
       "        text-align: right;\n",
       "    }\n",
       "</style>\n",
       "<table border=\"1\" class=\"dataframe\">\n",
       "  <thead>\n",
       "    <tr style=\"text-align: right;\">\n",
       "      <th></th>\n",
       "      <th>Member_number</th>\n",
       "      <th>Date</th>\n",
       "      <th>itemDescription</th>\n",
       "    </tr>\n",
       "  </thead>\n",
       "  <tbody>\n",
       "    <tr>\n",
       "      <th>0</th>\n",
       "      <td>1808</td>\n",
       "      <td>2015-07-21</td>\n",
       "      <td>tropical fruit</td>\n",
       "    </tr>\n",
       "    <tr>\n",
       "      <th>1</th>\n",
       "      <td>2552</td>\n",
       "      <td>2015-05-01</td>\n",
       "      <td>whole milk</td>\n",
       "    </tr>\n",
       "    <tr>\n",
       "      <th>2</th>\n",
       "      <td>2300</td>\n",
       "      <td>2015-09-19</td>\n",
       "      <td>pip fruit</td>\n",
       "    </tr>\n",
       "    <tr>\n",
       "      <th>3</th>\n",
       "      <td>1187</td>\n",
       "      <td>2015-12-12</td>\n",
       "      <td>other vegetables</td>\n",
       "    </tr>\n",
       "    <tr>\n",
       "      <th>4</th>\n",
       "      <td>3037</td>\n",
       "      <td>2015-01-02</td>\n",
       "      <td>whole milk</td>\n",
       "    </tr>\n",
       "    <tr>\n",
       "      <th>5</th>\n",
       "      <td>4941</td>\n",
       "      <td>2015-02-14</td>\n",
       "      <td>rolls/buns</td>\n",
       "    </tr>\n",
       "    <tr>\n",
       "      <th>6</th>\n",
       "      <td>4501</td>\n",
       "      <td>2015-08-05</td>\n",
       "      <td>other vegetables</td>\n",
       "    </tr>\n",
       "    <tr>\n",
       "      <th>7</th>\n",
       "      <td>3803</td>\n",
       "      <td>2015-12-23</td>\n",
       "      <td>bread</td>\n",
       "    </tr>\n",
       "    <tr>\n",
       "      <th>8</th>\n",
       "      <td>2762</td>\n",
       "      <td>2015-03-20</td>\n",
       "      <td>whole milk</td>\n",
       "    </tr>\n",
       "    <tr>\n",
       "      <th>9</th>\n",
       "      <td>4119</td>\n",
       "      <td>2015-12-02</td>\n",
       "      <td>tropical fruit</td>\n",
       "    </tr>\n",
       "  </tbody>\n",
       "</table>\n",
       "</div>"
      ],
      "text/plain": [
       "   Member_number       Date   itemDescription\n",
       "0           1808 2015-07-21    tropical fruit\n",
       "1           2552 2015-05-01        whole milk\n",
       "2           2300 2015-09-19         pip fruit\n",
       "3           1187 2015-12-12  other vegetables\n",
       "4           3037 2015-01-02        whole milk\n",
       "5           4941 2015-02-14        rolls/buns\n",
       "6           4501 2015-08-05  other vegetables\n",
       "7           3803 2015-12-23             bread\n",
       "8           2762 2015-03-20        whole milk\n",
       "9           4119 2015-12-02    tropical fruit"
      ]
     },
     "execution_count": 8,
     "metadata": {},
     "output_type": "execute_result"
    }
   ],
   "source": [
    "df.head(10) ## Schema check"
   ]
  },
  {
   "cell_type": "markdown",
   "id": "7874227c",
   "metadata": {
    "papermill": {
     "duration": 0.009463,
     "end_time": "2022-10-02T20:48:28.848002",
     "exception": false,
     "start_time": "2022-10-02T20:48:28.838539",
     "status": "completed"
    },
    "tags": []
   },
   "source": [
    "## **Step - 4 :** Performing EDA (Exploratory data analysis)"
   ]
  },
  {
   "cell_type": "markdown",
   "id": "6d17cccb",
   "metadata": {
    "papermill": {
     "duration": 0.009311,
     "end_time": "2022-10-02T20:48:28.866903",
     "exception": false,
     "start_time": "2022-10-02T20:48:28.857592",
     "status": "completed"
    },
    "tags": []
   },
   "source": [
    "### **Step - 4.1 :** Top 10 Sold Items"
   ]
  },
  {
   "cell_type": "code",
   "execution_count": 9,
   "id": "e05a5950",
   "metadata": {
    "execution": {
     "iopub.execute_input": "2022-10-02T20:48:28.888961Z",
     "iopub.status.busy": "2022-10-02T20:48:28.888263Z",
     "iopub.status.idle": "2022-10-02T20:48:29.184265Z",
     "shell.execute_reply": "2022-10-02T20:48:29.182958Z"
    },
    "papermill": {
     "duration": 0.310209,
     "end_time": "2022-10-02T20:48:29.186918",
     "exception": false,
     "start_time": "2022-10-02T20:48:28.876709",
     "status": "completed"
    },
    "tags": []
   },
   "outputs": [
    {
     "data": {
      "image/png": "[encoded data removed]",
      "text/plain": [
       "<Figure size 1200x700 with 1 Axes>"
      ]
     },
     "metadata": {},
     "output_type": "display_data"
    }
   ],
   "source": [
    "## Creating distribution of Item Sold\n",
    "\n",
    "Item_distr = df.groupby(by = \"itemDescription\").size().reset_index(name='Frequency').sort_values(by = 'Frequency',ascending=False).head(7)\n",
    "\n",
    "## Declaring variables\n",
    "\n",
    "bars = Item_distr[\"itemDescription\"]\n",
    "height = Item_distr[\"Frequency\"]\n",
    "x_pos = np.arange(len(bars))\n",
    "\n",
    "## Defining Figure Size\n",
    "\n",
    "plt.figure(figsize=(12,7))\n",
    "\n",
    "# Create bars\n",
    "plt.bar(x_pos, height, color=(0.3, 0.4, 0.6, 0.6))\n",
    "\n",
    "# Add title and axis names\n",
    "plt.title(\"Top 7 Sold Items\")\n",
    "plt.xlabel(\"Item Name\")\n",
    "plt.ylabel(\"Number of Quantity Sold\")\n",
    "\n",
    "# Create names on the x-axis\n",
    "plt.xticks(x_pos, bars)\n",
    "\n",
    "# Show graph\n",
    "plt.show()\n"
   ]
  },
  {
   "cell_type": "markdown",
   "id": "6f953834",
   "metadata": {
    "papermill": {
     "duration": 0.009696,
     "end_time": "2022-10-02T20:48:29.206667",
     "exception": false,
     "start_time": "2022-10-02T20:48:29.196971",
     "status": "completed"
    },
    "tags": []
   },
   "source": [
    "### **Step - 4.2 :** Month-Year Sales"
   ]
  },
  {
   "cell_type": "code",
   "execution_count": 10,
   "id": "16cb8ca7",
   "metadata": {
    "execution": {
     "iopub.execute_input": "2022-10-02T20:48:29.228727Z",
     "iopub.status.busy": "2022-10-02T20:48:29.228040Z",
     "iopub.status.idle": "2022-10-02T20:48:29.244009Z",
     "shell.execute_reply": "2022-10-02T20:48:29.242268Z"
    },
    "papermill": {
     "duration": 0.030135,
     "end_time": "2022-10-02T20:48:29.246778",
     "exception": false,
     "start_time": "2022-10-02T20:48:29.216643",
     "status": "completed"
    },
    "tags": []
   },
   "outputs": [
    {
     "data": {
      "text/html": [
       "<div>\n",
       "<style scoped>\n",
       "    .dataframe tbody tr th:only-of-type {\n",
       "        vertical-align: middle;\n",
       "    }\n",
       "\n",
       "    .dataframe tbody tr th {\n",
       "        vertical-align: top;\n",
       "    }\n",
       "\n",
       "    .dataframe thead th {\n",
       "        text-align: right;\n",
       "    }\n",
       "</style>\n",
       "<table border=\"1\" class=\"dataframe\">\n",
       "  <thead>\n",
       "    <tr style=\"text-align: right;\">\n",
       "      <th></th>\n",
       "      <th>Member_number</th>\n",
       "      <th>itemDescription</th>\n",
       "    </tr>\n",
       "    <tr>\n",
       "      <th>Date</th>\n",
       "      <th></th>\n",
       "      <th></th>\n",
       "    </tr>\n",
       "  </thead>\n",
       "  <tbody>\n",
       "    <tr>\n",
       "      <th>2015-07-21</th>\n",
       "      <td>1808</td>\n",
       "      <td>tropical fruit</td>\n",
       "    </tr>\n",
       "    <tr>\n",
       "      <th>2015-05-01</th>\n",
       "      <td>2552</td>\n",
       "      <td>whole milk</td>\n",
       "    </tr>\n",
       "    <tr>\n",
       "      <th>2015-09-19</th>\n",
       "      <td>2300</td>\n",
       "      <td>pip fruit</td>\n",
       "    </tr>\n",
       "    <tr>\n",
       "      <th>2015-12-12</th>\n",
       "      <td>1187</td>\n",
       "      <td>other vegetables</td>\n",
       "    </tr>\n",
       "    <tr>\n",
       "      <th>2015-01-02</th>\n",
       "      <td>3037</td>\n",
       "      <td>whole milk</td>\n",
       "    </tr>\n",
       "    <tr>\n",
       "      <th>...</th>\n",
       "      <td>...</td>\n",
       "      <td>...</td>\n",
       "    </tr>\n",
       "    <tr>\n",
       "      <th>2014-08-10</th>\n",
       "      <td>4471</td>\n",
       "      <td>sliced cheese</td>\n",
       "    </tr>\n",
       "    <tr>\n",
       "      <th>2014-02-23</th>\n",
       "      <td>2022</td>\n",
       "      <td>candy</td>\n",
       "    </tr>\n",
       "    <tr>\n",
       "      <th>2014-04-16</th>\n",
       "      <td>1097</td>\n",
       "      <td>cake bar</td>\n",
       "    </tr>\n",
       "    <tr>\n",
       "      <th>2014-03-12</th>\n",
       "      <td>1510</td>\n",
       "      <td>fruit/vegetable juice</td>\n",
       "    </tr>\n",
       "    <tr>\n",
       "      <th>2014-12-26</th>\n",
       "      <td>1521</td>\n",
       "      <td>cat food</td>\n",
       "    </tr>\n",
       "  </tbody>\n",
       "</table>\n",
       "<p>38765 rows × 2 columns</p>\n",
       "</div>"
      ],
      "text/plain": [
       "            Member_number        itemDescription\n",
       "Date                                            \n",
       "2015-07-21           1808         tropical fruit\n",
       "2015-05-01           2552             whole milk\n",
       "2015-09-19           2300              pip fruit\n",
       "2015-12-12           1187       other vegetables\n",
       "2015-01-02           3037             whole milk\n",
       "...                   ...                    ...\n",
       "2014-08-10           4471          sliced cheese\n",
       "2014-02-23           2022                  candy\n",
       "2014-04-16           1097               cake bar\n",
       "2014-03-12           1510  fruit/vegetable juice\n",
       "2014-12-26           1521               cat food\n",
       "\n",
       "[38765 rows x 2 columns]"
      ]
     },
     "execution_count": 10,
     "metadata": {},
     "output_type": "execute_result"
    }
   ],
   "source": [
    "df_date=df.set_index(['Date']) ## Setting date as index for plotting purpose\n",
    "df_date"
   ]
  },
  {
   "cell_type": "code",
   "execution_count": 11,
   "id": "ee512834",
   "metadata": {
    "execution": {
     "iopub.execute_input": "2022-10-02T20:48:29.269960Z",
     "iopub.status.busy": "2022-10-02T20:48:29.269328Z",
     "iopub.status.idle": "2022-10-02T20:48:29.620332Z",
     "shell.execute_reply": "2022-10-02T20:48:29.619065Z"
    },
    "papermill": {
     "duration": 0.365639,
     "end_time": "2022-10-02T20:48:29.622891",
     "exception": false,
     "start_time": "2022-10-02T20:48:29.257252",
     "status": "completed"
    },
    "tags": []
   },
   "outputs": [
    {
     "data": {
      "text/plain": [
       "[Text(0.5, 0, 'Date'), Text(0, 0.5, 'Number of Items Sold')]"
      ]
     },
     "execution_count": 11,
     "metadata": {},
     "output_type": "execute_result"
    },
    {
     "data": {
      "image/png": "[encoded data removed]",
      "text/plain": [
       "<Figure size 2000x800 with 1 Axes>"
      ]
     },
     "metadata": {},
     "output_type": "display_data"
    }
   ],
   "source": [
    "df_date.resample(\"M\")['itemDescription'].count().plot(figsize = (20,8), grid = True, title = \"Number by Items Sold by Month\").set(xlabel = \"Date\", ylabel = \"Number of Items Sold\")"
   ]
  },
  {
   "cell_type": "markdown",
   "id": "833aadf2",
   "metadata": {
    "papermill": {
     "duration": 0.013366,
     "end_time": "2022-10-02T20:48:29.647896",
     "exception": false,
     "start_time": "2022-10-02T20:48:29.634530",
     "status": "completed"
    },
    "tags": []
   },
   "source": [
    "## **Step - 5 :** Apriori Implementation"
   ]
  },
  {
   "cell_type": "markdown",
   "id": "806b1e4f",
   "metadata": {
    "papermill": {
     "duration": 0.012017,
     "end_time": "2022-10-02T20:48:29.671916",
     "exception": false,
     "start_time": "2022-10-02T20:48:29.659899",
     "status": "completed"
    },
    "tags": []
   },
   "source": [
    "Apriori is an algorithm for frequent itemset mining and association rule learning over relational databases. It proceeds by identifying the frequent individual items in the database and extending them to larger and larger item sets as long as those item sets appear sufficiently often in the database. The frequent itemsets determined by Apriori can be used to determine association rules which highlight general trends in the database: this has applications in domains such as market basket analysis.\n",
    "\n",
    "![](https://lh4.googleusercontent.com/ODPqvTXuc6ZnqnvjcIKaVqKQvvPAV9oqqqrNWvOgJl54Iw-qBSke0UdBOqRu9i0Awj6bEfM7Jedz4f9t8zORrJwrcyQv3OWlcCvI3ZAJjUVEt-gBbvrzJr1XjXAgMqcyu9vvU3y66rkizWjJzQ)"
   ]
  },
  {
   "cell_type": "markdown",
   "id": "ec72cf7c",
   "metadata": {
    "papermill": {
     "duration": 0.011533,
     "end_time": "2022-10-02T20:48:29.695343",
     "exception": false,
     "start_time": "2022-10-02T20:48:29.683810",
     "status": "completed"
    },
    "tags": []
   },
   "source": [
    "### **Step - 5.1 :** Data Preparation"
   ]
  },
  {
   "cell_type": "code",
   "execution_count": 12,
   "id": "3ffdd8f3",
   "metadata": {
    "execution": {
     "iopub.execute_input": "2022-10-02T20:48:29.721950Z",
     "iopub.status.busy": "2022-10-02T20:48:29.720695Z",
     "iopub.status.idle": "2022-10-02T20:48:29.763301Z",
     "shell.execute_reply": "2022-10-02T20:48:29.762162Z"
    },
    "papermill": {
     "duration": 0.059497,
     "end_time": "2022-10-02T20:48:29.766388",
     "exception": false,
     "start_time": "2022-10-02T20:48:29.706891",
     "status": "completed"
    },
    "tags": []
   },
   "outputs": [
    {
     "data": {
      "text/html": [
       "<div>\n",
       "<style scoped>\n",
       "    .dataframe tbody tr th:only-of-type {\n",
       "        vertical-align: middle;\n",
       "    }\n",
       "\n",
       "    .dataframe tbody tr th {\n",
       "        vertical-align: top;\n",
       "    }\n",
       "\n",
       "    .dataframe thead th {\n",
       "        text-align: right;\n",
       "    }\n",
       "</style>\n",
       "<table border=\"1\" class=\"dataframe\">\n",
       "  <thead>\n",
       "    <tr style=\"text-align: right;\">\n",
       "      <th></th>\n",
       "      <th>Member_number</th>\n",
       "      <th>itemDescription</th>\n",
       "    </tr>\n",
       "  </thead>\n",
       "  <tbody>\n",
       "    <tr>\n",
       "      <th>3578</th>\n",
       "      <td>5000</td>\n",
       "      <td>soda</td>\n",
       "    </tr>\n",
       "    <tr>\n",
       "      <th>34885</th>\n",
       "      <td>5000</td>\n",
       "      <td>semi-finished bread</td>\n",
       "    </tr>\n",
       "    <tr>\n",
       "      <th>11728</th>\n",
       "      <td>5000</td>\n",
       "      <td>fruit/vegetable juice</td>\n",
       "    </tr>\n",
       "    <tr>\n",
       "      <th>9340</th>\n",
       "      <td>5000</td>\n",
       "      <td>bottled beer</td>\n",
       "    </tr>\n",
       "    <tr>\n",
       "      <th>19727</th>\n",
       "      <td>5000</td>\n",
       "      <td>root vegetables</td>\n",
       "    </tr>\n",
       "    <tr>\n",
       "      <th>...</th>\n",
       "      <td>...</td>\n",
       "      <td>...</td>\n",
       "    </tr>\n",
       "    <tr>\n",
       "      <th>13331</th>\n",
       "      <td>1000</td>\n",
       "      <td>whole milk</td>\n",
       "    </tr>\n",
       "    <tr>\n",
       "      <th>17778</th>\n",
       "      <td>1000</td>\n",
       "      <td>pickled vegetables</td>\n",
       "    </tr>\n",
       "    <tr>\n",
       "      <th>6388</th>\n",
       "      <td>1000</td>\n",
       "      <td>sausage</td>\n",
       "    </tr>\n",
       "    <tr>\n",
       "      <th>20992</th>\n",
       "      <td>1000</td>\n",
       "      <td>semi-finished bread</td>\n",
       "    </tr>\n",
       "    <tr>\n",
       "      <th>8395</th>\n",
       "      <td>1000</td>\n",
       "      <td>whole milk</td>\n",
       "    </tr>\n",
       "  </tbody>\n",
       "</table>\n",
       "<p>38765 rows × 2 columns</p>\n",
       "</div>"
      ],
      "text/plain": [
       "       Member_number        itemDescription\n",
       "3578            5000                   soda\n",
       "34885           5000    semi-finished bread\n",
       "11728           5000  fruit/vegetable juice\n",
       "9340            5000           bottled beer\n",
       "19727           5000        root vegetables\n",
       "...              ...                    ...\n",
       "13331           1000             whole milk\n",
       "17778           1000     pickled vegetables\n",
       "6388            1000                sausage\n",
       "20992           1000    semi-finished bread\n",
       "8395            1000             whole milk\n",
       "\n",
       "[38765 rows x 2 columns]"
      ]
     },
     "execution_count": 12,
     "metadata": {},
     "output_type": "execute_result"
    }
   ],
   "source": [
    "cust_level = df[[\"Member_number\", \"itemDescription\"]].sort_values(by = \"Member_number\", ascending = False) ## Selecting only required variables for modelling\n",
    "cust_level['itemDescription'] = cust_level['itemDescription'].str.strip() # Removing white spaces if any\n",
    "cust_level"
   ]
  },
  {
   "cell_type": "markdown",
   "id": "26bf99d6",
   "metadata": {
    "papermill": {
     "duration": 0.011168,
     "end_time": "2022-10-02T20:48:29.789351",
     "exception": false,
     "start_time": "2022-10-02T20:48:29.778183",
     "status": "completed"
    },
    "tags": []
   },
   "source": [
    "### **Step - 5.2 :** Create Transaction list"
   ]
  },
  {
   "cell_type": "code",
   "execution_count": 13,
   "id": "8c0f4624",
   "metadata": {
    "execution": {
     "iopub.execute_input": "2022-10-02T20:48:29.814232Z",
     "iopub.status.busy": "2022-10-02T20:48:29.813781Z",
     "iopub.status.idle": "2022-10-02T20:48:30.314037Z",
     "shell.execute_reply": "2022-10-02T20:48:30.312827Z"
    },
    "papermill": {
     "duration": 0.516399,
     "end_time": "2022-10-02T20:48:30.317207",
     "exception": false,
     "start_time": "2022-10-02T20:48:29.800808",
     "status": "completed"
    },
    "tags": []
   },
   "outputs": [
    {
     "name": "stderr",
     "output_type": "stream",
     "text": [
      "C:\\Users\\Administrator\\AppData\\Local\\Temp\\ipykernel_10980\\3930265692.py:1: FutureWarning: In a future version of pandas, a length 1 tuple will be returned when iterating over a groupby with a grouper equal to a list of length 1. Don't supply a list with a single grouper to avoid this warning.\n",
      "  transactions = [a[1]['itemDescription'].tolist() for a in list(cust_level.groupby(['Member_number']))] ## Combing all the items in list format for each cutomer\n"
     ]
    }
   ],
   "source": [
    "transactions = [a[1]['itemDescription'].tolist() for a in list(cust_level.groupby(['Member_number']))] ## Combing all the items in list format for each cutomer"
   ]
  },
  {
   "cell_type": "markdown",
   "id": "0b72e73a",
   "metadata": {
    "papermill": {
     "duration": 0.011178,
     "end_time": "2022-10-02T20:48:30.340010",
     "exception": false,
     "start_time": "2022-10-02T20:48:30.328832",
     "status": "completed"
    },
    "tags": []
   },
   "source": [
    "### **Step - 5.3 :** Train Model"
   ]
  },
  {
   "cell_type": "code",
   "execution_count": 14,
   "id": "43a1c5bb",
   "metadata": {
    "execution": {
     "iopub.execute_input": "2022-10-02T20:48:30.366029Z",
     "iopub.status.busy": "2022-10-02T20:48:30.365383Z",
     "iopub.status.idle": "2022-10-02T20:48:30.372061Z",
     "shell.execute_reply": "2022-10-02T20:48:30.370939Z"
    },
    "papermill": {
     "duration": 0.022824,
     "end_time": "2022-10-02T20:48:30.374670",
     "exception": false,
     "start_time": "2022-10-02T20:48:30.351846",
     "status": "completed"
    },
    "tags": []
   },
   "outputs": [],
   "source": [
    "from apyori import apriori ## Importing apriori package\n",
    "rules = apriori(transactions = transactions, min_support = 0.002, min_confidence = 0.05, min_lift = 3, min_length = 2, max_length = 3) ## Model Creation"
   ]
  },
  {
   "cell_type": "code",
   "execution_count": 15,
   "id": "b57ddf06",
   "metadata": {
    "execution": {
     "iopub.execute_input": "2022-10-02T20:48:30.400578Z",
     "iopub.status.busy": "2022-10-02T20:48:30.399864Z",
     "iopub.status.idle": "2022-10-02T20:48:30.574346Z",
     "shell.execute_reply": "2022-10-02T20:48:30.573064Z"
    },
    "papermill": {
     "duration": 0.19091,
     "end_time": "2022-10-02T20:48:30.577276",
     "exception": false,
     "start_time": "2022-10-02T20:48:30.386366",
     "status": "completed"
    },
    "tags": []
   },
   "outputs": [
    {
     "data": {
      "text/plain": [
       "[RelationRecord(items=frozenset({'kitchen towels', 'UHT-milk'}), support=0.002308876346844536, ordered_statistics=[OrderedStatistic(items_base=frozenset({'kitchen towels'}), items_add=frozenset({'UHT-milk'}), confidence=0.30000000000000004, lift=3.821568627450981)]),\n",
       " RelationRecord(items=frozenset({'potato products', 'beef'}), support=0.002565418163160595, ordered_statistics=[OrderedStatistic(items_base=frozenset({'potato products'}), items_add=frozenset({'beef'}), confidence=0.4545454545454546, lift=3.8021849395239955)]),\n",
       " RelationRecord(items=frozenset({'canned fruit', 'coffee'}), support=0.002308876346844536, ordered_statistics=[OrderedStatistic(items_base=frozenset({'canned fruit'}), items_add=frozenset({'coffee'}), confidence=0.4285714285714286, lift=3.7289540816326534)]),\n",
       " RelationRecord(items=frozenset({'domestic eggs', 'meat spreads'}), support=0.0035915854284248334, ordered_statistics=[OrderedStatistic(items_base=frozenset({'meat spreads'}), items_add=frozenset({'domestic eggs'}), confidence=0.4, lift=3.0042389210019267)]),\n",
       " RelationRecord(items=frozenset({'flour', 'mayonnaise'}), support=0.002308876346844536, ordered_statistics=[OrderedStatistic(items_base=frozenset({'flour'}), items_add=frozenset({'mayonnaise'}), confidence=0.06338028169014086, lift=3.3385991625428253), OrderedStatistic(items_base=frozenset({'mayonnaise'}), items_add=frozenset({'flour'}), confidence=0.12162162162162163, lift=3.338599162542825)]),\n",
       " RelationRecord(items=frozenset({'rice', 'napkins'}), support=0.0030785017957927143, ordered_statistics=[OrderedStatistic(items_base=frozenset({'rice'}), items_add=frozenset({'napkins'}), confidence=0.2448979591836735, lift=3.011395094315329)]),\n",
       " RelationRecord(items=frozenset({'waffles', 'sparkling wine'}), support=0.002565418163160595, ordered_statistics=[OrderedStatistic(items_base=frozenset({'sparkling wine'}), items_add=frozenset({'waffles'}), confidence=0.21739130434782608, lift=3.1501535477614353)]),\n",
       " RelationRecord(items=frozenset({'Instant food products', 'beef', 'soda'}), support=0.002052334530528476, ordered_statistics=[OrderedStatistic(items_base=frozenset({'Instant food products'}), items_add=frozenset({'beef', 'soda'}), confidence=0.13333333333333333, lift=3.112175648702595)]),\n",
       " RelationRecord(items=frozenset({'root vegetables', 'Instant food products', 'margarine'}), support=0.002565418163160595, ordered_statistics=[OrderedStatistic(items_base=frozenset({'Instant food products'}), items_add=frozenset({'root vegetables', 'margarine'}), confidence=0.16666666666666666, lift=5.4593837535014), OrderedStatistic(items_base=frozenset({'root vegetables', 'Instant food products'}), items_add=frozenset({'margarine'}), confidence=0.37037037037037035, lift=3.1729751729751725), OrderedStatistic(items_base=frozenset({'root vegetables', 'margarine'}), items_add=frozenset({'Instant food products'}), confidence=0.08403361344537814, lift=5.4593837535014)]),\n",
       " RelationRecord(items=frozenset({'Instant food products', 'margarine', 'soda'}), support=0.002052334530528476, ordered_statistics=[OrderedStatistic(items_base=frozenset({'Instant food products'}), items_add=frozenset({'margarine', 'soda'}), confidence=0.13333333333333333, lift=3.289451476793249), OrderedStatistic(items_base=frozenset({'margarine', 'soda'}), items_add=frozenset({'Instant food products'}), confidence=0.05063291139240506, lift=3.289451476793249)]),\n",
       " RelationRecord(items=frozenset({'frankfurter', 'UHT-milk', 'candy'}), support=0.002052334530528476, ordered_statistics=[OrderedStatistic(items_base=frozenset({'frankfurter', 'candy'}), items_add=frozenset({'UHT-milk'}), confidence=0.2424242424242424, lift=3.0881362646068524)]),\n",
       " RelationRecord(items=frozenset({'waffles', 'chicken', 'UHT-milk'}), support=0.002052334530528476, ordered_statistics=[OrderedStatistic(items_base=frozenset({'waffles', 'UHT-milk'}), items_add=frozenset({'chicken'}), confidence=0.31999999999999995, lift=3.18204081632653)]),\n",
       " RelationRecord(items=frozenset({'chocolate', 'UHT-milk', 'curd'}), support=0.0028219599794766545, ordered_statistics=[OrderedStatistic(items_base=frozenset({'chocolate', 'curd'}), items_add=frozenset({'UHT-milk'}), confidence=0.27499999999999997, lift=3.5031045751633982)]),\n",
       " RelationRecord(items=frozenset({'coffee', 'misc. beverages', 'UHT-milk'}), support=0.002052334530528476, ordered_statistics=[OrderedStatistic(items_base=frozenset({'misc. beverages', 'UHT-milk'}), items_add=frozenset({'coffee'}), confidence=0.47058823529411764, lift=4.09453781512605)]),\n",
       " RelationRecord(items=frozenset({'root vegetables', 'UHT-milk', 'liquor'}), support=0.002052334530528476, ordered_statistics=[OrderedStatistic(items_base=frozenset({'liquor'}), items_add=frozenset({'root vegetables', 'UHT-milk'}), confidence=0.07766990291262135, lift=3.692161970163391), OrderedStatistic(items_base=frozenset({'root vegetables', 'UHT-milk'}), items_add=frozenset({'liquor'}), confidence=0.0975609756097561, lift=3.692161970163391), OrderedStatistic(items_base=frozenset({'root vegetables', 'liquor'}), items_add=frozenset({'UHT-milk'}), confidence=0.25, lift=3.184640522875817)]),\n",
       " RelationRecord(items=frozenset({'yogurt', 'UHT-milk', 'liquor'}), support=0.002052334530528476, ordered_statistics=[OrderedStatistic(items_base=frozenset({'liquor'}), items_add=frozenset({'yogurt', 'UHT-milk'}), confidence=0.07766990291262135, lift=3.3639697950377556), OrderedStatistic(items_base=frozenset({'yogurt', 'UHT-milk'}), items_add=frozenset({'liquor'}), confidence=0.08888888888888888, lift=3.363969795037756)]),\n",
       " RelationRecord(items=frozenset({'bottled water', 'artif. sweetener', 'soda'}), support=0.002052334530528476, ordered_statistics=[OrderedStatistic(items_base=frozenset({'artif. sweetener'}), items_add=frozenset({'bottled water', 'soda'}), confidence=0.27586206896551724, lift=3.6205735516080346)]),\n",
       " RelationRecord(items=frozenset({'tropical fruit', 'artif. sweetener', 'soda'}), support=0.002308876346844536, ordered_statistics=[OrderedStatistic(items_base=frozenset({'artif. sweetener'}), items_add=frozenset({'tropical fruit', 'soda'}), confidence=0.3103448275862069, lift=3.7922386768997947)]),\n",
       " RelationRecord(items=frozenset({'baking powder', 'brown bread', 'bottled beer'}), support=0.002308876346844536, ordered_statistics=[OrderedStatistic(items_base=frozenset({'baking powder'}), items_add=frozenset({'brown bread', 'bottled beer'}), confidence=0.0743801652892562, lift=3.1514552641034856), OrderedStatistic(items_base=frozenset({'brown bread', 'bottled beer'}), items_add=frozenset({'baking powder'}), confidence=0.09782608695652174, lift=3.1514552641034856)]),\n",
       " RelationRecord(items=frozenset({'baking powder', 'chocolate', 'bottled water'}), support=0.0030785017957927143, ordered_statistics=[OrderedStatistic(items_base=frozenset({'baking powder'}), items_add=frozenset({'chocolate', 'bottled water'}), confidence=0.09917355371900827, lift=3.9446786979254513), OrderedStatistic(items_base=frozenset({'baking powder', 'bottled water'}), items_add=frozenset({'chocolate'}), confidence=0.31578947368421056, lift=3.6526628143057946), OrderedStatistic(items_base=frozenset({'baking powder', 'chocolate'}), items_add=frozenset({'bottled water'}), confidence=0.7058823529411765, lift=3.3031565567403436), OrderedStatistic(items_base=frozenset({'chocolate', 'bottled water'}), items_add=frozenset({'baking powder'}), confidence=0.12244897959183675, lift=3.944678697925452)]),\n",
       " RelationRecord(items=frozenset({'baking powder', 'margarine', 'canned beer'}), support=0.002565418163160595, ordered_statistics=[OrderedStatistic(items_base=frozenset({'baking powder'}), items_add=frozenset({'canned beer', 'margarine'}), confidence=0.08264462809917356, lift=3.3557162534435263), OrderedStatistic(items_base=frozenset({'margarine', 'canned beer'}), items_add=frozenset({'baking powder'}), confidence=0.10416666666666666, lift=3.355716253443526)]),\n",
       " RelationRecord(items=frozenset({'baking powder', 'canned beer', 'newspapers'}), support=0.002565418163160595, ordered_statistics=[OrderedStatistic(items_base=frozenset({'baking powder', 'newspapers'}), items_add=frozenset({'canned beer'}), confidence=0.5, lift=3.0263975155279503)]),\n",
       " RelationRecord(items=frozenset({'baking powder', 'curd', 'margarine'}), support=0.002052334530528476, ordered_statistics=[OrderedStatistic(items_base=frozenset({'baking powder'}), items_add=frozenset({'curd', 'margarine'}), confidence=0.06611570247933884, lift=3.579430670339761), OrderedStatistic(items_base=frozenset({'curd', 'margarine'}), items_add=frozenset({'baking powder'}), confidence=0.1111111111111111, lift=3.5794306703397614)]),\n",
       " RelationRecord(items=frozenset({'baking powder', 'domestic eggs', 'fruit/vegetable juice'}), support=0.002308876346844536, ordered_statistics=[OrderedStatistic(items_base=frozenset({'baking powder'}), items_add=frozenset({'domestic eggs', 'fruit/vegetable juice'}), confidence=0.0743801652892562, lift=3.2947032306536443), OrderedStatistic(items_base=frozenset({'baking powder', 'domestic eggs'}), items_add=frozenset({'fruit/vegetable juice'}), confidence=0.45, lift=3.6018480492813145), OrderedStatistic(items_base=frozenset({'domestic eggs', 'fruit/vegetable juice'}), items_add=frozenset({'baking powder'}), confidence=0.10227272727272729, lift=3.294703230653645)]),\n",
       " RelationRecord(items=frozenset({'baking powder', 'fruit/vegetable juice', 'whipped/sour cream'}), support=0.002052334530528476, ordered_statistics=[OrderedStatistic(items_base=frozenset({'baking powder'}), items_add=frozenset({'fruit/vegetable juice', 'whipped/sour cream'}), confidence=0.06611570247933884, lift=3.304089849544395), OrderedStatistic(items_base=frozenset({'baking powder', 'whipped/sour cream'}), items_add=frozenset({'fruit/vegetable juice'}), confidence=0.39999999999999997, lift=3.201642710472279), OrderedStatistic(items_base=frozenset({'fruit/vegetable juice', 'whipped/sour cream'}), items_add=frozenset({'baking powder'}), confidence=0.10256410256410255, lift=3.3040898495443947)]),\n",
       " RelationRecord(items=frozenset({'baking powder', 'rolls/buns', 'hygiene articles'}), support=0.002052334530528476, ordered_statistics=[OrderedStatistic(items_base=frozenset({'baking powder', 'rolls/buns'}), items_add=frozenset({'hygiene articles'}), confidence=0.16666666666666666, lift=3.184640522875817)]),\n",
       " RelationRecord(items=frozenset({'baking powder', 'pastry', 'margarine'}), support=0.002565418163160595, ordered_statistics=[OrderedStatistic(items_base=frozenset({'baking powder'}), items_add=frozenset({'pastry', 'margarine'}), confidence=0.08264462809917356, lift=3.5794306703397614), OrderedStatistic(items_base=frozenset({'pastry', 'margarine'}), items_add=frozenset({'baking powder'}), confidence=0.1111111111111111, lift=3.5794306703397614)]),\n",
       " RelationRecord(items=frozenset({'baking powder', 'specialty bar', 'other vegetables'}), support=0.002308876346844536, ordered_statistics=[OrderedStatistic(items_base=frozenset({'baking powder'}), items_add=frozenset({'specialty bar', 'other vegetables'}), confidence=0.0743801652892562, lift=3.051935624184428), OrderedStatistic(items_base=frozenset({'specialty bar', 'other vegetables'}), items_add=frozenset({'baking powder'}), confidence=0.09473684210526316, lift=3.0519356241844284)]),\n",
       " RelationRecord(items=frozenset({'baking powder', 'specialty bar', 'pork'}), support=0.002052334530528476, ordered_statistics=[OrderedStatistic(items_base=frozenset({'baking powder'}), items_add=frozenset({'pork', 'specialty bar'}), confidence=0.06611570247933884, lift=7.57997083130773), OrderedStatistic(items_base=frozenset({'baking powder', 'pork'}), items_add=frozenset({'specialty bar'}), confidence=0.38095238095238093, lift=7.243670150987223), OrderedStatistic(items_base=frozenset({'baking powder', 'specialty bar'}), items_add=frozenset({'pork'}), confidence=0.6666666666666666, lift=5.036175710594315), OrderedStatistic(items_base=frozenset({'pork', 'specialty bar'}), items_add=frozenset({'baking powder'}), confidence=0.23529411764705882, lift=7.57997083130773)]),\n",
       " RelationRecord(items=frozenset({'chocolate', 'beef', 'berries'}), support=0.0028219599794766545, ordered_statistics=[OrderedStatistic(items_base=frozenset({'chocolate', 'berries'}), items_add=frozenset({'beef'}), confidence=0.36666666666666664, lift=3.0670958512160227)]),\n",
       " RelationRecord(items=frozenset({'beverages', 'beef', 'chocolate'}), support=0.002565418163160595, ordered_statistics=[OrderedStatistic(items_base=frozenset({'beverages', 'beef'}), items_add=frozenset({'chocolate'}), confidence=0.28571428571428575, lift=3.3047901653242904), OrderedStatistic(items_base=frozenset({'chocolate', 'beverages'}), items_add=frozenset({'beef'}), confidence=0.41666666666666663, lift=3.4853361945636623)]),\n",
       " RelationRecord(items=frozenset({'beef', 'detergent', 'bottled water'}), support=0.002565418163160595, ordered_statistics=[OrderedStatistic(items_base=frozenset({'detergent'}), items_add=frozenset({'beef', 'bottled water'}), confidence=0.07874015748031496, lift=3.038902315428393), OrderedStatistic(items_base=frozenset({'beef', 'bottled water'}), items_add=frozenset({'detergent'}), confidence=0.099009900990099, lift=3.038902315428393)]),\n",
       " RelationRecord(items=frozenset({'beef', 'soft cheese', 'bottled water'}), support=0.0033350436121087736, ordered_statistics=[OrderedStatistic(items_base=frozenset({'soft cheese'}), items_add=frozenset({'beef', 'bottled water'}), confidence=0.08843537414965986, lift=3.413080083518556), OrderedStatistic(items_base=frozenset({'beef', 'bottled water'}), items_add=frozenset({'soft cheese'}), confidence=0.12871287128712872, lift=3.4130800835185564)]),\n",
       " RelationRecord(items=frozenset({'shopping bags', 'beef', 'butter milk'}), support=0.004104669061056952, ordered_statistics=[OrderedStatistic(items_base=frozenset({'butter milk'}), items_add=frozenset({'beef', 'shopping bags'}), confidence=0.06324110671936758, lift=3.2436030788433534), OrderedStatistic(items_base=frozenset({'beef', 'shopping bags'}), items_add=frozenset({'butter milk'}), confidence=0.2105263157894737, lift=3.243603078843354)]),\n",
       " RelationRecord(items=frozenset({'canned beer', 'beef', 'soft cheese'}), support=0.002308876346844536, ordered_statistics=[OrderedStatistic(items_base=frozenset({'soft cheese'}), items_add=frozenset({'beef', 'canned beer'}), confidence=0.06122448979591837, lift=3.2692200167738332), OrderedStatistic(items_base=frozenset({'canned beer', 'beef'}), items_add=frozenset({'soft cheese'}), confidence=0.12328767123287672, lift=3.2692200167738332)]),\n",
       " RelationRecord(items=frozenset({'chocolate', 'beef', 'grapes'}), support=0.002308876346844536, ordered_statistics=[OrderedStatistic(items_base=frozenset({'beef', 'grapes'}), items_add=frozenset({'chocolate'}), confidence=0.2647058823529412, lift=3.06179088846221), OrderedStatistic(items_base=frozenset({'chocolate', 'grapes'}), items_add=frozenset({'beef'}), confidence=0.391304347826087, lift=3.273185295764135)]),\n",
       " RelationRecord(items=frozenset({'oil', 'chocolate', 'beef'}), support=0.002308876346844536, ordered_statistics=[OrderedStatistic(items_base=frozenset({'oil', 'beef'}), items_add=frozenset({'chocolate'}), confidence=0.2727272727272727, lift=3.154572430536822)]),\n",
       " RelationRecord(items=frozenset({'curd', 'beef', 'processed cheese'}), support=0.002308876346844536, ordered_statistics=[OrderedStatistic(items_base=frozenset({'processed cheese'}), items_add=frozenset({'curd', 'beef'}), confidence=0.060000000000000005, lift=3.4907462686567166), OrderedStatistic(items_base=frozenset({'curd', 'beef'}), items_add=frozenset({'processed cheese'}), confidence=0.13432835820895522, lift=3.4907462686567166), OrderedStatistic(items_base=frozenset({'beef', 'processed cheese'}), items_add=frozenset({'curd'}), confidence=0.4285714285714286, lift=3.546860782529573), OrderedStatistic(items_base=frozenset({'curd', 'processed cheese'}), items_add=frozenset({'beef'}), confidence=0.36, lift=3.0113304721030043)]),\n",
       " RelationRecord(items=frozenset({'beef', 'instant coffee', 'other vegetables'}), support=0.002308876346844536, ordered_statistics=[OrderedStatistic(items_base=frozenset({'instant coffee'}), items_add=frozenset({'beef', 'other vegetables'}), confidence=0.15254237288135594, lift=3.0030816640986138)]),\n",
       " RelationRecord(items=frozenset({'long life bakery product', 'meat', 'beef'}), support=0.002052334530528476, ordered_statistics=[OrderedStatistic(items_base=frozenset({'long life bakery product', 'beef'}), items_add=frozenset({'meat'}), confidence=0.25, lift=3.9294354838709675), OrderedStatistic(items_base=frozenset({'meat', 'beef'}), items_add=frozenset({'long life bakery product'}), confidence=0.2424242424242424, lift=3.705763517528223)]),\n",
       " RelationRecord(items=frozenset({'pork', 'oil', 'beef'}), support=0.0030785017957927143, ordered_statistics=[OrderedStatistic(items_base=frozenset({'oil'}), items_add=frozenset({'pork', 'beef'}), confidence=0.05529953917050691, lift=3.036022587135718), OrderedStatistic(items_base=frozenset({'pork', 'beef'}), items_add=frozenset({'oil'}), confidence=0.16901408450704228, lift=3.036022587135718)]),\n",
       " RelationRecord(items=frozenset({'soft cheese', 'berries', 'bottled beer'}), support=0.002052334530528476, ordered_statistics=[OrderedStatistic(items_base=frozenset({'soft cheese'}), items_add=frozenset({'berries', 'bottled beer'}), confidence=0.05442176870748299, lift=3.2636316064887496), OrderedStatistic(items_base=frozenset({'berries', 'bottled beer'}), items_add=frozenset({'soft cheese'}), confidence=0.12307692307692308, lift=3.2636316064887496), OrderedStatistic(items_base=frozenset({'soft cheese', 'bottled beer'}), items_add=frozenset({'berries'}), confidence=0.26666666666666666, lift=3.3423365487674173)]),\n",
       " RelationRecord(items=frozenset({'whole milk', 'berries', 'dish cleaner'}), support=0.002308876346844536, ordered_statistics=[OrderedStatistic(items_base=frozenset({'dish cleaner'}), items_add=frozenset({'whole milk', 'berries'}), confidence=0.12328767123287672, lift=3.1410153102336826), OrderedStatistic(items_base=frozenset({'whole milk', 'berries'}), items_add=frozenset({'dish cleaner'}), confidence=0.05882352941176471, lift=3.1410153102336826)]),\n",
       " RelationRecord(items=frozenset({'frankfurter', 'berries', 'ham'}), support=0.002565418163160595, ordered_statistics=[OrderedStatistic(items_base=frozenset({'frankfurter', 'berries'}), items_add=frozenset({'ham'}), confidence=0.23255813953488372, lift=3.6700875623764238), OrderedStatistic(items_base=frozenset({'frankfurter', 'ham'}), items_add=frozenset({'berries'}), confidence=0.24390243902439027, lift=3.05701513606776)]),\n",
       " RelationRecord(items=frozenset({'berries', 'newspapers', 'frozen meals'}), support=0.002308876346844536, ordered_statistics=[OrderedStatistic(items_base=frozenset({'berries', 'frozen meals'}), items_add=frozenset({'newspapers'}), confidence=0.5, lift=3.5761467889908256)]),\n",
       " RelationRecord(items=frozenset({'pork', 'berries', 'ham'}), support=0.002052334530528476, ordered_statistics=[OrderedStatistic(items_base=frozenset({'pork', 'ham'}), items_add=frozenset({'berries'}), confidence=0.27586206896551724, lift=3.4575895332076727)]),\n",
       " RelationRecord(items=frozenset({'beverages', 'bottled beer', 'butter milk'}), support=0.002308876346844536, ordered_statistics=[OrderedStatistic(items_base=frozenset({'beverages', 'bottled beer'}), items_add=frozenset({'butter milk'}), confidence=0.23076923076923078, lift=3.5554879902705996), OrderedStatistic(items_base=frozenset({'bottled beer', 'butter milk'}), items_add=frozenset({'beverages'}), confidence=0.23076923076923078, lift=3.7171010807374447)]),\n",
       " RelationRecord(items=frozenset({'butter', 'beverages', 'butter milk'}), support=0.002565418163160595, ordered_statistics=[OrderedStatistic(items_base=frozenset({'butter', 'beverages'}), items_add=frozenset({'butter milk'}), confidence=0.29411764705882354, lift=4.531504301325274), OrderedStatistic(items_base=frozenset({'butter', 'butter milk'}), items_add=frozenset({'beverages'}), confidence=0.2564102564102564, lift=4.130112311930493)]),\n",
       " RelationRecord(items=frozenset({'pastry', 'beverages', 'butter milk'}), support=0.002565418163160595, ordered_statistics=[OrderedStatistic(items_base=frozenset({'pastry', 'beverages'}), items_add=frozenset({'butter milk'}), confidence=0.21739130434782608, lift=3.3493727444578107)]),\n",
       " RelationRecord(items=frozenset({'canned beer', 'meat', 'beverages'}), support=0.0030785017957927143, ordered_statistics=[OrderedStatistic(items_base=frozenset({'canned beer', 'beverages'}), items_add=frozenset({'meat'}), confidence=0.27906976744186046, lift=4.3863465866466615), OrderedStatistic(items_base=frozenset({'meat', 'canned beer'}), items_add=frozenset({'beverages'}), confidence=0.20338983050847456, lift=3.276089088107578)]),\n",
       " RelationRecord(items=frozenset({'white bread', 'beverages', 'citrus fruit'}), support=0.0028219599794766545, ordered_statistics=[OrderedStatistic(items_base=frozenset({'beverages', 'citrus fruit'}), items_add=frozenset({'white bread'}), confidence=0.2682926829268293, lift=3.022557451008036)]),\n",
       " RelationRecord(items=frozenset({'domestic eggs', 'meat', 'beverages'}), support=0.002052334530528476, ordered_statistics=[OrderedStatistic(items_base=frozenset({'domestic eggs', 'beverages'}), items_add=frozenset({'meat'}), confidence=0.2222222222222222, lift=3.4928315412186377)]),\n",
       " RelationRecord(items=frozenset({'pastry', 'oil', 'beverages'}), support=0.002052334530528476, ordered_statistics=[OrderedStatistic(items_base=frozenset({'pastry', 'beverages'}), items_add=frozenset({'oil'}), confidence=0.17391304347826086, lift=3.124023241835303)]),\n",
       " RelationRecord(items=frozenset({'pork', 'oil', 'beverages'}), support=0.002052334530528476, ordered_statistics=[OrderedStatistic(items_base=frozenset({'pork', 'beverages'}), items_add=frozenset({'oil'}), confidence=0.2051282051282051, lift=3.6847453621647164)]),\n",
       " RelationRecord(items=frozenset({'oil', 'rolls/buns', 'beverages'}), support=0.0038481272447408927, ordered_statistics=[OrderedStatistic(items_base=frozenset({'beverages'}), items_add=frozenset({'oil', 'rolls/buns'}), confidence=0.06198347107438017, lift=3.058374306935872), OrderedStatistic(items_base=frozenset({'oil', 'rolls/buns'}), items_add=frozenset({'beverages'}), confidence=0.18987341772151897, lift=3.058374306935872)]),\n",
       " RelationRecord(items=frozenset({'sugar', 'beverages', 'sausage'}), support=0.0033350436121087736, ordered_statistics=[OrderedStatistic(items_base=frozenset({'sugar'}), items_add=frozenset({'beverages', 'sausage'}), confidence=0.05058365758754863, lift=3.3419508012926196), OrderedStatistic(items_base=frozenset({'beverages', 'sausage'}), items_add=frozenset({'sugar'}), confidence=0.22033898305084745, lift=3.34195080129262)]),\n",
       " RelationRecord(items=frozenset({'bottled water', 'mustard', 'bottled beer'}), support=0.002052334530528476, ordered_statistics=[OrderedStatistic(items_base=frozenset({'bottled water', 'mustard'}), items_add=frozenset({'bottled beer'}), confidence=0.5, lift=3.1537216828478964)]),\n",
       " RelationRecord(items=frozenset({'canned beer', 'bottled beer', 'canned vegetables'}), support=0.002308876346844536, ordered_statistics=[OrderedStatistic(items_base=frozenset({'canned vegetables'}), items_add=frozenset({'canned beer', 'bottled beer'}), confidence=0.1125, lift=3.780387931034483), OrderedStatistic(items_base=frozenset({'canned beer', 'bottled beer'}), items_add=frozenset({'canned vegetables'}), confidence=0.07758620689655173, lift=3.780387931034483)]),\n",
       " RelationRecord(items=frozenset({'cat food', 'onions', 'bottled beer'}), support=0.002052334530528476, ordered_statistics=[OrderedStatistic(items_base=frozenset({'onions', 'bottled beer'}), items_add=frozenset({'cat food'}), confidence=0.13793103448275862, lift=3.144182294817503)]),\n",
       " RelationRecord(items=frozenset({'cleaner', 'whole milk', 'bottled beer'}), support=0.002308876346844536, ordered_statistics=[OrderedStatistic(items_base=frozenset({'cleaner'}), items_add=frozenset({'whole milk', 'bottled beer'}), confidence=0.2903225806451613, lift=3.4086669257675863), OrderedStatistic(items_base=frozenset({'cleaner', 'whole milk'}), items_add=frozenset({'bottled beer'}), confidence=0.5, lift=3.1537216828478964)]),\n",
       " RelationRecord(items=frozenset({'cream cheese', 'red/blush wine', 'bottled beer'}), support=0.002052334530528476, ordered_statistics=[OrderedStatistic(items_base=frozenset({'red/blush wine', 'bottled beer'}), items_add=frozenset({'cream cheese'}), confidence=0.26666666666666666, lift=3.0129468599033817)]),\n",
       " RelationRecord(items=frozenset({'sausage', 'dog food', 'bottled beer'}), support=0.002308876346844536, ordered_statistics=[OrderedStatistic(items_base=frozenset({'dog food'}), items_add=frozenset({'sausage', 'bottled beer'}), confidence=0.13432835820895522, lift=3.4000775344058924), OrderedStatistic(items_base=frozenset({'sausage', 'bottled beer'}), items_add=frozenset({'dog food'}), confidence=0.05844155844155844, lift=3.4000775344058924)]),\n",
       " RelationRecord(items=frozenset({'ice cream', 'hygiene articles', 'bottled beer'}), support=0.002052334530528476, ordered_statistics=[OrderedStatistic(items_base=frozenset({'hygiene articles', 'bottled beer'}), items_add=frozenset({'ice cream'}), confidence=0.18604651162790697, lift=3.296405919661734), OrderedStatistic(items_base=frozenset({'ice cream', 'bottled beer'}), items_add=frozenset({'hygiene articles'}), confidence=0.19047619047619047, lift=3.6395891690009337)]),\n",
       " RelationRecord(items=frozenset({'ice cream', 'oil', 'bottled beer'}), support=0.002308876346844536, ordered_statistics=[OrderedStatistic(items_base=frozenset({'ice cream', 'bottled beer'}), items_add=frozenset({'oil'}), confidence=0.2142857142857143, lift=3.849242922975642), OrderedStatistic(items_base=frozenset({'oil', 'bottled beer'}), items_add=frozenset({'ice cream'}), confidence=0.19148936170212766, lift=3.39284332688588)]),\n",
       " RelationRecord(items=frozenset({'long life bakery product', 'meat', 'bottled beer'}), support=0.002052334530528476, ordered_statistics=[OrderedStatistic(items_base=frozenset({'meat', 'bottled beer'}), items_add=frozenset({'long life bakery product'}), confidence=0.19999999999999998, lift=3.057254901960784)]),\n",
       " RelationRecord(items=frozenset({'specialty chocolate', 'long life bakery product', 'bottled beer'}), support=0.002308876346844536, ordered_statistics=[OrderedStatistic(items_base=frozenset({'long life bakery product', 'bottled beer'}), items_add=frozenset({'specialty chocolate'}), confidence=0.1875, lift=3.205592105263158), OrderedStatistic(items_base=frozenset({'specialty chocolate', 'bottled beer'}), items_add=frozenset({'long life bakery product'}), confidence=0.20930232558139536, lift=3.199452804377565)]),\n",
       " RelationRecord(items=frozenset({'specialty cheese', 'tropical fruit', 'bottled beer'}), support=0.002565418163160595, ordered_statistics=[OrderedStatistic(items_base=frozenset({'specialty cheese'}), items_add=frozenset({'tropical fruit', 'bottled beer'}), confidence=0.14084507042253522, lift=3.2875094880661218), OrderedStatistic(items_base=frozenset({'tropical fruit', 'bottled beer'}), items_add=frozenset({'specialty cheese'}), confidence=0.059880239520958084, lift=3.2875094880661218)]),\n",
       " RelationRecord(items=frozenset({'chicken', 'bottled water', 'white wine'}), support=0.002565418163160595, ordered_statistics=[OrderedStatistic(items_base=frozenset({'bottled water', 'white wine'}), items_add=frozenset({'chicken'}), confidence=0.303030303030303, lift=3.0132962275819417)]),\n",
       " RelationRecord(items=frozenset({'fruit/vegetable juice', 'condensed milk', 'bottled water'}), support=0.002052334530528476, ordered_statistics=[OrderedStatistic(items_base=frozenset({'condensed milk'}), items_add=frozenset({'fruit/vegetable juice', 'bottled water'}), confidence=0.08602150537634408, lift=3.1934459805427546), OrderedStatistic(items_base=frozenset({'fruit/vegetable juice', 'bottled water'}), items_add=frozenset({'condensed milk'}), confidence=0.0761904761904762, lift=3.193445980542755)]),\n",
       " RelationRecord(items=frozenset({'curd cheese', 'pastry', 'bottled water'}), support=0.002308876346844536, ordered_statistics=[OrderedStatistic(items_base=frozenset({'curd cheese'}), items_add=frozenset({'pastry', 'bottled water'}), confidence=0.1956521739130435, lift=4.48618925831202), OrderedStatistic(items_base=frozenset({'pastry', 'bottled water'}), items_add=frozenset({'curd cheese'}), confidence=0.05294117647058824, lift=4.486189258312021), OrderedStatistic(items_base=frozenset({'curd cheese', 'pastry'}), items_add=frozenset({'bottled water'}), confidence=0.75, lift=3.5096038415366144)]),\n",
       " RelationRecord(items=frozenset({'specialty cheese', 'frankfurter', 'bottled water'}), support=0.002052334530528476, ordered_statistics=[OrderedStatistic(items_base=frozenset({'specialty cheese', 'bottled water'}), items_add=frozenset({'frankfurter'}), confidence=0.5333333333333333, lift=3.8858566978193148)]),\n",
       " RelationRecord(items=frozenset({'white bread', 'bottled water', 'mayonnaise'}), support=0.002052334530528476, ordered_statistics=[OrderedStatistic(items_base=frozenset({'mayonnaise'}), items_add=frozenset({'white bread', 'bottled water'}), confidence=0.1081081081081081, lift=5.077173559101269), OrderedStatistic(items_base=frozenset({'bottled water', 'mayonnaise'}), items_add=frozenset({'white bread'}), confidence=0.38095238095238093, lift=4.291769887145609), OrderedStatistic(items_base=frozenset({'white bread', 'bottled water'}), items_add=frozenset({'mayonnaise'}), confidence=0.09638554216867469, lift=5.077173559101269), OrderedStatistic(items_base=frozenset({'white bread', 'mayonnaise'}), items_add=frozenset({'bottled water'}), confidence=0.7272727272727273, lift=3.403252209974899)]),\n",
       " RelationRecord(items=frozenset({'specialty chocolate', 'misc. beverages', 'bottled water'}), support=0.002308876346844536, ordered_statistics=[OrderedStatistic(items_base=frozenset({'misc. beverages', 'bottled water'}), items_add=frozenset({'specialty chocolate'}), confidence=0.1956521739130435, lift=3.3449656750572085)]),\n",
       " RelationRecord(items=frozenset({'spices', 'rolls/buns', 'bottled water'}), support=0.0028219599794766545, ordered_statistics=[OrderedStatistic(items_base=frozenset({'spices'}), items_add=frozenset({'rolls/buns', 'bottled water'}), confidence=0.282051282051282, lift=3.5580449755207026)]),\n",
       " RelationRecord(items=frozenset({'specialty bar', 'bottled water', 'sugar'}), support=0.0030785017957927143, ordered_statistics=[OrderedStatistic(items_base=frozenset({'specialty bar', 'bottled water'}), items_add=frozenset({'sugar'}), confidence=0.2105263157894737, lift=3.1931189842310053)]),\n",
       " RelationRecord(items=frozenset({'rolls/buns', 'brandy', 'shopping bags'}), support=0.002052334530528476, ordered_statistics=[OrderedStatistic(items_base=frozenset({'brandy'}), items_add=frozenset({'rolls/buns', 'shopping bags'}), confidence=0.2105263157894737, lift=3.0620581304006285), OrderedStatistic(items_base=frozenset({'rolls/buns', 'brandy'}), items_add=frozenset({'shopping bags'}), confidence=0.6153846153846154, lift=3.656660412757974)]),\n",
       " RelationRecord(items=frozenset({'brown bread', 'frankfurter', 'bread'}), support=0.002052334530528476, ordered_statistics=[OrderedStatistic(items_base=frozenset({'bread'}), items_add=frozenset({'brown bread', 'frankfurter'}), confidence=0.06837606837606837, lift=3.063562235976029), OrderedStatistic(items_base=frozenset({'brown bread', 'frankfurter'}), items_add=frozenset({'bread'}), confidence=0.09195402298850575, lift=3.063562235976029)]),\n",
       " RelationRecord(items=frozenset({'domestic eggs', 'bread', 'citrus fruit'}), support=0.002308876346844536, ordered_statistics=[OrderedStatistic(items_base=frozenset({'bread'}), items_add=frozenset({'domestic eggs', 'citrus fruit'}), confidence=0.07692307692307693, lift=3.1898527004909982), OrderedStatistic(items_base=frozenset({'domestic eggs', 'bread'}), items_add=frozenset({'citrus fruit'}), confidence=0.6428571428571429, lift=3.4707162643450737), OrderedStatistic(items_base=frozenset({'domestic eggs', 'citrus fruit'}), items_add=frozenset({'bread'}), confidence=0.09574468085106383, lift=3.1898527004909982)]),\n",
       " RelationRecord(items=frozenset({'fruit/vegetable juice', 'bread', 'citrus fruit'}), support=0.002565418163160595, ordered_statistics=[OrderedStatistic(items_base=frozenset({'bread'}), items_add=frozenset({'fruit/vegetable juice', 'citrus fruit'}), confidence=0.08547008547008547, lift=3.143041444928237), OrderedStatistic(items_base=frozenset({'fruit/vegetable juice', 'citrus fruit'}), items_add=frozenset({'bread'}), confidence=0.09433962264150943, lift=3.143041444928237)]),\n",
       " RelationRecord(items=frozenset({'hygiene articles', 'bread', 'other vegetables'}), support=0.002052334530528476, ordered_statistics=[OrderedStatistic(items_base=frozenset({'bread'}), items_add=frozenset({'hygiene articles', 'other vegetables'}), confidence=0.06837606837606837, lift=3.028749028749029), OrderedStatistic(items_base=frozenset({'hygiene articles', 'other vegetables'}), items_add=frozenset({'bread'}), confidence=0.09090909090909091, lift=3.028749028749029)]),\n",
       " RelationRecord(items=frozenset({'pip fruit', 'sausage', 'bread'}), support=0.0038481272447408927, ordered_statistics=[OrderedStatistic(items_base=frozenset({'bread'}), items_add=frozenset({'pip fruit', 'sausage'}), confidence=0.1282051282051282, lift=3.0472170106316447), OrderedStatistic(items_base=frozenset({'pip fruit', 'sausage'}), items_add=frozenset({'bread'}), confidence=0.09146341463414635, lift=3.047217010631645)]),\n",
       " RelationRecord(items=frozenset({'butter', 'brown bread', 'chewing gum'}), support=0.002308876346844536, ordered_statistics=[OrderedStatistic(items_base=frozenset({'brown bread', 'chewing gum'}), items_add=frozenset({'butter'}), confidence=0.391304347826087, lift=3.0876606231297306)]),\n",
       " RelationRecord(items=frozenset({'brown bread', 'canned beer', 'canned vegetables'}), support=0.002052334530528476, ordered_statistics=[OrderedStatistic(items_base=frozenset({'canned vegetables'}), items_add=frozenset({'brown bread', 'canned beer'}), confidence=0.09999999999999999, lift=3.3316239316239313), OrderedStatistic(items_base=frozenset({'brown bread', 'canned beer'}), items_add=frozenset({'canned vegetables'}), confidence=0.06837606837606837, lift=3.3316239316239313), OrderedStatistic(items_base=frozenset({'brown bread', 'canned vegetables'}), items_add=frozenset({'canned beer'}), confidence=0.6666666666666666, lift=4.0351966873705996)]),\n",
       " RelationRecord(items=frozenset({'brown bread', 'spread cheese', 'canned beer'}), support=0.002308876346844536, ordered_statistics=[OrderedStatistic(items_base=frozenset({'spread cheese'}), items_add=frozenset({'brown bread', 'canned beer'}), confidence=0.09183673469387756, lift=3.0596546310832027), OrderedStatistic(items_base=frozenset({'brown bread', 'canned beer'}), items_add=frozenset({'spread cheese'}), confidence=0.07692307692307693, lift=3.0596546310832027), OrderedStatistic(items_base=frozenset({'spread cheese', 'canned beer'}), items_add=frozenset({'brown bread'}), confidence=0.45, lift=3.309622641509434)]),\n",
       " RelationRecord(items=frozenset({'cat food', 'brown bread', 'dessert'}), support=0.002052334530528476, ordered_statistics=[OrderedStatistic(items_base=frozenset({'cat food', 'dessert'}), items_add=frozenset({'brown bread'}), confidence=0.4210526315789474, lift=3.096722939424032)]),\n",
       " RelationRecord(items=frozenset({'cat food', 'brown bread', 'white bread'}), support=0.002308876346844536, ordered_statistics=[OrderedStatistic(items_base=frozenset({'cat food'}), items_add=frozenset({'brown bread', 'white bread'}), confidence=0.05263157894736842, lift=3.2564745196324143), OrderedStatistic(items_base=frozenset({'cat food', 'brown bread'}), items_add=frozenset({'white bread'}), confidence=0.2903225806451613, lift=3.2707439865746784), OrderedStatistic(items_base=frozenset({'brown bread', 'white bread'}), items_add=frozenset({'cat food'}), confidence=0.14285714285714288, lift=3.2564745196324147)]),\n",
       " RelationRecord(items=frozenset({'brown bread', 'coffee', 'ice cream'}), support=0.002565418163160595, ordered_statistics=[OrderedStatistic(items_base=frozenset({'brown bread', 'ice cream'}), items_add=frozenset({'coffee'}), confidence=0.3448275862068966, lift=3.000307881773399)]),\n",
       " RelationRecord(items=frozenset({'brown bread', 'spread cheese', 'dessert'}), support=0.002052334530528476, ordered_statistics=[OrderedStatistic(items_base=frozenset({'spread cheese'}), items_add=frozenset({'brown bread', 'dessert'}), confidence=0.08163265306122448, lift=4.679471788715486), OrderedStatistic(items_base=frozenset({'brown bread', 'dessert'}), items_add=frozenset({'spread cheese'}), confidence=0.11764705882352941, lift=4.679471788715486), OrderedStatistic(items_base=frozenset({'brown bread', 'spread cheese'}), items_add=frozenset({'dessert'}), confidence=0.38095238095238093, lift=4.406386887099053), OrderedStatistic(items_base=frozenset({'spread cheese', 'dessert'}), items_add=frozenset({'brown bread'}), confidence=0.47058823529411764, lift=3.4610432852386235)]),\n",
       " RelationRecord(items=frozenset({'brown bread', 'fruit/vegetable juice', 'flour'}), support=0.002308876346844536, ordered_statistics=[OrderedStatistic(items_base=frozenset({'flour'}), items_add=frozenset({'brown bread', 'fruit/vegetable juice'}), confidence=0.06338028169014086, lift=3.0128821710752325), OrderedStatistic(items_base=frozenset({'brown bread', 'fruit/vegetable juice'}), items_add=frozenset({'flour'}), confidence=0.10975609756097562, lift=3.0128821710752325), OrderedStatistic(items_base=frozenset({'fruit/vegetable juice', 'flour'}), items_add=frozenset({'brown bread'}), confidence=0.5625000000000001, lift=4.137028301886793)]),\n",
       " RelationRecord(items=frozenset({'brown bread', 'long life bakery product', 'frozen meals'}), support=0.002308876346844536, ordered_statistics=[OrderedStatistic(items_base=frozenset({'brown bread', 'frozen meals'}), items_add=frozenset({'long life bakery product'}), confidence=0.20930232558139536, lift=3.199452804377565), OrderedStatistic(items_base=frozenset({'brown bread', 'long life bakery product'}), items_add=frozenset({'frozen meals'}), confidence=0.25, lift=3.977551020408163)]),\n",
       " RelationRecord(items=frozenset({'brown bread', 'meat', 'hygiene articles'}), support=0.002052334530528476, ordered_statistics=[OrderedStatistic(items_base=frozenset({'brown bread', 'hygiene articles'}), items_add=frozenset({'meat'}), confidence=0.26666666666666666, lift=4.191397849462366), OrderedStatistic(items_base=frozenset({'brown bread', 'meat'}), items_add=frozenset({'hygiene articles'}), confidence=0.18181818181818182, lift=3.4741532976827094), OrderedStatistic(items_base=frozenset({'meat', 'hygiene articles'}), items_add=frozenset({'brown bread'}), confidence=0.47058823529411764, lift=3.4610432852386235)]),\n",
       " RelationRecord(items=frozenset({'brown bread', 'long life bakery product', 'meat'}), support=0.002052334530528476, ordered_statistics=[OrderedStatistic(items_base=frozenset({'brown bread', 'long life bakery product'}), items_add=frozenset({'meat'}), confidence=0.2222222222222222, lift=3.4928315412186377)]),\n",
       " RelationRecord(items=frozenset({'brown bread', 'specialty bar', 'meat'}), support=0.002052334530528476, ordered_statistics=[OrderedStatistic(items_base=frozenset({'brown bread', 'meat'}), items_add=frozenset({'specialty bar'}), confidence=0.18181818181818182, lift=3.4572062084257205), OrderedStatistic(items_base=frozenset({'brown bread', 'specialty bar'}), items_add=frozenset({'meat'}), confidence=0.3076923076923077, lift=4.836228287841191), OrderedStatistic(items_base=frozenset({'specialty bar', 'meat'}), items_add=frozenset({'brown bread'}), confidence=0.4210526315789474, lift=3.096722939424032)]),\n",
       " RelationRecord(items=frozenset({'brown bread', 'misc. beverages', 'onions'}), support=0.002308876346844536, ordered_statistics=[OrderedStatistic(items_base=frozenset({'brown bread', 'onions'}), items_add=frozenset({'misc. beverages'}), confidence=0.19148936170212766, lift=3.2453283996299724)]),\n",
       " RelationRecord(items=frozenset({'pasta', 'brown bread', 'pastry'}), support=0.002308876346844536, ordered_statistics=[OrderedStatistic(items_base=frozenset({'pasta', 'brown bread'}), items_add=frozenset({'pastry'}), confidence=0.5625000000000001, lift=3.1685332369942203)]),\n",
       " RelationRecord(items=frozenset({'brown bread', 'red/blush wine', 'whipped/sour cream'}), support=0.002565418163160595, ordered_statistics=[OrderedStatistic(items_base=frozenset({'red/blush wine'}), items_add=frozenset({'brown bread', 'whipped/sour cream'}), confidence=0.06451612903225806, lift=3.066876475216365), OrderedStatistic(items_base=frozenset({'brown bread', 'whipped/sour cream'}), items_add=frozenset({'red/blush wine'}), confidence=0.12195121951219513, lift=3.0668764752163655)]),\n",
       " RelationRecord(items=frozenset({'butter', 'hamburger meat', 'butter milk'}), support=0.002052334530528476, ordered_statistics=[OrderedStatistic(items_base=frozenset({'butter', 'hamburger meat'}), items_add=frozenset({'butter milk'}), confidence=0.2105263157894737, lift=3.243603078843354)]),\n",
       " RelationRecord(items=frozenset({'butter', 'chicken', 'chewing gum'}), support=0.002565418163160595, ordered_statistics=[OrderedStatistic(items_base=frozenset({'chewing gum'}), items_add=frozenset({'butter', 'chicken'}), confidence=0.05747126436781609, lift=3.027337682510096), OrderedStatistic(items_base=frozenset({'butter', 'chicken'}), items_add=frozenset({'chewing gum'}), confidence=0.13513513513513514, lift=3.0273376825100966), OrderedStatistic(items_base=frozenset({'chicken', 'chewing gum'}), items_add=frozenset({'butter'}), confidence=0.39999999999999997, lift=3.1562753036437243)]),\n",
       " RelationRecord(items=frozenset({'butter', 'coffee', 'chewing gum'}), support=0.0033350436121087736, ordered_statistics=[OrderedStatistic(items_base=frozenset({'chewing gum'}), items_add=frozenset({'butter', 'coffee'}), confidence=0.07471264367816093, lift=4.101829367006638), OrderedStatistic(items_base=frozenset({'butter', 'coffee'}), items_add=frozenset({'chewing gum'}), confidence=0.18309859154929578, lift=4.101829367006638), OrderedStatistic(items_base=frozenset({'coffee', 'chewing gum'}), items_add=frozenset({'butter'}), confidence=0.39393939393939387, lift=3.108452950558213)]),\n",
       " RelationRecord(items=frozenset({'butter', 'chicken', 'soft cheese'}), support=0.0028219599794766545, ordered_statistics=[OrderedStatistic(items_base=frozenset({'soft cheese'}), items_add=frozenset({'butter', 'chicken'}), confidence=0.07482993197278912, lift=3.9417172274315133), OrderedStatistic(items_base=frozenset({'butter', 'chicken'}), items_add=frozenset({'soft cheese'}), confidence=0.14864864864864863, lift=3.941717227431513), OrderedStatistic(items_base=frozenset({'butter', 'soft cheese'}), items_add=frozenset({'chicken'}), confidence=0.3793103448275862, lift=3.7718156228008444), OrderedStatistic(items_base=frozenset({'chicken', 'soft cheese'}), items_add=frozenset({'butter'}), confidence=0.5, lift=3.9453441295546554)]),\n",
       " RelationRecord(items=frozenset({'butter', 'coffee', 'white wine'}), support=0.002052334530528476, ordered_statistics=[OrderedStatistic(items_base=frozenset({'butter', 'white wine'}), items_add=frozenset({'coffee'}), confidence=0.34782608695652173, lift=3.0263975155279503)]),\n",
       " RelationRecord(items=frozenset({'butter', 'detergent', 'newspapers'}), support=0.002308876346844536, ordered_statistics=[OrderedStatistic(items_base=frozenset({'detergent'}), items_add=frozenset({'butter', 'newspapers'}), confidence=0.07086614173228346, lift=3.069291338582677), OrderedStatistic(items_base=frozenset({'butter', 'detergent'}), items_add=frozenset({'newspapers'}), confidence=0.4285714285714286, lift=3.0652686762778507), OrderedStatistic(items_base=frozenset({'butter', 'newspapers'}), items_add=frozenset({'detergent'}), confidence=0.1, lift=3.069291338582677)]),\n",
       " RelationRecord(items=frozenset({'butter', 'frozen fish', 'pork'}), support=0.002052334530528476, ordered_statistics=[OrderedStatistic(items_base=frozenset({'frozen fish'}), items_add=frozenset({'butter', 'pork'}), confidence=0.0792079207920792, lift=4.824257425742574), OrderedStatistic(items_base=frozenset({'butter', 'frozen fish'}), items_add=frozenset({'pork'}), confidence=0.4444444444444444, lift=3.357450473729543), OrderedStatistic(items_base=frozenset({'butter', 'pork'}), items_add=frozenset({'frozen fish'}), confidence=0.125, lift=4.824257425742574), OrderedStatistic(items_base=frozenset({'pork', 'frozen fish'}), items_add=frozenset({'butter'}), confidence=0.4210526315789474, lift=3.3223950564670788)]),\n",
       " RelationRecord(items=frozenset({'butter', 'meat', 'frozen meals'}), support=0.002052334530528476, ordered_statistics=[OrderedStatistic(items_base=frozenset({'butter', 'frozen meals'}), items_add=frozenset({'meat'}), confidence=0.2105263157894737, lift=3.3089983022071308), OrderedStatistic(items_base=frozenset({'butter', 'meat'}), items_add=frozenset({'frozen meals'}), confidence=0.19047619047619047, lift=3.0305150631681244)]),\n",
       " RelationRecord(items=frozenset({'butter', 'fruit/vegetable juice', 'pickled vegetables'}), support=0.002052334530528476, ordered_statistics=[OrderedStatistic(items_base=frozenset({'pickled vegetables'}), items_add=frozenset({'butter', 'fruit/vegetable juice'}), confidence=0.06153846153846154, lift=3.156275303643725), OrderedStatistic(items_base=frozenset({'butter', 'fruit/vegetable juice'}), items_add=frozenset({'pickled vegetables'}), confidence=0.10526315789473685, lift=3.156275303643725)]),\n",
       " RelationRecord(items=frozenset({'butter', 'specialty chocolate', 'white bread'}), support=0.002565418163160595, ordered_statistics=[OrderedStatistic(items_base=frozenset({'butter', 'specialty chocolate'}), items_add=frozenset({'white bread'}), confidence=0.28571428571428575, lift=3.2188274153592076), OrderedStatistic(items_base=frozenset({'butter', 'white bread'}), items_add=frozenset({'specialty chocolate'}), confidence=0.19230769230769232, lift=3.2877867746288802)]),\n",
       " RelationRecord(items=frozenset({'butter', 'whole milk', 'spices'}), support=0.002052334530528476, ordered_statistics=[OrderedStatistic(items_base=frozenset({'spices'}), items_add=frozenset({'butter', 'whole milk'}), confidence=0.2051282051282051, lift=3.0872190872190868)]),\n",
       " RelationRecord(items=frozenset({'hygiene articles', 'citrus fruit', 'butter milk'}), support=0.002052334530528476, ordered_statistics=[OrderedStatistic(items_base=frozenset({'citrus fruit', 'butter milk'}), items_add=frozenset({'hygiene articles'}), confidence=0.17391304347826086, lift=3.3231031543052003)]),\n",
       " RelationRecord(items=frozenset({'domestic eggs', 'ice cream', 'butter milk'}), support=0.002052334530528476, ordered_statistics=[OrderedStatistic(items_base=frozenset({'domestic eggs', 'butter milk'}), items_add=frozenset({'ice cream'}), confidence=0.18181818181818182, lift=3.2214876033057855), OrderedStatistic(items_base=frozenset({'domestic eggs', 'ice cream'}), items_add=frozenset({'butter milk'}), confidence=0.25806451612903225, lift=3.9760295805176593)]),\n",
       " RelationRecord(items=frozenset({'shopping bags', 'hamburger meat', 'butter milk'}), support=0.0028219599794766545, ordered_statistics=[OrderedStatistic(items_base=frozenset({'hamburger meat', 'shopping bags'}), items_add=frozenset({'butter milk'}), confidence=0.20754716981132074, lift=3.1977030352748153)]),\n",
       " RelationRecord(items=frozenset({'pork', 'meat', 'butter milk'}), support=0.002565418163160595, ordered_statistics=[OrderedStatistic(items_base=frozenset({'pork', 'butter milk'}), items_add=frozenset({'meat'}), confidence=0.3125, lift=4.91179435483871), OrderedStatistic(items_base=frozenset({'pork', 'meat'}), items_add=frozenset({'butter milk'}), confidence=0.27777777777777773, lift=4.279754062362758)]),\n",
       " RelationRecord(items=frozenset({'shopping bags', 'soft cheese', 'butter milk'}), support=0.002052334530528476, ordered_statistics=[OrderedStatistic(items_base=frozenset({'soft cheese'}), items_add=frozenset({'butter milk', 'shopping bags'}), confidence=0.05442176870748299, lift=3.5955263461316727), OrderedStatistic(items_base=frozenset({'shopping bags', 'butter milk'}), items_add=frozenset({'soft cheese'}), confidence=0.13559322033898305, lift=3.595526346131673), OrderedStatistic(items_base=frozenset({'soft cheese', 'shopping bags'}), items_add=frozenset({'butter milk'}), confidence=0.25, lift=3.8517786561264824)]),\n",
       " RelationRecord(items=frozenset({'frankfurter', 'cake bar', 'citrus fruit'}), support=0.002308876346844536, ordered_statistics=[OrderedStatistic(items_base=frozenset({'cake bar'}), items_add=frozenset({'frankfurter', 'citrus fruit'}), confidence=0.10112359550561797, lift=3.4276502198339034), OrderedStatistic(items_base=frozenset({'frankfurter', 'citrus fruit'}), items_add=frozenset({'cake bar'}), confidence=0.0782608695652174, lift=3.4276502198339034)]),\n",
       " RelationRecord(items=frozenset({'tropical fruit', 'frankfurter', 'cake bar'}), support=0.002565418163160595, ordered_statistics=[OrderedStatistic(items_base=frozenset({'cake bar'}), items_add=frozenset({'tropical fruit', 'frankfurter'}), confidence=0.11235955056179775, lift=3.3180115764385425), OrderedStatistic(items_base=frozenset({'tropical fruit', 'frankfurter'}), items_add=frozenset({'cake bar'}), confidence=0.07575757575757575, lift=3.318011576438542)]),\n",
       " RelationRecord(items=frozenset({'candles', 'root vegetables', 'canned beer'}), support=0.002308876346844536, ordered_statistics=[OrderedStatistic(items_base=frozenset({'candles', 'root vegetables'}), items_add=frozenset({'canned beer'}), confidence=0.6000000000000001, lift=3.6316770186335408)]),\n",
       " RelationRecord(items=frozenset({'canned beer', 'candy', 'hard cheese'}), support=0.002052334530528476, ordered_statistics=[OrderedStatistic(items_base=frozenset({'canned beer', 'candy'}), items_add=frozenset({'hard cheese'}), confidence=0.17021276595744678, lift=3.189852700490998), OrderedStatistic(items_base=frozenset({'canned beer', 'hard cheese'}), items_add=frozenset({'candy'}), confidence=0.1951219512195122, lift=3.639164429921811)]),\n",
       " RelationRecord(items=frozenset({'onions', 'dessert', 'candy'}), support=0.002052334530528476, ordered_statistics=[OrderedStatistic(items_base=frozenset({'dessert', 'candy'}), items_add=frozenset({'onions'}), confidence=0.34782608695652173, lift=4.565070999853608), OrderedStatistic(items_base=frozenset({'onions', 'candy'}), items_add=frozenset({'dessert'}), confidence=0.36363636363636365, lift=4.206096574049097), OrderedStatistic(items_base=frozenset({'dessert', 'onions'}), items_add=frozenset({'candy'}), confidence=0.25, lift=4.662679425837321)]),\n",
       " RelationRecord(items=frozenset({'tropical fruit', 'flour', 'candy'}), support=0.002052334530528476, ordered_statistics=[OrderedStatistic(items_base=frozenset({'flour'}), items_add=frozenset({'tropical fruit', 'candy'}), confidence=0.056338028169014086, lift=3.4858037111558238), OrderedStatistic(items_base=frozenset({'flour', 'candy'}), items_add=frozenset({'tropical fruit'}), confidence=0.7272727272727273, lift=3.111865083325018), OrderedStatistic(items_base=frozenset({'tropical fruit', 'candy'}), items_add=frozenset({'flour'}), confidence=0.12698412698412698, lift=3.4858037111558238)]),\n",
       " RelationRecord(items=frozenset({'tropical fruit', 'candy', 'semi-finished bread'}), support=0.002565418163160595, ordered_statistics=[OrderedStatistic(items_base=frozenset({'semi-finished bread'}), items_add=frozenset({'tropical fruit', 'candy'}), confidence=0.07092198581560283, lift=4.388157154114601), OrderedStatistic(items_base=frozenset({'candy', 'semi-finished bread'}), items_add=frozenset({'tropical fruit'}), confidence=0.7142857142857143, lift=3.056296063979928), OrderedStatistic(items_base=frozenset({'tropical fruit', 'candy'}), items_add=frozenset({'semi-finished bread'}), confidence=0.15873015873015872, lift=4.388157154114601), OrderedStatistic(items_base=frozenset({'tropical fruit', 'semi-finished bread'}), items_add=frozenset({'candy'}), confidence=0.2222222222222222, lift=4.144603934077618)]),\n",
       " RelationRecord(items=frozenset({'tropical fruit', 'canned beer', 'canned vegetables'}), support=0.0028219599794766545, ordered_statistics=[OrderedStatistic(items_base=frozenset({'canned vegetables'}), items_add=frozenset({'tropical fruit', 'canned beer'}), confidence=0.13749999999999998, lift=3.248333333333333), OrderedStatistic(items_base=frozenset({'tropical fruit', 'canned beer'}), items_add=frozenset({'canned vegetables'}), confidence=0.06666666666666667, lift=3.2483333333333335)]),\n",
       " RelationRecord(items=frozenset({'chicken', 'canned beer', 'sugar'}), support=0.004104669061056952, ordered_statistics=[OrderedStatistic(items_base=frozenset({'sugar'}), items_add=frozenset({'chicken', 'canned beer'}), confidence=0.062256809338521395, lift=3.235693904020752), OrderedStatistic(items_base=frozenset({'chicken', 'canned beer'}), items_add=frozenset({'sugar'}), confidence=0.21333333333333332, lift=3.235693904020752)]),\n",
       " RelationRecord(items=frozenset({'cream cheese', 'canned beer', 'ice cream'}), support=0.002565418163160595, ordered_statistics=[OrderedStatistic(items_base=frozenset({'cream cheese', 'canned beer'}), items_add=frozenset({'ice cream'}), confidence=0.17857142857142858, lift=3.1639610389610393)]),\n",
       " RelationRecord(items=frozenset({'canned beer', 'dishes', 'onions'}), support=0.002052334530528476, ordered_statistics=[OrderedStatistic(items_base=frozenset({'dishes'}), items_add=frozenset({'canned beer', 'onions'}), confidence=0.06015037593984962, lift=3.7216851652941876), OrderedStatistic(items_base=frozenset({'canned beer', 'dishes'}), items_add=frozenset({'onions'}), confidence=0.2962962962962963, lift=3.8887641850604813), OrderedStatistic(items_base=frozenset({'canned beer', 'onions'}), items_add=frozenset({'dishes'}), confidence=0.12698412698412698, lift=3.7216851652941876), OrderedStatistic(items_base=frozenset({'dishes', 'onions'}), items_add=frozenset({'canned beer'}), confidence=0.5, lift=3.0263975155279503)]),\n",
       " RelationRecord(items=frozenset({'canned beer', 'ice cream', 'frozen meals'}), support=0.002308876346844536, ordered_statistics=[OrderedStatistic(items_base=frozenset({'canned beer', 'frozen meals'}), items_add=frozenset({'ice cream'}), confidence=0.19148936170212766, lift=3.39284332688588)]),\n",
       " RelationRecord(items=frozenset({'fruit/vegetable juice', 'pickled vegetables', 'canned beer'}), support=0.002565418163160595, ordered_statistics=[OrderedStatistic(items_base=frozenset({'pickled vegetables'}), items_add=frozenset({'fruit/vegetable juice', 'canned beer'}), confidence=0.07692307692307693, lift=3.1562753036437248), OrderedStatistic(items_base=frozenset({'fruit/vegetable juice', 'canned beer'}), items_add=frozenset({'pickled vegetables'}), confidence=0.10526315789473684, lift=3.1562753036437248)]),\n",
       " RelationRecord(items=frozenset({'canned beer', 'ice cream', 'hard cheese'}), support=0.002052334530528476, ordered_statistics=[OrderedStatistic(items_base=frozenset({'canned beer', 'hard cheese'}), items_add=frozenset({'ice cream'}), confidence=0.1951219512195122, lift=3.457206208425721)]),\n",
       " RelationRecord(items=frozenset({'long life bakery product', 'canned beer', 'onions'}), support=0.0028219599794766545, ordered_statistics=[OrderedStatistic(items_base=frozenset({'long life bakery product', 'canned beer'}), items_add=frozenset({'onions'}), confidence=0.2444444444444444, lift=3.208230452674897)]),\n",
       " RelationRecord(items=frozenset({'red/blush wine', 'canned beer', 'napkins'}), support=0.002308876346844536, ordered_statistics=[OrderedStatistic(items_base=frozenset({'red/blush wine'}), items_add=frozenset({'canned beer', 'napkins'}), confidence=0.05806451612903226, lift=4.191397849462366), OrderedStatistic(items_base=frozenset({'canned beer', 'napkins'}), items_add=frozenset({'red/blush wine'}), confidence=0.16666666666666669, lift=4.1913978494623665)]),\n",
       " RelationRecord(items=frozenset({'canned beer', 'newspapers', 'semi-finished bread'}), support=0.002308876346844536, ordered_statistics=[OrderedStatistic(items_base=frozenset({'newspapers', 'semi-finished bread'}), items_add=frozenset({'canned beer'}), confidence=0.5, lift=3.0263975155279503)]),\n",
       " RelationRecord(items=frozenset({'pasta', 'pastry', 'canned beer'}), support=0.002052334530528476, ordered_statistics=[OrderedStatistic(items_base=frozenset({'pasta', 'canned beer'}), items_add=frozenset({'pastry'}), confidence=0.5714285714285714, lift=3.218827415359207)]),\n",
       " RelationRecord(items=frozenset({'turkey', 'canned beer', 'shopping bags'}), support=0.002052334530528476, ordered_statistics=[OrderedStatistic(items_base=frozenset({'turkey'}), items_add=frozenset({'canned beer', 'shopping bags'}), confidence=0.10256410256410255, lift=3.0518692503425324), OrderedStatistic(items_base=frozenset({'canned beer', 'shopping bags'}), items_add=frozenset({'turkey'}), confidence=0.061068702290076333, lift=3.0518692503425324)]),\n",
       " RelationRecord(items=frozenset({'white bread', 'canned beer', 'sliced cheese'}), support=0.002308876346844536, ordered_statistics=[OrderedStatistic(items_base=frozenset({'canned beer', 'sliced cheese'}), items_add=frozenset({'white bread'}), confidence=0.2727272727272727, lift=3.072517078297425)]),\n",
       " RelationRecord(items=frozenset({'specialty bar', 'canned beer', 'sugar'}), support=0.002308876346844536, ordered_statistics=[OrderedStatistic(items_base=frozenset({'specialty bar', 'canned beer'}), items_add=frozenset({'sugar'}), confidence=0.225, lift=3.412645914396887)]),\n",
       " RelationRecord(items=frozenset({'specialty cheese', 'canned beer', 'whipped/sour cream'}), support=0.002052334530528476, ordered_statistics=[OrderedStatistic(items_base=frozenset({'specialty cheese'}), items_add=frozenset({'canned beer', 'whipped/sour cream'}), confidence=0.11267605633802817, lift=3.992829705505762), OrderedStatistic(items_base=frozenset({'specialty cheese', 'canned beer'}), items_add=frozenset({'whipped/sour cream'}), confidence=0.5, lift=3.2321724709784414), OrderedStatistic(items_base=frozenset({'canned beer', 'whipped/sour cream'}), items_add=frozenset({'specialty cheese'}), confidence=0.07272727272727272, lift=3.992829705505762)]),\n",
       " RelationRecord(items=frozenset({'specialty chocolate', 'waffles', 'canned beer'}), support=0.002052334530528476, ordered_statistics=[OrderedStatistic(items_base=frozenset({'waffles', 'canned beer'}), items_add=frozenset({'specialty chocolate'}), confidence=0.18604651162790697, lift=3.1807425540595675)]),\n",
       " RelationRecord(items=frozenset({'shopping bags', 'hamburger meat', 'canned fish'}), support=0.002052334530528476, ordered_statistics=[OrderedStatistic(items_base=frozenset({'canned fish'}), items_add=frozenset({'hamburger meat', 'shopping bags'}), confidence=0.06956521739130435, lift=5.116324856439705), OrderedStatistic(items_base=frozenset({'shopping bags', 'canned fish'}), items_add=frozenset({'hamburger meat'}), confidence=0.3076923076923077, lift=3.8318997296633084), OrderedStatistic(items_base=frozenset({'hamburger meat', 'shopping bags'}), items_add=frozenset({'canned fish'}), confidence=0.1509433962264151, lift=5.116324856439705)]),\n",
       " RelationRecord(items=frozenset({'oil', 'other vegetables', 'canned fish'}), support=0.002052334530528476, ordered_statistics=[OrderedStatistic(items_base=frozenset({'other vegetables', 'canned fish'}), items_add=frozenset({'oil'}), confidence=0.17021276595744678, lift=3.0575546622217855)]),\n",
       " RelationRecord(items=frozenset({'pip fruit', 'soft cheese', 'canned fish'}), support=0.002052334530528476, ordered_statistics=[OrderedStatistic(items_base=frozenset({'canned fish'}), items_add=frozenset({'pip fruit', 'soft cheese'}), confidence=0.06956521739130435, lift=7.975447570332481), OrderedStatistic(items_base=frozenset({'soft cheese'}), items_add=frozenset({'pip fruit', 'canned fish'}), confidence=0.05442176870748299, lift=7.315036359371335), OrderedStatistic(items_base=frozenset({'pip fruit', 'canned fish'}), items_add=frozenset({'soft cheese'}), confidence=0.27586206896551724, lift=7.3150363593713355), OrderedStatistic(items_base=frozenset({'soft cheese', 'canned fish'}), items_add=frozenset({'pip fruit'}), confidence=1.0, lift=5.8616541353383464), OrderedStatistic(items_base=frozenset({'pip fruit', 'soft cheese'}), items_add=frozenset({'canned fish'}), confidence=0.23529411764705882, lift=7.975447570332481)]),\n",
       " RelationRecord(items=frozenset({'pork', 'shopping bags', 'canned fish'}), support=0.002308876346844536, ordered_statistics=[OrderedStatistic(items_base=frozenset({'canned fish'}), items_add=frozenset({'pork', 'shopping bags'}), confidence=0.0782608695652174, lift=3.0204046491605685), OrderedStatistic(items_base=frozenset({'pork', 'canned fish'}), items_add=frozenset({'shopping bags'}), confidence=0.6000000000000001, lift=3.565243902439025), OrderedStatistic(items_base=frozenset({'pork', 'shopping bags'}), items_add=frozenset({'canned fish'}), confidence=0.08910891089108912, lift=3.0204046491605685)]),\n",
       " RelationRecord(items=frozenset({'canned fruit', 'other vegetables', 'soda'}), support=0.002565418163160595, ordered_statistics=[OrderedStatistic(items_base=frozenset({'canned fruit'}), items_add=frozenset({'other vegetables', 'soda'}), confidence=0.47619047619047616, lift=3.835104289649744)]),\n",
       " RelationRecord(items=frozenset({'whole milk', 'canned vegetables', 'sliced cheese'}), support=0.002052334530528476, ordered_statistics=[OrderedStatistic(items_base=frozenset({'canned vegetables'}), items_add=frozenset({'whole milk', 'sliced cheese'}), confidence=0.09999999999999999, lift=3.977551020408163), OrderedStatistic(items_base=frozenset({'whole milk', 'canned vegetables'}), items_add=frozenset({'sliced cheese'}), confidence=0.17777777777777776, lift=3.43058305830583), OrderedStatistic(items_base=frozenset({'whole milk', 'sliced cheese'}), items_add=frozenset({'canned vegetables'}), confidence=0.08163265306122448, lift=3.977551020408163)]),\n",
       " RelationRecord(items=frozenset({'cat food', 'curd', 'coffee'}), support=0.002308876346844536, ordered_statistics=[OrderedStatistic(items_base=frozenset({'cat food'}), items_add=frozenset({'curd', 'coffee'}), confidence=0.05263157894736842, lift=3.3089983022071303), OrderedStatistic(items_base=frozenset({'curd', 'coffee'}), items_add=frozenset({'cat food'}), confidence=0.14516129032258066, lift=3.3089983022071308)]),\n",
       " RelationRecord(items=frozenset({'cat food', 'fruit/vegetable juice', 'newspapers'}), support=0.0028219599794766545, ordered_statistics=[OrderedStatistic(items_base=frozenset({'cat food'}), items_add=frozenset({'fruit/vegetable juice', 'newspapers'}), confidence=0.06432748538011696, lift=3.8576698155645524), OrderedStatistic(items_base=frozenset({'fruit/vegetable juice', 'newspapers'}), items_add=frozenset({'cat food'}), confidence=0.16923076923076924, lift=3.8576698155645524)]),\n",
       " RelationRecord(items=frozenset({'pork', 'cat food', 'fruit/vegetable juice'}), support=0.0028219599794766545, ordered_statistics=[OrderedStatistic(items_base=frozenset({'cat food'}), items_add=frozenset({'pork', 'fruit/vegetable juice'}), confidence=0.06432748538011696, lift=3.4349114796122726), OrderedStatistic(items_base=frozenset({'pork', 'fruit/vegetable juice'}), items_add=frozenset({'cat food'}), confidence=0.1506849315068493, lift=3.434911479612272)]),\n",
       " RelationRecord(items=frozenset({'root vegetables', 'cat food', 'grapes'}), support=0.002052334530528476, ordered_statistics=[OrderedStatistic(items_base=frozenset({'root vegetables', 'cat food'}), items_add=frozenset({'grapes'}), confidence=0.18604651162790697, lift=3.3888285155400997), OrderedStatistic(items_base=frozenset({'root vegetables', 'grapes'}), items_add=frozenset({'cat food'}), confidence=0.13793103448275862, lift=3.144182294817503)]),\n",
       " RelationRecord(items=frozenset({'cat food', 'whipped/sour cream', 'onions'}), support=0.002308876346844536, ordered_statistics=[OrderedStatistic(items_base=frozenset({'cat food'}), items_add=frozenset({'onions', 'whipped/sour cream'}), confidence=0.05263157894736842, lift=4.022703818369453), OrderedStatistic(items_base=frozenset({'cat food', 'whipped/sour cream'}), items_add=frozenset({'onions'}), confidence=0.30000000000000004, lift=3.937373737373738), OrderedStatistic(items_base=frozenset({'whipped/sour cream', 'onions'}), items_add=frozenset({'cat food'}), confidence=0.17647058823529413, lift=4.022703818369453)]),\n",
       " RelationRecord(items=frozenset({'cat food', 'pickled vegetables', 'other vegetables'}), support=0.002052334530528476, ordered_statistics=[OrderedStatistic(items_base=frozenset({'pickled vegetables', 'other vegetables'}), items_add=frozenset({'cat food'}), confidence=0.13793103448275862, lift=3.144182294817503)]),\n",
       " RelationRecord(items=frozenset({'cat food', 'white bread', 'whipped/sour cream'}), support=0.002308876346844536, ordered_statistics=[OrderedStatistic(items_base=frozenset({'cat food', 'whipped/sour cream'}), items_add=frozenset({'white bread'}), confidence=0.30000000000000004, lift=3.379768786127168)]),\n",
       " RelationRecord(items=frozenset({'coffee', 'yogurt', 'chewing gum'}), support=0.0048742945100051305, ordered_statistics=[OrderedStatistic(items_base=frozenset({'chewing gum'}), items_add=frozenset({'yogurt', 'coffee'}), confidence=0.10919540229885057, lift=3.0187494905029753), OrderedStatistic(items_base=frozenset({'yogurt', 'coffee'}), items_add=frozenset({'chewing gum'}), confidence=0.1347517730496454, lift=3.0187494905029757)]),\n",
       " RelationRecord(items=frozenset({'cream cheese', 'chewing gum', 'domestic eggs'}), support=0.002052334530528476, ordered_statistics=[OrderedStatistic(items_base=frozenset({'cream cheese', 'chewing gum'}), items_add=frozenset({'domestic eggs'}), confidence=0.47058823529411764, lift=3.534398730590502), OrderedStatistic(items_base=frozenset({'cream cheese', 'domestic eggs'}), items_add=frozenset({'chewing gum'}), confidence=0.15999999999999998, lift=3.5843678160919534)]),\n",
       " RelationRecord(items=frozenset({'frozen vegetables', 'chewing gum', 'ham'}), support=0.002052334530528476, ordered_statistics=[OrderedStatistic(items_base=frozenset({'frozen vegetables', 'chewing gum'}), items_add=frozenset({'ham'}), confidence=0.31999999999999995, lift=5.050040485829959), OrderedStatistic(items_base=frozenset({'chewing gum', 'ham'}), items_add=frozenset({'frozen vegetables'}), confidence=0.4444444444444444, lift=4.3311111111111105), OrderedStatistic(items_base=frozenset({'frozen vegetables', 'ham'}), items_add=frozenset({'chewing gum'}), confidence=0.22857142857142856, lift=5.120525451559934)]),\n",
       " RelationRecord(items=frozenset({'whipped/sour cream', 'chewing gum', 'ham'}), support=0.002308876346844536, ordered_statistics=[OrderedStatistic(items_base=frozenset({'chewing gum'}), items_add=frozenset({'ham', 'whipped/sour cream'}), confidence=0.05172413793103449, lift=4.114707952146376), OrderedStatistic(items_base=frozenset({'chewing gum', 'ham'}), items_add=frozenset({'whipped/sour cream'}), confidence=0.5, lift=3.2321724709784414), OrderedStatistic(items_base=frozenset({'chewing gum', 'whipped/sour cream'}), items_add=frozenset({'ham'}), confidence=0.2571428571428572, lift=4.058068247541932), OrderedStatistic(items_base=frozenset({'whipped/sour cream', 'ham'}), items_add=frozenset({'chewing gum'}), confidence=0.1836734693877551, lift=4.114707952146376)]),\n",
       " RelationRecord(items=frozenset({'root vegetables', 'salty snack', 'chewing gum'}), support=0.002565418163160595, ordered_statistics=[OrderedStatistic(items_base=frozenset({'root vegetables', 'chewing gum'}), items_add=frozenset({'salty snack'}), confidence=0.20833333333333331, lift=3.007716049382716)]),\n",
       " RelationRecord(items=frozenset({'waffles', 'chicken', 'chocolate'}), support=0.002565418163160595, ordered_statistics=[OrderedStatistic(items_base=frozenset({'chicken', 'chocolate'}), items_add=frozenset({'waffles'}), confidence=0.2702702702702703, lift=3.916407113433136)]),\n",
       " RelationRecord(items=frozenset({'chicken', 'white bread', 'chocolate'}), support=0.002565418163160595, ordered_statistics=[OrderedStatistic(items_base=frozenset({'chicken', 'chocolate'}), items_add=frozenset({'white bread'}), confidence=0.2702702702702703, lift=3.0448367442587094), OrderedStatistic(items_base=frozenset({'chocolate', 'white bread'}), items_add=frozenset({'chicken'}), confidence=0.3333333333333333, lift=3.314625850340136)]),\n",
       " RelationRecord(items=frozenset({'chicken', 'dessert', 'fruit/vegetable juice'}), support=0.0028219599794766545, ordered_statistics=[OrderedStatistic(items_base=frozenset({'chicken', 'dessert'}), items_add=frozenset({'fruit/vegetable juice'}), confidence=0.3928571428571428, lift=3.1444705192138453)]),\n",
       " RelationRecord(items=frozenset({'chicken', 'detergent', 'shopping bags'}), support=0.002052334530528476, ordered_statistics=[OrderedStatistic(items_base=frozenset({'detergent'}), items_add=frozenset({'chicken', 'shopping bags'}), confidence=0.06299212598425195, lift=3.188874118007975), OrderedStatistic(items_base=frozenset({'chicken', 'shopping bags'}), items_add=frozenset({'detergent'}), confidence=0.10389610389610388, lift=3.1888741180079756), OrderedStatistic(items_base=frozenset({'detergent', 'shopping bags'}), items_add=frozenset({'chicken'}), confidence=0.36363636363636365, lift=3.6159554730983303)]),\n",
       " RelationRecord(items=frozenset({'domestic eggs', 'chicken', 'red/blush wine'}), support=0.002052334530528476, ordered_statistics=[OrderedStatistic(items_base=frozenset({'red/blush wine'}), items_add=frozenset({'domestic eggs', 'chicken'}), confidence=0.05161290322580645, lift=3.2981491274457957), OrderedStatistic(items_base=frozenset({'domestic eggs', 'chicken'}), items_add=frozenset({'red/blush wine'}), confidence=0.13114754098360654, lift=3.2981491274457952), OrderedStatistic(items_base=frozenset({'chicken', 'red/blush wine'}), items_add=frozenset({'domestic eggs'}), confidence=0.4444444444444444, lift=3.3380432455576963), OrderedStatistic(items_base=frozenset({'domestic eggs', 'red/blush wine'}), items_add=frozenset({'chicken'}), confidence=0.39999999999999997, lift=3.977551020408163)]),\n",
       " RelationRecord(items=frozenset({'chicken', 'frankfurter', 'soft cheese'}), support=0.002308876346844536, ordered_statistics=[OrderedStatistic(items_base=frozenset({'soft cheese'}), items_add=frozenset({'chicken', 'frankfurter'}), confidence=0.06122448979591837, lift=3.7289540816326534), OrderedStatistic(items_base=frozenset({'chicken', 'frankfurter'}), items_add=frozenset({'soft cheese'}), confidence=0.14062500000000003, lift=3.7289540816326543), OrderedStatistic(items_base=frozenset({'frankfurter', 'soft cheese'}), items_add=frozenset({'chicken'}), confidence=0.3461538461538462, lift=3.4421114599686033)]),\n",
       " RelationRecord(items=frozenset({'root vegetables', 'chicken', 'liquor'}), support=0.002308876346844536, ordered_statistics=[OrderedStatistic(items_base=frozenset({'liquor'}), items_add=frozenset({'root vegetables', 'chicken'}), confidence=0.08737864077669903, lift=3.5852835973428716), OrderedStatistic(items_base=frozenset({'root vegetables', 'chicken'}), items_add=frozenset({'liquor'}), confidence=0.09473684210526316, lift=3.585283597342872)]),\n",
       " RelationRecord(items=frozenset({'chicken', 'sausage', 'liquor'}), support=0.002308876346844536, ordered_statistics=[OrderedStatistic(items_base=frozenset({'liquor'}), items_add=frozenset({'chicken', 'sausage'}), confidence=0.08737864077669903, lift=3.702195018995357), OrderedStatistic(items_base=frozenset({'chicken', 'sausage'}), items_add=frozenset({'liquor'}), confidence=0.09782608695652174, lift=3.702195018995357), OrderedStatistic(items_base=frozenset({'sausage', 'liquor'}), items_add=frozenset({'chicken'}), confidence=0.3103448275862069, lift=3.086030964109782)]),\n",
       " RelationRecord(items=frozenset({'chicken', 'tropical fruit', 'liquor'}), support=0.002308876346844536, ordered_statistics=[OrderedStatistic(items_base=frozenset({'liquor'}), items_add=frozenset({'chicken', 'tropical fruit'}), confidence=0.08737864077669903, lift=3.511360224201782), OrderedStatistic(items_base=frozenset({'chicken', 'tropical fruit'}), items_add=frozenset({'liquor'}), confidence=0.09278350515463918, lift=3.511360224201782)]),\n",
       " RelationRecord(items=frozenset({'waffles', 'chicken', 'margarine'}), support=0.0030785017957927143, ordered_statistics=[OrderedStatistic(items_base=frozenset({'waffles', 'margarine'}), items_add=frozenset({'chicken'}), confidence=0.35294117647058826, lift=3.509603841536615)]),\n",
       " RelationRecord(items=frozenset({'pastry', 'waffles', 'chicken'}), support=0.004361210877373012, ordered_statistics=[OrderedStatistic(items_base=frozenset({'waffles'}), items_add=frozenset({'pastry', 'chicken'}), confidence=0.06319702602230483, lift=3.0041708223773687), OrderedStatistic(items_base=frozenset({'pastry', 'chicken'}), items_add=frozenset({'waffles'}), confidence=0.20731707317073172, lift=3.004170822377369)]),\n",
       " RelationRecord(items=frozenset({'root vegetables', 'chicken', 'soups'}), support=0.002052334530528476, ordered_statistics=[OrderedStatistic(items_base=frozenset({'soups'}), items_add=frozenset({'root vegetables', 'chicken'}), confidence=0.16666666666666666, lift=6.83859649122807), OrderedStatistic(items_base=frozenset({'root vegetables', 'chicken'}), items_add=frozenset({'soups'}), confidence=0.08421052631578947, lift=6.83859649122807), OrderedStatistic(items_base=frozenset({'root vegetables', 'soups'}), items_add=frozenset({'chicken'}), confidence=0.4210526315789474, lift=4.186895810955962)]),\n",
       " RelationRecord(items=frozenset({'chicken', 'white wine', 'shopping bags'}), support=0.002565418163160595, ordered_statistics=[OrderedStatistic(items_base=frozenset({'white wine', 'shopping bags'}), items_add=frozenset({'chicken'}), confidence=0.3125, lift=3.1074617346938775)]),\n",
       " RelationRecord(items=frozenset({'chicken', 'zwieback', 'soda'}), support=0.002052334530528476, ordered_statistics=[OrderedStatistic(items_base=frozenset({'zwieback'}), items_add=frozenset({'chicken', 'soda'}), confidence=0.13333333333333333, lift=3.9674300254452928), OrderedStatistic(items_base=frozenset({'chicken', 'soda'}), items_add=frozenset({'zwieback'}), confidence=0.061068702290076333, lift=3.9674300254452923)]),\n",
       " RelationRecord(items=frozenset({'chicken', 'whole milk', 'soups'}), support=0.002052334530528476, ordered_statistics=[OrderedStatistic(items_base=frozenset({'soups'}), items_add=frozenset({'chicken', 'whole milk'}), confidence=0.16666666666666666, lift=3.3316239316239313), OrderedStatistic(items_base=frozenset({'whole milk', 'soups'}), items_add=frozenset({'chicken'}), confidence=0.31999999999999995, lift=3.18204081632653)]),\n",
       " RelationRecord(items=frozenset({'oil', 'chocolate', 'citrus fruit'}), support=0.0033350436121087736, ordered_statistics=[OrderedStatistic(items_base=frozenset({'oil'}), items_add=frozenset({'chocolate', 'citrus fruit'}), confidence=0.059907834101382486, lift=3.198914209961492), OrderedStatistic(items_base=frozenset({'chocolate', 'citrus fruit'}), items_add=frozenset({'oil'}), confidence=0.1780821917808219, lift=3.198914209961492)]),\n",
       " RelationRecord(items=frozenset({'specialty chocolate', 'chocolate', 'citrus fruit'}), support=0.0033350436121087736, ordered_statistics=[OrderedStatistic(items_base=frozenset({'specialty chocolate'}), items_add=frozenset({'chocolate', 'citrus fruit'}), confidence=0.05701754385964912, lift=3.0445806296563322), OrderedStatistic(items_base=frozenset({'chocolate', 'citrus fruit'}), items_add=frozenset({'specialty chocolate'}), confidence=0.1780821917808219, lift=3.0445806296563322)]),\n",
       " RelationRecord(items=frozenset({'cream cheese', 'chocolate', 'specialty bar'}), support=0.002052334530528476, ordered_statistics=[OrderedStatistic(items_base=frozenset({'cream cheese', 'chocolate'}), items_add=frozenset({'specialty bar'}), confidence=0.2424242424242424, lift=4.60960827790096), OrderedStatistic(items_base=frozenset({'chocolate', 'specialty bar'}), items_add=frozenset({'cream cheese'}), confidence=0.34782608695652173, lift=3.929930686830498), OrderedStatistic(items_base=frozenset({'cream cheese', 'specialty bar'}), items_add=frozenset({'chocolate'}), confidence=0.27586206896551724, lift=3.1908318837613834)]),\n",
       " RelationRecord(items=frozenset({'domestic eggs', 'chocolate', 'oil'}), support=0.002308876346844536, ordered_statistics=[OrderedStatistic(items_base=frozenset({'domestic eggs', 'chocolate'}), items_add=frozenset({'oil'}), confidence=0.18, lift=3.233364055299539)]),\n",
       " RelationRecord(items=frozenset({'chocolate', 'frankfurter', 'grapes'}), support=0.002565418163160595, ordered_statistics=[OrderedStatistic(items_base=frozenset({'chocolate', 'grapes'}), items_add=frozenset({'frankfurter'}), confidence=0.43478260869565216, lift=3.1678179601787892)]),\n",
       " RelationRecord(items=frozenset({'chocolate', 'frankfurter', 'misc. beverages'}), support=0.002052334530528476, ordered_statistics=[OrderedStatistic(items_base=frozenset({'chocolate', 'misc. beverages'}), items_add=frozenset({'frankfurter'}), confidence=0.5333333333333333, lift=3.8858566978193148)]),\n",
       " RelationRecord(items=frozenset({'chocolate', 'meat', 'fruit/vegetable juice'}), support=0.002308876346844536, ordered_statistics=[OrderedStatistic(items_base=frozenset({'chocolate', 'meat'}), items_add=frozenset({'fruit/vegetable juice'}), confidence=0.45, lift=3.6018480492813145)]),\n",
       " RelationRecord(items=frozenset({'pork', 'oil', 'chocolate'}), support=0.002308876346844536, ordered_statistics=[OrderedStatistic(items_base=frozenset({'pork', 'chocolate'}), items_add=frozenset({'oil'}), confidence=0.20454545454545459, lift=3.6742773355676586)]),\n",
       " RelationRecord(items=frozenset({'chocolate', 'other vegetables', 'salt'}), support=0.002565418163160595, ordered_statistics=[OrderedStatistic(items_base=frozenset({'other vegetables', 'salt'}), items_add=frozenset({'chocolate'}), confidence=0.26315789473684215, lift=3.0438856785881625)]),\n",
       " RelationRecord(items=frozenset({'cream cheese', 'red/blush wine', 'citrus fruit'}), support=0.0028219599794766545, ordered_statistics=[OrderedStatistic(items_base=frozenset({'red/blush wine'}), items_add=frozenset({'cream cheese', 'citrus fruit'}), confidence=0.07096774193548387, lift=5.029677419354839), OrderedStatistic(items_base=frozenset({'cream cheese', 'citrus fruit'}), items_add=frozenset({'red/blush wine'}), confidence=0.19999999999999998, lift=5.029677419354838), OrderedStatistic(items_base=frozenset({'red/blush wine', 'citrus fruit'}), items_add=frozenset({'cream cheese'}), confidence=0.3928571428571428, lift=4.43871635610766)]),\n",
       " RelationRecord(items=frozenset({'salt', 'curd', 'citrus fruit'}), support=0.002052334530528476, ordered_statistics=[OrderedStatistic(items_base=frozenset({'salt'}), items_add=frozenset({'curd', 'citrus fruit'}), confidence=0.08988764044943819, lift=3.5038202247191004), OrderedStatistic(items_base=frozenset({'curd', 'citrus fruit'}), items_add=frozenset({'salt'}), confidence=0.07999999999999999, lift=3.5038202247191004)]),\n",
       " RelationRecord(items=frozenset({'specialty chocolate', 'dessert', 'citrus fruit'}), support=0.002308876346844536, ordered_statistics=[OrderedStatistic(items_base=frozenset({'specialty chocolate', 'dessert'}), items_add=frozenset({'citrus fruit'}), confidence=0.6000000000000001, lift=3.239335180055402)]),\n",
       " RelationRecord(items=frozenset({'domestic eggs', 'white wine', 'citrus fruit'}), support=0.0033350436121087736, ordered_statistics=[OrderedStatistic(items_base=frozenset({'white wine'}), items_add=frozenset({'domestic eggs', 'citrus fruit'}), confidence=0.0755813953488372, lift=3.1342157347847595), OrderedStatistic(items_base=frozenset({'domestic eggs', 'citrus fruit'}), items_add=frozenset({'white wine'}), confidence=0.1382978723404255, lift=3.1342157347847595)]),\n",
       " RelationRecord(items=frozenset({'salt', 'frankfurter', 'citrus fruit'}), support=0.002308876346844536, ordered_statistics=[OrderedStatistic(items_base=frozenset({'salt'}), items_add=frozenset({'frankfurter', 'citrus fruit'}), confidence=0.10112359550561797, lift=3.4276502198339034), OrderedStatistic(items_base=frozenset({'frankfurter', 'citrus fruit'}), items_add=frozenset({'salt'}), confidence=0.0782608695652174, lift=3.4276502198339034)]),\n",
       " RelationRecord(items=frozenset({'fruit/vegetable juice', 'pickled vegetables', 'citrus fruit'}), support=0.0028219599794766545, ordered_statistics=[OrderedStatistic(items_base=frozenset({'pickled vegetables'}), items_add=frozenset({'fruit/vegetable juice', 'citrus fruit'}), confidence=0.08461538461538462, lift=3.1116110304789553), OrderedStatistic(items_base=frozenset({'fruit/vegetable juice', 'citrus fruit'}), items_add=frozenset({'pickled vegetables'}), confidence=0.10377358490566037, lift=3.111611030478955)]),\n",
       " RelationRecord(items=frozenset({'fruit/vegetable juice', 'seasonal products', 'citrus fruit'}), support=0.002308876346844536, ordered_statistics=[OrderedStatistic(items_base=frozenset({'seasonal products'}), items_add=frozenset({'fruit/vegetable juice', 'citrus fruit'}), confidence=0.08910891089108912, lift=3.2768541005043903), OrderedStatistic(items_base=frozenset({'fruit/vegetable juice', 'citrus fruit'}), items_add=frozenset({'seasonal products'}), confidence=0.08490566037735849, lift=3.27685410050439)]),\n",
       " RelationRecord(items=frozenset({'light bulbs', 'citrus fruit', 'soda'}), support=0.002308876346844536, ordered_statistics=[OrderedStatistic(items_base=frozenset({'light bulbs'}), items_add=frozenset({'citrus fruit', 'soda'}), confidence=0.32142857142857145, lift=4.9327896512935885), OrderedStatistic(items_base=frozenset({'light bulbs', 'soda'}), items_add=frozenset({'citrus fruit'}), confidence=0.6923076923076924, lift=3.7376944385254642)]),\n",
       " RelationRecord(items=frozenset({'long life bakery product', 'meat', 'citrus fruit'}), support=0.0030785017957927143, ordered_statistics=[OrderedStatistic(items_base=frozenset({'long life bakery product', 'citrus fruit'}), items_add=frozenset({'meat'}), confidence=0.22641509433962265, lift=3.5587340231284235), OrderedStatistic(items_base=frozenset({'meat', 'citrus fruit'}), items_add=frozenset({'long life bakery product'}), confidence=0.23529411764705882, lift=3.5967704728950403)]),\n",
       " RelationRecord(items=frozenset({'misc. beverages', 'onions', 'citrus fruit'}), support=0.002565418163160595, ordered_statistics=[OrderedStatistic(items_base=frozenset({'onions', 'citrus fruit'}), items_add=frozenset({'misc. beverages'}), confidence=0.17857142857142858, lift=3.0263975155279503)]),\n",
       " RelationRecord(items=frozenset({'pastry', 'mustard', 'citrus fruit'}), support=0.002052334530528476, ordered_statistics=[OrderedStatistic(items_base=frozenset({'mustard', 'citrus fruit'}), items_add=frozenset({'pastry'}), confidence=0.5333333333333333, lift=3.0042389210019267)]),\n",
       " RelationRecord(items=frozenset({'specialty chocolate', 'oil', 'citrus fruit'}), support=0.002565418163160595, ordered_statistics=[OrderedStatistic(items_base=frozenset({'oil', 'citrus fruit'}), items_add=frozenset({'specialty chocolate'}), confidence=0.18867924528301885, lift=3.2257530619000327)]),\n",
       " RelationRecord(items=frozenset({'waffles', 'oil', 'citrus fruit'}), support=0.0028219599794766545, ordered_statistics=[OrderedStatistic(items_base=frozenset({'oil'}), items_add=frozenset({'waffles', 'citrus fruit'}), confidence=0.05069124423963133, lift=3.528472679394338), OrderedStatistic(items_base=frozenset({'oil', 'citrus fruit'}), items_add=frozenset({'waffles'}), confidence=0.20754716981132074, lift=3.0075050852212946), OrderedStatistic(items_base=frozenset({'waffles', 'citrus fruit'}), items_add=frozenset({'oil'}), confidence=0.1964285714285714, lift=3.5284726793943375)]),\n",
       " RelationRecord(items=frozenset({'pastry', 'pet care', 'citrus fruit'}), support=0.0028219599794766545, ordered_statistics=[OrderedStatistic(items_base=frozenset({'pet care'}), items_add=frozenset({'pastry', 'citrus fruit'}), confidence=0.12941176470588234, lift=3.5031045751633982), OrderedStatistic(items_base=frozenset({'pastry', 'citrus fruit'}), items_add=frozenset({'pet care'}), confidence=0.07638888888888888, lift=3.5031045751633982)]),\n",
       " RelationRecord(items=frozenset({'specialty chocolate', 'specialty bar', 'citrus fruit'}), support=0.0028219599794766545, ordered_statistics=[OrderedStatistic(items_base=frozenset({'specialty bar'}), items_add=frozenset({'specialty chocolate', 'citrus fruit'}), confidence=0.053658536585365846, lift=3.4288684526189517), OrderedStatistic(items_base=frozenset({'specialty bar', 'citrus fruit'}), items_add=frozenset({'specialty chocolate'}), confidence=0.2156862745098039, lift=3.6874785001719985), OrderedStatistic(items_base=frozenset({'specialty chocolate', 'citrus fruit'}), items_add=frozenset({'specialty bar'}), confidence=0.180327868852459, lift=3.4288684526189517)]),\n",
       " RelationRecord(items=frozenset({'cream cheese', 'coffee', 'ham'}), support=0.002052334530528476, ordered_statistics=[OrderedStatistic(items_base=frozenset({'coffee', 'ham'}), items_add=frozenset({'cream cheese'}), confidence=0.2857142857142857, lift=3.22815734989648)]),\n",
       " RelationRecord(items=frozenset({'cream cheese', 'misc. beverages', 'coffee'}), support=0.0028219599794766545, ordered_statistics=[OrderedStatistic(items_base=frozenset({'cream cheese', 'coffee'}), items_add=frozenset({'misc. beverages'}), confidence=0.2037037037037037, lift=3.452334943639291), OrderedStatistic(items_base=frozenset({'misc. beverages', 'coffee'}), items_add=frozenset({'cream cheese'}), confidence=0.282051282051282, lift=3.1867707172054995), OrderedStatistic(items_base=frozenset({'cream cheese', 'misc. beverages'}), items_add=frozenset({'coffee'}), confidence=0.47826086956521735, lift=4.161296583850931)]),\n",
       " RelationRecord(items=frozenset({'cream cheese', 'coffee', 'onions'}), support=0.002565418163160595, ordered_statistics=[OrderedStatistic(items_base=frozenset({'coffee', 'onions'}), items_add=frozenset({'cream cheese'}), confidence=0.27777777777777773, lift=3.1384863123993556)]),\n",
       " RelationRecord(items=frozenset({'curd cheese', 'rolls/buns', 'coffee'}), support=0.002052334530528476, ordered_statistics=[OrderedStatistic(items_base=frozenset({'curd cheese'}), items_add=frozenset({'rolls/buns', 'coffee'}), confidence=0.17391304347826086, lift=4.059359541785994), OrderedStatistic(items_base=frozenset({'curd cheese', 'rolls/buns'}), items_add=frozenset({'coffee'}), confidence=0.34782608695652173, lift=3.0263975155279503)]),\n",
       " RelationRecord(items=frozenset({'frankfurter', 'coffee', 'semi-finished bread'}), support=0.002052334530528476, ordered_statistics=[OrderedStatistic(items_base=frozenset({'coffee', 'semi-finished bread'}), items_add=frozenset({'frankfurter'}), confidence=0.4210526315789474, lift=3.0677816035415644), OrderedStatistic(items_base=frozenset({'frankfurter', 'semi-finished bread'}), items_add=frozenset({'coffee'}), confidence=0.34782608695652173, lift=3.0263975155279503)]),\n",
       " RelationRecord(items=frozenset({'turkey', 'tropical fruit', 'coffee'}), support=0.002052334530528476, ordered_statistics=[OrderedStatistic(items_base=frozenset({'turkey'}), items_add=frozenset({'tropical fruit', 'coffee'}), confidence=0.10256410256410255, lift=3.147991116495053), OrderedStatistic(items_base=frozenset({'tropical fruit', 'coffee'}), items_add=frozenset({'turkey'}), confidence=0.06299212598425195, lift=3.1479911164950525)]),\n",
       " RelationRecord(items=frozenset({'pip fruit', 'condensed milk', 'sausage'}), support=0.0030785017957927143, ordered_statistics=[OrderedStatistic(items_base=frozenset({'condensed milk'}), items_add=frozenset({'pip fruit', 'sausage'}), confidence=0.12903225806451613, lift=3.066876475216365), OrderedStatistic(items_base=frozenset({'pip fruit', 'sausage'}), items_add=frozenset({'condensed milk'}), confidence=0.07317073170731708, lift=3.0668764752163655)]),\n",
       " RelationRecord(items=frozenset({'waffles', 'rolls/buns', 'condensed milk'}), support=0.002565418163160595, ordered_statistics=[OrderedStatistic(items_base=frozenset({'condensed milk'}), items_add=frozenset({'waffles', 'rolls/buns'}), confidence=0.10752688172043011, lift=4.321028710785944), OrderedStatistic(items_base=frozenset({'rolls/buns', 'condensed milk'}), items_add=frozenset({'waffles'}), confidence=0.25, lift=3.622676579925651), OrderedStatistic(items_base=frozenset({'waffles', 'rolls/buns'}), items_add=frozenset({'condensed milk'}), confidence=0.10309278350515463, lift=4.321028710785944)]),\n",
       " RelationRecord(items=frozenset({'condensed milk', 'whipped/sour cream', 'sausage'}), support=0.0030785017957927143, ordered_statistics=[OrderedStatistic(items_base=frozenset({'condensed milk'}), items_add=frozenset({'sausage', 'whipped/sour cream'}), confidence=0.12903225806451613, lift=3.3089983022071308), OrderedStatistic(items_base=frozenset({'condensed milk', 'whipped/sour cream'}), items_add=frozenset({'sausage'}), confidence=0.75, lift=3.6407222914072226), OrderedStatistic(items_base=frozenset({'sausage', 'whipped/sour cream'}), items_add=frozenset({'condensed milk'}), confidence=0.07894736842105264, lift=3.308998302207131)]),\n",
       " RelationRecord(items=frozenset({'waffles', 'condensed milk', 'soda'}), support=0.002308876346844536, ordered_statistics=[OrderedStatistic(items_base=frozenset({'condensed milk'}), items_add=frozenset({'waffles', 'soda'}), confidence=0.09677419354838711, lift=3.970797962648557), OrderedStatistic(items_base=frozenset({'condensed milk', 'soda'}), items_add=frozenset({'waffles'}), confidence=0.2647058823529412, lift=3.835775202274218), OrderedStatistic(items_base=frozenset({'waffles', 'soda'}), items_add=frozenset({'condensed milk'}), confidence=0.09473684210526316, lift=3.970797962648557)]),\n",
       " RelationRecord(items=frozenset({'cream cheese', 'frankfurter', 'dessert'}), support=0.002565418163160595, ordered_statistics=[OrderedStatistic(items_base=frozenset({'frankfurter', 'dessert'}), items_add=frozenset({'cream cheese'}), confidence=0.27777777777777773, lift=3.1384863123993556)]),\n",
       " RelationRecord(items=frozenset({'cream cheese', 'napkins', 'hamburger meat'}), support=0.002052334530528476, ordered_statistics=[OrderedStatistic(items_base=frozenset({'napkins', 'hamburger meat'}), items_add=frozenset({'cream cheese'}), confidence=0.36363636363636365, lift=4.108563899868248)]),\n",
       " RelationRecord(items=frozenset({'herbs', 'cream cheese', 'sausage'}), support=0.002308876346844536, ordered_statistics=[OrderedStatistic(items_base=frozenset({'herbs', 'cream cheese'}), items_add=frozenset({'sausage'}), confidence=0.6923076923076924, lift=3.3606667305297444)]),\n",
       " RelationRecord(items=frozenset({'cream cheese', 'waffles', 'onions'}), support=0.002052334530528476, ordered_statistics=[OrderedStatistic(items_base=frozenset({'cream cheese', 'waffles'}), items_add=frozenset({'onions'}), confidence=0.26666666666666666, lift=3.4998877665544335), OrderedStatistic(items_base=frozenset({'waffles', 'onions'}), items_add=frozenset({'cream cheese'}), confidence=0.2962962962962963, lift=3.3477187332259795)]),\n",
       " RelationRecord(items=frozenset({'cream cheese', 'tropical fruit', 'red/blush wine'}), support=0.0030785017957927143, ordered_statistics=[OrderedStatistic(items_base=frozenset({'red/blush wine'}), items_add=frozenset({'cream cheese', 'tropical fruit'}), confidence=0.07741935483870968, lift=3.143548387096774), OrderedStatistic(items_base=frozenset({'cream cheese', 'tropical fruit'}), items_add=frozenset({'red/blush wine'}), confidence=0.125, lift=3.143548387096774), OrderedStatistic(items_base=frozenset({'tropical fruit', 'red/blush wine'}), items_add=frozenset({'cream cheese'}), confidence=0.32432432432432434, lift=3.6643948296122213)]),\n",
       " RelationRecord(items=frozenset({'curd', 'frankfurter', 'packaged fruit/vegetables'}), support=0.002052334530528476, ordered_statistics=[OrderedStatistic(items_base=frozenset({'packaged fruit/vegetables'}), items_add=frozenset({'curd', 'frankfurter'}), confidence=0.06451612903225806, lift=3.2660242982823626), OrderedStatistic(items_base=frozenset({'curd', 'frankfurter'}), items_add=frozenset({'packaged fruit/vegetables'}), confidence=0.10389610389610388, lift=3.266024298282362), OrderedStatistic(items_base=frozenset({'frankfurter', 'packaged fruit/vegetables'}), items_add=frozenset({'curd'}), confidence=0.38095238095238093, lift=3.1527651400262866)]),\n",
       " RelationRecord(items=frozenset({'curd', 'frankfurter', 'processed cheese'}), support=0.002308876346844536, ordered_statistics=[OrderedStatistic(items_base=frozenset({'processed cheese'}), items_add=frozenset({'curd', 'frankfurter'}), confidence=0.060000000000000005, lift=3.0374025974025973), OrderedStatistic(items_base=frozenset({'curd', 'frankfurter'}), items_add=frozenset({'processed cheese'}), confidence=0.11688311688311688, lift=3.0374025974025973)]),\n",
       " RelationRecord(items=frozenset({'curd', 'house keeping products', 'soda'}), support=0.002052334530528476, ordered_statistics=[OrderedStatistic(items_base=frozenset({'house keeping products'}), items_add=frozenset({'curd', 'soda'}), confidence=0.17777777777777776, lift=4.124867724867724), OrderedStatistic(items_base=frozenset({'house keeping products', 'soda'}), items_add=frozenset({'curd'}), confidence=0.6666666666666666, lift=5.517338995046002)]),\n",
       " RelationRecord(items=frozenset({'curd', 'whole milk', 'house keeping products'}), support=0.002565418163160595, ordered_statistics=[OrderedStatistic(items_base=frozenset({'house keeping products'}), items_add=frozenset({'curd', 'whole milk'}), confidence=0.2222222222222222, lift=3.4928315412186377)]),\n",
       " RelationRecord(items=frozenset({'root vegetables', 'turkey', 'curd'}), support=0.002308876346844536, ordered_statistics=[OrderedStatistic(items_base=frozenset({'turkey'}), items_add=frozenset({'root vegetables', 'curd'}), confidence=0.11538461538461539, lift=3.844181459566075), OrderedStatistic(items_base=frozenset({'root vegetables', 'curd'}), items_add=frozenset({'turkey'}), confidence=0.07692307692307693, lift=3.844181459566075)]),\n",
       " RelationRecord(items=frozenset({'curd', 'zwieback', 'soda'}), support=0.002308876346844536, ordered_statistics=[OrderedStatistic(items_base=frozenset({'zwieback'}), items_add=frozenset({'curd', 'soda'}), confidence=0.15000000000000002, lift=3.480357142857143), OrderedStatistic(items_base=frozenset({'curd', 'soda'}), items_add=frozenset({'zwieback'}), confidence=0.053571428571428575, lift=3.480357142857143)]),\n",
       " RelationRecord(items=frozenset({'turkey', 'curd', 'tropical fruit'}), support=0.002308876346844536, ordered_statistics=[OrderedStatistic(items_base=frozenset({'turkey'}), items_add=frozenset({'curd', 'tropical fruit'}), confidence=0.11538461538461539, lift=3.1673889490790903), OrderedStatistic(items_base=frozenset({'curd', 'tropical fruit'}), items_add=frozenset({'turkey'}), confidence=0.06338028169014086, lift=3.1673889490790903), OrderedStatistic(items_base=frozenset({'turkey', 'tropical fruit'}), items_add=frozenset({'curd'}), confidence=0.375, lift=3.103503184713376)]),\n",
       " RelationRecord(items=frozenset({'curd cheese', 'yogurt', 'pastry'}), support=0.002052334530528476, ordered_statistics=[OrderedStatistic(items_base=frozenset({'curd cheese'}), items_add=frozenset({'pastry', 'yogurt'}), confidence=0.17391304347826086, lift=3.0129468599033817)]),\n",
       " RelationRecord(items=frozenset({'curd cheese', 'rolls/buns', 'whipped/sour cream'}), support=0.002308876346844536, ordered_statistics=[OrderedStatistic(items_base=frozenset({'curd cheese'}), items_add=frozenset({'rolls/buns', 'whipped/sour cream'}), confidence=0.1956521739130435, lift=3.3449656750572085)]),\n",
       " RelationRecord(items=frozenset({'yogurt', 'sausage', 'dental care'}), support=0.002052334530528476, ordered_statistics=[OrderedStatistic(items_base=frozenset({'dental care'}), items_add=frozenset({'yogurt', 'sausage'}), confidence=0.2424242424242424, lift=3.225152549384631)]),\n",
       " RelationRecord(items=frozenset({'white bread', 'dessert', 'onions'}), support=0.002052334530528476, ordered_statistics=[OrderedStatistic(items_base=frozenset({'white bread', 'onions'}), items_add=frozenset({'dessert'}), confidence=0.27586206896551724, lift=3.1908318837613834)]),\n",
       " RelationRecord(items=frozenset({'pastry', 'dessert', 'red/blush wine'}), support=0.0035915854284248334, ordered_statistics=[OrderedStatistic(items_base=frozenset({'red/blush wine'}), items_add=frozenset({'pastry', 'dessert'}), confidence=0.0903225806451613, lift=4.822978347326558), OrderedStatistic(items_base=frozenset({'pastry', 'dessert'}), items_add=frozenset({'red/blush wine'}), confidence=0.1917808219178082, lift=4.822978347326558), OrderedStatistic(items_base=frozenset({'dessert', 'red/blush wine'}), items_add=frozenset({'pastry'}), confidence=0.6666666666666666, lift=3.7552986512524082), OrderedStatistic(items_base=frozenset({'pastry', 'red/blush wine'}), items_add=frozenset({'dessert'}), confidence=0.358974358974359, lift=4.152172258997185)]),\n",
       " RelationRecord(items=frozenset({'specialty cheese', 'rolls/buns', 'dessert'}), support=0.002052334530528476, ordered_statistics=[OrderedStatistic(items_base=frozenset({'specialty cheese'}), items_add=frozenset({'rolls/buns', 'dessert'}), confidence=0.11267605633802817, lift=3.182690344968361), OrderedStatistic(items_base=frozenset({'rolls/buns', 'dessert'}), items_add=frozenset({'specialty cheese'}), confidence=0.057971014492753624, lift=3.182690344968361), OrderedStatistic(items_base=frozenset({'specialty cheese', 'rolls/buns'}), items_add=frozenset({'dessert'}), confidence=0.31999999999999995, lift=3.7013649851632042)]),\n",
       " RelationRecord(items=frozenset({'sausage', 'detergent', 'ham'}), support=0.002052334530528476, ordered_statistics=[OrderedStatistic(items_base=frozenset({'detergent'}), items_add=frozenset({'sausage', 'ham'}), confidence=0.06299212598425195, lift=4.30777731730902), OrderedStatistic(items_base=frozenset({'sausage', 'detergent'}), items_add=frozenset({'ham'}), confidence=0.2424242424242424, lift=3.8257882468408777), OrderedStatistic(items_base=frozenset({'sausage', 'ham'}), items_add=frozenset({'detergent'}), confidence=0.14035087719298245, lift=4.30777731730902)]),\n",
       " RelationRecord(items=frozenset({'sausage', 'detergent', 'newspapers'}), support=0.0035915854284248334, ordered_statistics=[OrderedStatistic(items_base=frozenset({'detergent'}), items_add=frozenset({'sausage', 'newspapers'}), confidence=0.11023622047244094, lift=3.4935023365981692), OrderedStatistic(items_base=frozenset({'sausage', 'detergent'}), items_add=frozenset({'newspapers'}), confidence=0.4242424242424242, lift=3.0343063664164576), OrderedStatistic(items_base=frozenset({'sausage', 'newspapers'}), items_add=frozenset({'detergent'}), confidence=0.11382113821138212, lift=3.4935023365981692)]),\n",
       " RelationRecord(items=frozenset({'whipped/sour cream', 'detergent', 'newspapers'}), support=0.0028219599794766545, ordered_statistics=[OrderedStatistic(items_base=frozenset({'detergent'}), items_add=frozenset({'newspapers', 'whipped/sour cream'}), confidence=0.08661417322834644, lift=3.1261300670749486), OrderedStatistic(items_base=frozenset({'detergent', 'whipped/sour cream'}), items_add=frozenset({'newspapers'}), confidence=0.43999999999999995, lift=3.147009174311926), OrderedStatistic(items_base=frozenset({'whipped/sour cream', 'newspapers'}), items_add=frozenset({'detergent'}), confidence=0.10185185185185185, lift=3.1261300670749486)]),\n",
       " RelationRecord(items=frozenset({'sliced cheese', 'detergent', 'other vegetables'}), support=0.002565418163160595, ordered_statistics=[OrderedStatistic(items_base=frozenset({'detergent'}), items_add=frozenset({'other vegetables', 'sliced cheese'}), confidence=0.07874015748031496, lift=3.5689434169566012), OrderedStatistic(items_base=frozenset({'detergent', 'other vegetables'}), items_add=frozenset({'sliced cheese'}), confidence=0.18181818181818182, lift=3.5085508550855087), OrderedStatistic(items_base=frozenset({'other vegetables', 'sliced cheese'}), items_add=frozenset({'detergent'}), confidence=0.11627906976744186, lift=3.5689434169566012)]),\n",
       " RelationRecord(items=frozenset({'soft cheese', 'detergent', 'other vegetables'}), support=0.002052334530528476, ordered_statistics=[OrderedStatistic(items_base=frozenset({'detergent'}), items_add=frozenset({'soft cheese', 'other vegetables'}), confidence=0.06299212598425195, lift=3.410323709536307), OrderedStatistic(items_base=frozenset({'soft cheese'}), items_add=frozenset({'detergent', 'other vegetables'}), confidence=0.05442176870748299, lift=3.8570191713048856), OrderedStatistic(items_base=frozenset({'detergent', 'other vegetables'}), items_add=frozenset({'soft cheese'}), confidence=0.14545454545454545, lift=3.8570191713048856), OrderedStatistic(items_base=frozenset({'soft cheese', 'other vegetables'}), items_add=frozenset({'detergent'}), confidence=0.1111111111111111, lift=3.4103237095363075)]),\n",
       " RelationRecord(items=frozenset({'white wine', 'detergent', 'other vegetables'}), support=0.002052334530528476, ordered_statistics=[OrderedStatistic(items_base=frozenset({'detergent'}), items_add=frozenset({'white wine', 'other vegetables'}), confidence=0.06299212598425195, lift=3.6109309865678547), OrderedStatistic(items_base=frozenset({'detergent', 'other vegetables'}), items_add=frozenset({'white wine'}), confidence=0.14545454545454545, lift=3.2964059196617335), OrderedStatistic(items_base=frozenset({'other vegetables', 'white wine'}), items_add=frozenset({'detergent'}), confidence=0.11764705882352941, lift=3.610930986567855)]),\n",
       " RelationRecord(items=frozenset({'soft cheese', 'whole milk', 'detergent'}), support=0.002308876346844536, ordered_statistics=[OrderedStatistic(items_base=frozenset({'detergent'}), items_add=frozenset({'whole milk', 'soft cheese'}), confidence=0.07086614173228346, lift=3.634687111479486), OrderedStatistic(items_base=frozenset({'soft cheese'}), items_add=frozenset({'whole milk', 'detergent'}), confidence=0.06122448979591837, lift=3.509603841536615), OrderedStatistic(items_base=frozenset({'whole milk', 'detergent'}), items_add=frozenset({'soft cheese'}), confidence=0.1323529411764706, lift=3.509603841536615), OrderedStatistic(items_base=frozenset({'whole milk', 'soft cheese'}), items_add=frozenset({'detergent'}), confidence=0.11842105263157897, lift=3.6346871114794865)]),\n",
       " RelationRecord(items=frozenset({'root vegetables', 'pip fruit', 'dish cleaner'}), support=0.002565418163160595, ordered_statistics=[OrderedStatistic(items_base=frozenset({'dish cleaner'}), items_add=frozenset({'root vegetables', 'pip fruit'}), confidence=0.136986301369863, lift=3.0688080617225633), OrderedStatistic(items_base=frozenset({'root vegetables', 'pip fruit'}), items_add=frozenset({'dish cleaner'}), confidence=0.05747126436781609, lift=3.0688080617225633)]),\n",
       " RelationRecord(items=frozenset({'dishes', 'grapes', 'soda'}), support=0.002052334530528476, ordered_statistics=[OrderedStatistic(items_base=frozenset({'dishes'}), items_add=frozenset({'grapes', 'soda'}), confidence=0.06015037593984962, lift=3.0850811238622873), OrderedStatistic(items_base=frozenset({'dishes', 'soda'}), items_add=frozenset({'grapes'}), confidence=0.2162162162162162, lift=3.9383682748168725), OrderedStatistic(items_base=frozenset({'grapes', 'soda'}), items_add=frozenset({'dishes'}), confidence=0.10526315789473685, lift=3.0850811238622877)]),\n",
       " RelationRecord(items=frozenset({'whole milk', 'dishes', 'liquor'}), support=0.002308876346844536, ordered_statistics=[OrderedStatistic(items_base=frozenset({'dishes'}), items_add=frozenset({'whole milk', 'liquor'}), confidence=0.06766917293233084, lift=4.058068247541932), OrderedStatistic(items_base=frozenset({'liquor'}), items_add=frozenset({'whole milk', 'dishes'}), confidence=0.08737864077669903, lift=4.48160449667859), OrderedStatistic(items_base=frozenset({'whole milk', 'dishes'}), items_add=frozenset({'liquor'}), confidence=0.11842105263157897, lift=4.481604496678591), OrderedStatistic(items_base=frozenset({'whole milk', 'liquor'}), items_add=frozenset({'dishes'}), confidence=0.13846153846153847, lift=4.058068247541932)]),\n",
       " RelationRecord(items=frozenset({'domestic eggs', 'oil', 'hamburger meat'}), support=0.002052334530528476, ordered_statistics=[OrderedStatistic(items_base=frozenset({'domestic eggs', 'hamburger meat'}), items_add=frozenset({'oil'}), confidence=0.2105263157894737, lift=3.781712345379578)]),\n",
       " RelationRecord(items=frozenset({'domestic eggs', 'long life bakery product', 'meat'}), support=0.002052334530528476, ordered_statistics=[OrderedStatistic(items_base=frozenset({'domestic eggs', 'long life bakery product'}), items_add=frozenset({'meat'}), confidence=0.19999999999999998, lift=3.1435483870967738)]),\n",
       " RelationRecord(items=frozenset({'domestic eggs', 'white bread', 'meat'}), support=0.0030785017957927143, ordered_statistics=[OrderedStatistic(items_base=frozenset({'domestic eggs', 'white bread'}), items_add=frozenset({'meat'}), confidence=0.22641509433962265, lift=3.5587340231284235)]),\n",
       " RelationRecord(items=frozenset({'domestic eggs', 'whole milk', 'meat spreads'}), support=0.0033350436121087736, ordered_statistics=[OrderedStatistic(items_base=frozenset({'meat spreads'}), items_add=frozenset({'domestic eggs', 'whole milk'}), confidence=0.37142857142857144, lift=5.284045881126173), OrderedStatistic(items_base=frozenset({'whole milk', 'meat spreads'}), items_add=frozenset({'domestic eggs'}), confidence=0.46428571428571425, lift=3.4870630333058075)]),\n",
       " RelationRecord(items=frozenset({'pork', 'domestic eggs', 'oil'}), support=0.0038481272447408927, ordered_statistics=[OrderedStatistic(items_base=frozenset({'oil'}), items_add=frozenset({'pork', 'domestic eggs'}), confidence=0.06912442396313363, lift=3.499311748159674), OrderedStatistic(items_base=frozenset({'pork', 'domestic eggs'}), items_add=frozenset({'oil'}), confidence=0.1948051948051948, lift=3.499311748159674)]),\n",
       " RelationRecord(items=frozenset({'domestic eggs', 'waffles', 'onions'}), support=0.002565418163160595, ordered_statistics=[OrderedStatistic(items_base=frozenset({'domestic eggs', 'onions'}), items_add=frozenset({'waffles'}), confidence=0.2272727272727273, lift=3.2933423453869555), OrderedStatistic(items_base=frozenset({'domestic eggs', 'waffles'}), items_add=frozenset({'onions'}), confidence=0.25, lift=3.281144781144781)]),\n",
       " RelationRecord(items=frozenset({'domestic eggs', 'soups', 'soda'}), support=0.002052334530528476, ordered_statistics=[OrderedStatistic(items_base=frozenset({'soups'}), items_add=frozenset({'domestic eggs', 'soda'}), confidence=0.16666666666666666, lift=3.7552986512524082)]),\n",
       " RelationRecord(items=frozenset({'domestic eggs', 'yogurt', 'soups'}), support=0.002052334530528476, ordered_statistics=[OrderedStatistic(items_base=frozenset({'soups'}), items_add=frozenset({'domestic eggs', 'yogurt'}), confidence=0.16666666666666666, lift=3.844181459566075), OrderedStatistic(items_base=frozenset({'yogurt', 'soups'}), items_add=frozenset({'domestic eggs'}), confidence=0.39999999999999997, lift=3.0042389210019262)]),\n",
       " RelationRecord(items=frozenset({'finished products', 'white bread', 'other vegetables'}), support=0.002308876346844536, ordered_statistics=[OrderedStatistic(items_base=frozenset({'finished products'}), items_add=frozenset({'white bread', 'other vegetables'}), confidence=0.14062500000000003, lift=3.860255281690142), OrderedStatistic(items_base=frozenset({'finished products', 'other vegetables'}), items_add=frozenset({'white bread'}), confidence=0.3103448275862069, lift=3.496312537372932), OrderedStatistic(items_base=frozenset({'white bread', 'other vegetables'}), items_add=frozenset({'finished products'}), confidence=0.06338028169014086, lift=3.860255281690142)]),\n",
       " RelationRecord(items=frozenset({'soda', 'newspapers', 'flower (seeds)'}), support=0.0028219599794766545, ordered_statistics=[OrderedStatistic(items_base=frozenset({'flower (seeds)'}), items_add=frozenset({'newspapers', 'soda'}), confidence=0.16417910447761191, lift=3.298815202338821), OrderedStatistic(items_base=frozenset({'newspapers', 'soda'}), items_add=frozenset({'flower (seeds)'}), confidence=0.05670103092783505, lift=3.298815202338821)]),\n",
       " RelationRecord(items=frozenset({'yogurt', 'frankfurter', 'instant coffee'}), support=0.002308876346844536, ordered_statistics=[OrderedStatistic(items_base=frozenset({'instant coffee'}), items_add=frozenset({'yogurt', 'frankfurter'}), confidence=0.15254237288135594, lift=3.6479151502547573), OrderedStatistic(items_base=frozenset({'yogurt', 'frankfurter'}), items_add=frozenset({'instant coffee'}), confidence=0.05521472392638037, lift=3.6479151502547573)]),\n",
       " RelationRecord(items=frozenset({'specialty chocolate', 'misc. beverages', 'frankfurter'}), support=0.002052334530528476, ordered_statistics=[OrderedStatistic(items_base=frozenset({'specialty chocolate', 'frankfurter'}), items_add=frozenset({'misc. beverages'}), confidence=0.19047619047619047, lift=3.22815734989648)]),\n",
       " RelationRecord(items=frozenset({'pasta', 'pastry', 'frankfurter'}), support=0.002052334530528476, ordered_statistics=[OrderedStatistic(items_base=frozenset({'pasta', 'frankfurter'}), items_add=frozenset({'pastry'}), confidence=0.5714285714285714, lift=3.218827415359207)]),\n",
       " RelationRecord(items=frozenset({'frozen fish', 'tropical fruit', 'fruit/vegetable juice'}), support=0.0028219599794766545, ordered_statistics=[OrderedStatistic(items_base=frozenset({'frozen fish'}), items_add=frozenset({'tropical fruit', 'fruit/vegetable juice'}), confidence=0.1089108910891089, lift=3.290966305932918), OrderedStatistic(items_base=frozenset({'fruit/vegetable juice', 'tropical fruit'}), items_add=frozenset({'frozen fish'}), confidence=0.08527131782945735, lift=3.290966305932918)]),\n",
       " RelationRecord(items=frozenset({'fruit/vegetable juice', 'meat', 'frozen meals'}), support=0.002052334530528476, ordered_statistics=[OrderedStatistic(items_base=frozenset({'fruit/vegetable juice', 'meat'}), items_add=frozenset({'frozen meals'}), confidence=0.2105263157894737, lift=3.3495166487647694)]),\n",
       " RelationRecord(items=frozenset({'specialty chocolate', 'margarine', 'frozen meals'}), support=0.002052334530528476, ordered_statistics=[OrderedStatistic(items_base=frozenset({'margarine', 'frozen meals'}), items_add=frozenset({'specialty chocolate'}), confidence=0.3076923076923077, lift=5.260458839406208), OrderedStatistic(items_base=frozenset({'specialty chocolate', 'frozen meals'}), items_add=frozenset({'margarine'}), confidence=0.39999999999999997, lift=3.4268131868131864), OrderedStatistic(items_base=frozenset({'specialty chocolate', 'margarine'}), items_add=frozenset({'frozen meals'}), confidence=0.25806451612903225, lift=4.1058591178406845)]),\n",
       " RelationRecord(items=frozenset({'specialty bar', 'sausage', 'frozen meals'}), support=0.0028219599794766545, ordered_statistics=[OrderedStatistic(items_base=frozenset({'specialty bar'}), items_add=frozenset({'sausage', 'frozen meals'}), confidence=0.053658536585365846, lift=3.373564122738001), OrderedStatistic(items_base=frozenset({'sausage', 'frozen meals'}), items_add=frozenset({'specialty bar'}), confidence=0.17741935483870966, lift=3.373564122738001), OrderedStatistic(items_base=frozenset({'specialty bar', 'sausage'}), items_add=frozenset({'frozen meals'}), confidence=0.19298245614035087, lift=3.070390261367705)]),\n",
       " RelationRecord(items=frozenset({'long life bakery product', 'rolls/buns', 'frozen potato products'}), support=0.002308876346844536, ordered_statistics=[OrderedStatistic(items_base=frozenset({'frozen potato products'}), items_add=frozenset({'long life bakery product', 'rolls/buns'}), confidence=0.125, lift=4.553738317757009), OrderedStatistic(items_base=frozenset({'rolls/buns', 'frozen potato products'}), items_add=frozenset({'long life bakery product'}), confidence=0.30000000000000004, lift=4.585882352941177), OrderedStatistic(items_base=frozenset({'long life bakery product', 'rolls/buns'}), items_add=frozenset({'frozen potato products'}), confidence=0.08411214953271029, lift=4.553738317757009)]),\n",
       " RelationRecord(items=frozenset({'frozen vegetables', 'sugar', 'fruit/vegetable juice'}), support=0.0030785017957927143, ordered_statistics=[OrderedStatistic(items_base=frozenset({'frozen vegetables', 'fruit/vegetable juice'}), items_add=frozenset({'sugar'}), confidence=0.2, lift=3.033463035019455)]),\n",
       " RelationRecord(items=frozenset({'frozen vegetables', 'whole milk', 'house keeping products'}), support=0.002308876346844536, ordered_statistics=[OrderedStatistic(items_base=frozenset({'house keeping products'}), items_add=frozenset({'frozen vegetables', 'whole milk'}), confidence=0.2, lift=3.6260465116279073)]),\n",
       " RelationRecord(items=frozenset({'pork', 'oil', 'frozen vegetables'}), support=0.002308876346844536, ordered_statistics=[OrderedStatistic(items_base=frozenset({'oil', 'frozen vegetables'}), items_add=frozenset({'pork'}), confidence=0.40909090909090917, lift=3.090380549682876)]),\n",
       " RelationRecord(items=frozenset({'rice', 'frozen vegetables', 'other vegetables'}), support=0.002308876346844536, ordered_statistics=[OrderedStatistic(items_base=frozenset({'rice'}), items_add=frozenset({'frozen vegetables', 'other vegetables'}), confidence=0.1836734693877551, lift=4.022242604907132), OrderedStatistic(items_base=frozenset({'frozen vegetables', 'other vegetables'}), items_add=frozenset({'rice'}), confidence=0.05056179775280899, lift=4.022242604907132), OrderedStatistic(items_base=frozenset({'rice', 'other vegetables'}), items_add=frozenset({'frozen vegetables'}), confidence=0.4285714285714286, lift=4.176428571428572)]),\n",
       " RelationRecord(items=frozenset({'fruit/vegetable juice', 'sugar', 'ham'}), support=0.002308876346844536, ordered_statistics=[OrderedStatistic(items_base=frozenset({'fruit/vegetable juice', 'ham'}), items_add=frozenset({'sugar'}), confidence=0.23076923076923078, lift=3.500149655791679), OrderedStatistic(items_base=frozenset({'sugar', 'ham'}), items_add=frozenset({'fruit/vegetable juice'}), confidence=0.4285714285714286, lift=3.430331475506014)]),\n",
       " RelationRecord(items=frozenset({'fruit/vegetable juice', 'napkins', 'hamburger meat'}), support=0.002308876346844536, ordered_statistics=[OrderedStatistic(items_base=frozenset({'napkins', 'hamburger meat'}), items_add=frozenset({'fruit/vegetable juice'}), confidence=0.40909090909090917, lift=3.274407317528468)]),\n",
       " RelationRecord(items=frozenset({'fruit/vegetable juice', 'newspapers', 'hard cheese'}), support=0.0028219599794766545, ordered_statistics=[OrderedStatistic(items_base=frozenset({'hard cheese'}), items_add=frozenset({'fruit/vegetable juice', 'newspapers'}), confidence=0.052884615384615384, lift=3.171449704142012), OrderedStatistic(items_base=frozenset({'fruit/vegetable juice', 'newspapers'}), items_add=frozenset({'hard cheese'}), confidence=0.16923076923076924, lift=3.171449704142012)]),\n",
       " RelationRecord(items=frozenset({'shopping bags', 'fruit/vegetable juice', 'liquor'}), support=0.002052334530528476, ordered_statistics=[OrderedStatistic(items_base=frozenset({'liquor'}), items_add=frozenset({'fruit/vegetable juice', 'shopping bags'}), confidence=0.07766990291262135, lift=3.440423654015887), OrderedStatistic(items_base=frozenset({'fruit/vegetable juice', 'liquor'}), items_add=frozenset({'shopping bags'}), confidence=0.5333333333333333, lift=3.169105691056911), OrderedStatistic(items_base=frozenset({'fruit/vegetable juice', 'shopping bags'}), items_add=frozenset({'liquor'}), confidence=0.09090909090909091, lift=3.4404236540158872)]),\n",
       " RelationRecord(items=frozenset({'long life bakery product', 'fruit/vegetable juice', 'meat'}), support=0.002052334530528476, ordered_statistics=[OrderedStatistic(items_base=frozenset({'fruit/vegetable juice', 'meat'}), items_add=frozenset({'long life bakery product'}), confidence=0.2105263157894737, lift=3.218163054695563)]),\n",
       " RelationRecord(items=frozenset({'pasta', 'fruit/vegetable juice', 'pip fruit'}), support=0.002308876346844536, ordered_statistics=[OrderedStatistic(items_base=frozenset({'pasta'}), items_add=frozenset({'pip fruit', 'fruit/vegetable juice'}), confidence=0.07627118644067797, lift=3.065000873667657), OrderedStatistic(items_base=frozenset({'pip fruit', 'fruit/vegetable juice'}), items_add=frozenset({'pasta'}), confidence=0.09278350515463918, lift=3.065000873667657)]),\n",
       " RelationRecord(items=frozenset({'spices', 'fruit/vegetable juice', 'rolls/buns'}), support=0.002052334530528476, ordered_statistics=[OrderedStatistic(items_base=frozenset({'spices'}), items_add=frozenset({'fruit/vegetable juice', 'rolls/buns'}), confidence=0.2051282051282051, lift=3.8257882468408777), OrderedStatistic(items_base=frozenset({'spices', 'rolls/buns'}), items_add=frozenset({'fruit/vegetable juice'}), confidence=0.4210526315789474, lift=3.370150221549768)]),\n",
       " RelationRecord(items=frozenset({'soft cheese', 'other vegetables', 'grapes'}), support=0.0028219599794766545, ordered_statistics=[OrderedStatistic(items_base=frozenset({'soft cheese'}), items_add=frozenset({'other vegetables', 'grapes'}), confidence=0.07482993197278912, lift=3.038407029478458), OrderedStatistic(items_base=frozenset({'other vegetables', 'grapes'}), items_add=frozenset({'soft cheese'}), confidence=0.11458333333333333, lift=3.038407029478458)]),\n",
       " RelationRecord(items=frozenset({'root vegetables', 'grapes', 'sliced cheese'}), support=0.002565418163160595, ordered_statistics=[OrderedStatistic(items_base=frozenset({'root vegetables', 'grapes'}), items_add=frozenset({'sliced cheese'}), confidence=0.1724137931034483, lift=3.327074086719017), OrderedStatistic(items_base=frozenset({'grapes', 'sliced cheese'}), items_add=frozenset({'root vegetables'}), confidence=0.8333333333333333, lift=3.6132740081572114), OrderedStatistic(items_base=frozenset({'root vegetables', 'sliced cheese'}), items_add=frozenset({'grapes'}), confidence=0.1724137931034483, lift=3.1405091846600066)]),\n",
       " RelationRecord(items=frozenset({'tropical fruit', 'ham', 'hard cheese'}), support=0.0028219599794766545, ordered_statistics=[OrderedStatistic(items_base=frozenset({'hard cheese'}), items_add=frozenset({'tropical fruit', 'ham'}), confidence=0.052884615384615384, lift=3.221003605769231), OrderedStatistic(items_base=frozenset({'tropical fruit', 'ham'}), items_add=frozenset({'hard cheese'}), confidence=0.171875, lift=3.221003605769231)]),\n",
       " RelationRecord(items=frozenset({'newspapers', 'white wine', 'ham'}), support=0.002052334530528476, ordered_statistics=[OrderedStatistic(items_base=frozenset({'newspapers', 'ham'}), items_add=frozenset({'white wine'}), confidence=0.15999999999999998, lift=3.6260465116279064), OrderedStatistic(items_base=frozenset({'white wine', 'ham'}), items_add=frozenset({'newspapers'}), confidence=0.47058823529411764, lift=3.3657852131678356), OrderedStatistic(items_base=frozenset({'white wine', 'newspapers'}), items_add=frozenset({'ham'}), confidence=0.26666666666666666, lift=4.2083670715249655)]),\n",
       " RelationRecord(items=frozenset({'pastry', 'ham', 'processed cheese'}), support=0.002052334530528476, ordered_statistics=[OrderedStatistic(items_base=frozenset({'processed cheese'}), items_add=frozenset({'pastry', 'ham'}), confidence=0.05333333333333333, lift=3.712380952380952), OrderedStatistic(items_base=frozenset({'pastry', 'ham'}), items_add=frozenset({'processed cheese'}), confidence=0.14285714285714285, lift=3.7123809523809523), OrderedStatistic(items_base=frozenset({'ham', 'processed cheese'}), items_add=frozenset({'pastry'}), confidence=0.6153846153846154, lift=3.4664295242329923), OrderedStatistic(items_base=frozenset({'pastry', 'processed cheese'}), items_add=frozenset({'ham'}), confidence=0.25, lift=3.9453441295546554)]),\n",
       " RelationRecord(items=frozenset({'pastry', 'white wine', 'ham'}), support=0.002308876346844536, ordered_statistics=[OrderedStatistic(items_base=frozenset({'white wine'}), items_add=frozenset({'pastry', 'ham'}), confidence=0.05232558139534884, lift=3.642234219269103), OrderedStatistic(items_base=frozenset({'pastry', 'ham'}), items_add=frozenset({'white wine'}), confidence=0.16071428571428573, lift=3.6422342192691035), OrderedStatistic(items_base=frozenset({'pastry', 'white wine'}), items_add=frozenset({'ham'}), confidence=0.25, lift=3.9453441295546554)]),\n",
       " RelationRecord(items=frozenset({'yogurt', 'pickled vegetables', 'ham'}), support=0.002052334530528476, ordered_statistics=[OrderedStatistic(items_base=frozenset({'yogurt', 'pickled vegetables'}), items_add=frozenset({'ham'}), confidence=0.19999999999999998, lift=3.1562753036437243)]),\n",
       " RelationRecord(items=frozenset({'specialty chocolate', 'ham', 'soda'}), support=0.004361210877373012, ordered_statistics=[OrderedStatistic(items_base=frozenset({'ham'}), items_add=frozenset({'specialty chocolate', 'soda'}), confidence=0.06882591093117409, lift=3.0144202338170403), OrderedStatistic(items_base=frozenset({'specialty chocolate'}), items_add=frozenset({'ham', 'soda'}), confidence=0.07456140350877193, lift=3.26562191996846), OrderedStatistic(items_base=frozenset({'ham', 'soda'}), items_add=frozenset({'specialty chocolate'}), confidence=0.19101123595505617, lift=3.2656219199684604), OrderedStatistic(items_base=frozenset({'specialty chocolate', 'soda'}), items_add=frozenset({'ham'}), confidence=0.19101123595505617, lift=3.0144202338170403)]),\n",
       " RelationRecord(items=frozenset({'hamburger meat', 'ice cream', 'shopping bags'}), support=0.002308876346844536, ordered_statistics=[OrderedStatistic(items_base=frozenset({'hamburger meat', 'shopping bags'}), items_add=frozenset({'ice cream'}), confidence=0.16981132075471697, lift=3.008747855917667)]),\n",
       " RelationRecord(items=frozenset({'misc. beverages', 'sausage', 'hamburger meat'}), support=0.0033350436121087736, ordered_statistics=[OrderedStatistic(items_base=frozenset({'misc. beverages'}), items_add=frozenset({'sausage', 'hamburger meat'}), confidence=0.05652173913043478, lift=3.1474534161490686), OrderedStatistic(items_base=frozenset({'misc. beverages', 'hamburger meat'}), items_add=frozenset({'sausage'}), confidence=0.65, lift=3.1552926525529266), OrderedStatistic(items_base=frozenset({'sausage', 'hamburger meat'}), items_add=frozenset({'misc. beverages'}), confidence=0.18571428571428572, lift=3.1474534161490686)]),\n",
       " RelationRecord(items=frozenset({'oil', 'hamburger meat', 'newspapers'}), support=0.002308876346844536, ordered_statistics=[OrderedStatistic(items_base=frozenset({'hamburger meat', 'newspapers'}), items_add=frozenset({'oil'}), confidence=0.17647058823529413, lift=3.1699647600975873), OrderedStatistic(items_base=frozenset({'oil', 'newspapers'}), items_add=frozenset({'hamburger meat'}), confidence=0.24324324324324326, lift=3.029272083585183)]),\n",
       " RelationRecord(items=frozenset({'pasta', 'hamburger meat', 'soda'}), support=0.002565418163160595, ordered_statistics=[OrderedStatistic(items_base=frozenset({'pasta'}), items_add=frozenset({'hamburger meat', 'soda'}), confidence=0.0847457627118644, lift=3.0030816640986133), OrderedStatistic(items_base=frozenset({'hamburger meat', 'soda'}), items_add=frozenset({'pasta'}), confidence=0.09090909090909091, lift=3.0030816640986133)]),\n",
       " RelationRecord(items=frozenset({'root vegetables', 'pickled vegetables', 'hamburger meat'}), support=0.002308876346844536, ordered_statistics=[OrderedStatistic(items_base=frozenset({'pickled vegetables'}), items_add=frozenset({'root vegetables', 'hamburger meat'}), confidence=0.06923076923076923, lift=3.2513438368860057), OrderedStatistic(items_base=frozenset({'root vegetables', 'hamburger meat'}), items_add=frozenset({'pickled vegetables'}), confidence=0.10843373493975904, lift=3.251343836886006)]),\n",
       " RelationRecord(items=frozenset({'yogurt', 'pickled vegetables', 'hamburger meat'}), support=0.002565418163160595, ordered_statistics=[OrderedStatistic(items_base=frozenset({'yogurt', 'pickled vegetables'}), items_add=frozenset({'hamburger meat'}), confidence=0.25, lift=3.1134185303514377)]),\n",
       " RelationRecord(items=frozenset({'roll products', 'other vegetables', 'hard cheese'}), support=0.002308876346844536, ordered_statistics=[OrderedStatistic(items_base=frozenset({'roll products'}), items_add=frozenset({'other vegetables', 'hard cheese'}), confidence=0.1125, lift=4.38525), OrderedStatistic(items_base=frozenset({'other vegetables', 'hard cheese'}), items_add=frozenset({'roll products'}), confidence=0.09, lift=4.38525), OrderedStatistic(items_base=frozenset({'roll products', 'other vegetables'}), items_add=frozenset({'hard cheese'}), confidence=0.25, lift=4.685096153846154)]),\n",
       " RelationRecord(items=frozenset({'white wine', 'other vegetables', 'hard cheese'}), support=0.0033350436121087736, ordered_statistics=[OrderedStatistic(items_base=frozenset({'hard cheese'}), items_add=frozenset({'white wine', 'other vegetables'}), confidence=0.0625, lift=3.582720588235294), OrderedStatistic(items_base=frozenset({'other vegetables', 'white wine'}), items_add=frozenset({'hard cheese'}), confidence=0.19117647058823528, lift=3.582720588235294)]),\n",
       " RelationRecord(items=frozenset({'sausage', 'white wine', 'hard cheese'}), support=0.002052334530528476, ordered_statistics=[OrderedStatistic(items_base=frozenset({'sausage', 'hard cheese'}), items_add=frozenset({'white wine'}), confidence=0.17021276595744678, lift=3.8574962889658577)]),\n",
       " RelationRecord(items=frozenset({'yogurt', 'soft cheese', 'hard cheese'}), support=0.002052334530528476, ordered_statistics=[OrderedStatistic(items_base=frozenset({'soft cheese'}), items_add=frozenset({'yogurt', 'hard cheese'}), confidence=0.05442176870748299, lift=3.6575181796856673), OrderedStatistic(items_base=frozenset({'yogurt', 'hard cheese'}), items_add=frozenset({'soft cheese'}), confidence=0.13793103448275862, lift=3.6575181796856677)]),\n",
       " RelationRecord(items=frozenset({'yogurt', 'white wine', 'hard cheese'}), support=0.002052334530528476, ordered_statistics=[OrderedStatistic(items_base=frozenset({'yogurt', 'hard cheese'}), items_add=frozenset({'white wine'}), confidence=0.13793103448275862, lift=3.1259021651964716)]),\n",
       " RelationRecord(items=frozenset({'root vegetables', 'pickled vegetables', 'hygiene articles'}), support=0.002308876346844536, ordered_statistics=[OrderedStatistic(items_base=frozenset({'pickled vegetables'}), items_add=frozenset({'root vegetables', 'hygiene articles'}), confidence=0.06923076923076923, lift=4.352605459057072), OrderedStatistic(items_base=frozenset({'pickled vegetables', 'hygiene articles'}), items_add=frozenset({'root vegetables'}), confidence=0.6923076923076924, lift=3.0017968683152225), OrderedStatistic(items_base=frozenset({'root vegetables', 'hygiene articles'}), items_add=frozenset({'pickled vegetables'}), confidence=0.14516129032258066, lift=4.352605459057073), OrderedStatistic(items_base=frozenset({'root vegetables', 'pickled vegetables'}), items_add=frozenset({'hygiene articles'}), confidence=0.2142857142857143, lift=4.094537815126051)]),\n",
       " RelationRecord(items=frozenset({'pip fruit', 'oil', 'ice cream'}), support=0.002565418163160595, ordered_statistics=[OrderedStatistic(items_base=frozenset({'oil', 'ice cream'}), items_add=frozenset({'pip fruit'}), confidence=0.5263157894736843, lift=3.0850811238622877), OrderedStatistic(items_base=frozenset({'pip fruit', 'ice cream'}), items_add=frozenset({'oil'}), confidence=0.20833333333333331, lift=3.7423195084485403), OrderedStatistic(items_base=frozenset({'pip fruit', 'oil'}), items_add=frozenset({'ice cream'}), confidence=0.24390243902439027, lift=4.3215077605321515)]),\n",
       " RelationRecord(items=frozenset({'tropical fruit', 'white wine', 'ice cream'}), support=0.002052334530528476, ordered_statistics=[OrderedStatistic(items_base=frozenset({'tropical fruit', 'ice cream'}), items_add=frozenset({'white wine'}), confidence=0.1568627450980392, lift=3.554947560419517)]),\n",
       " RelationRecord(items=frozenset({'instant coffee', 'newspapers', 'other vegetables'}), support=0.002565418163160595, ordered_statistics=[OrderedStatistic(items_base=frozenset({'instant coffee'}), items_add=frozenset({'other vegetables', 'newspapers'}), confidence=0.1694915254237288, lift=3.286955055232313)]),\n",
       " RelationRecord(items=frozenset({'yogurt', 'instant coffee', 'newspapers'}), support=0.0028219599794766545, ordered_statistics=[OrderedStatistic(items_base=frozenset({'instant coffee'}), items_add=frozenset({'yogurt', 'newspapers'}), confidence=0.18644067796610167, lift=3.9497052321296975), OrderedStatistic(items_base=frozenset({'yogurt', 'instant coffee'}), items_add=frozenset({'newspapers'}), confidence=0.4230769230769231, lift=3.0259703599153136), OrderedStatistic(items_base=frozenset({'yogurt', 'newspapers'}), items_add=frozenset({'instant coffee'}), confidence=0.05978260869565217, lift=3.9497052321296975)]),\n",
       " RelationRecord(items=frozenset({'kitchen towels', 'sausage', 'other vegetables'}), support=0.002565418163160595, ordered_statistics=[OrderedStatistic(items_base=frozenset({'kitchen towels'}), items_add=frozenset({'sausage', 'other vegetables'}), confidence=0.3333333333333333, lift=3.589318600368324), OrderedStatistic(items_base=frozenset({'kitchen towels', 'other vegetables'}), items_add=frozenset({'sausage'}), confidence=0.7692307692307693, lift=3.7340741450330492)]),\n",
       " RelationRecord(items=frozenset({'kitchen towels', 'other vegetables', 'whipped/sour cream'}), support=0.002052334530528476, ordered_statistics=[OrderedStatistic(items_base=frozenset({'kitchen towels'}), items_add=frozenset({'other vegetables', 'whipped/sour cream'}), confidence=0.26666666666666666, lift=3.9826309067688377), OrderedStatistic(items_base=frozenset({'kitchen towels', 'other vegetables'}), items_add=frozenset({'whipped/sour cream'}), confidence=0.6153846153846154, lift=3.9780584258196203)]),\n",
       " RelationRecord(items=frozenset({'yogurt', 'onions', 'liquor'}), support=0.002308876346844536, ordered_statistics=[OrderedStatistic(items_base=frozenset({'liquor'}), items_add=frozenset({'yogurt', 'onions'}), confidence=0.08737864077669903, lift=3.662386470404009), OrderedStatistic(items_base=frozenset({'yogurt', 'onions'}), items_add=frozenset({'liquor'}), confidence=0.09677419354838711, lift=3.662386470404009)]),\n",
       " RelationRecord(items=frozenset({'pip fruit', 'long life bakery product', 'meat'}), support=0.002565418163160595, ordered_statistics=[OrderedStatistic(items_base=frozenset({'pip fruit', 'long life bakery product'}), items_add=frozenset({'meat'}), confidence=0.19607843137254902, lift=3.08191018342821)]),\n",
       " RelationRecord(items=frozenset({'long life bakery product', 'specialty bar', 'newspapers'}), support=0.002052334530528476, ordered_statistics=[OrderedStatistic(items_base=frozenset({'long life bakery product', 'newspapers'}), items_add=frozenset({'specialty bar'}), confidence=0.22857142857142856, lift=4.346202090592334), OrderedStatistic(items_base=frozenset({'long life bakery product', 'specialty bar'}), items_add=frozenset({'newspapers'}), confidence=0.4210526315789474, lift=3.0114920328343797)]),\n",
       " RelationRecord(items=frozenset({'pastry', 'long life bakery product', 'onions'}), support=0.0033350436121087736, ordered_statistics=[OrderedStatistic(items_base=frozenset({'pastry', 'long life bakery product'}), items_add=frozenset({'onions'}), confidence=0.23214285714285712, lift=3.0467772967772966)]),\n",
       " RelationRecord(items=frozenset({'softener', 'margarine', 'soda'}), support=0.002052334530528476, ordered_statistics=[OrderedStatistic(items_base=frozenset({'softener'}), items_add=frozenset({'margarine', 'soda'}), confidence=0.1951219512195122, lift=4.813831429453535), OrderedStatistic(items_base=frozenset({'margarine', 'soda'}), items_add=frozenset({'softener'}), confidence=0.05063291139240506, lift=4.813831429453535), OrderedStatistic(items_base=frozenset({'softener', 'soda'}), items_add=frozenset({'margarine'}), confidence=0.36363636363636365, lift=3.1152847152847154)]),\n",
       " RelationRecord(items=frozenset({'white bread', 'mayonnaise', 'other vegetables'}), support=0.002052334530528476, ordered_statistics=[OrderedStatistic(items_base=frozenset({'mayonnaise', 'other vegetables'}), items_add=frozenset({'white bread'}), confidence=0.26666666666666666, lift=3.0042389210019267)]),\n",
       " RelationRecord(items=frozenset({'meat', 'napkins', 'newspapers'}), support=0.002308876346844536, ordered_statistics=[OrderedStatistic(items_base=frozenset({'meat', 'napkins'}), items_add=frozenset({'newspapers'}), confidence=0.45, lift=3.218532110091743)]),\n",
       " RelationRecord(items=frozenset({'meat', 'sausage', 'processed cheese'}), support=0.002052334530528476, ordered_statistics=[OrderedStatistic(items_base=frozenset({'processed cheese'}), items_add=frozenset({'meat', 'sausage'}), confidence=0.05333333333333333, lift=3.523615819209039), OrderedStatistic(items_base=frozenset({'meat', 'sausage'}), items_add=frozenset({'processed cheese'}), confidence=0.13559322033898305, lift=3.5236158192090397), OrderedStatistic(items_base=frozenset({'sausage', 'processed cheese'}), items_add=frozenset({'meat'}), confidence=0.2105263157894737, lift=3.3089983022071308)]),\n",
       " RelationRecord(items=frozenset({'meat', 'soda', 'processed cheese'}), support=0.0030785017957927143, ordered_statistics=[OrderedStatistic(items_base=frozenset({'processed cheese'}), items_add=frozenset({'meat', 'soda'}), confidence=0.08, lift=3.7571084337349396), OrderedStatistic(items_base=frozenset({'meat', 'soda'}), items_add=frozenset({'processed cheese'}), confidence=0.14457831325301204, lift=3.7571084337349396), OrderedStatistic(items_base=frozenset({'soda', 'processed cheese'}), items_add=frozenset({'meat'}), confidence=0.2181818181818182, lift=3.4293255131964813)]),\n",
       " RelationRecord(items=frozenset({'oil', 'misc. beverages', 'newspapers'}), support=0.002052334530528476, ordered_statistics=[OrderedStatistic(items_base=frozenset({'misc. beverages', 'newspapers'}), items_add=frozenset({'oil'}), confidence=0.19999999999999998, lift=3.5926267281105986), OrderedStatistic(items_base=frozenset({'oil', 'newspapers'}), items_add=frozenset({'misc. beverages'}), confidence=0.2162162162162162, lift=3.664394829612221)]),\n",
       " RelationRecord(items=frozenset({'misc. beverages', 'onions', 'shopping bags'}), support=0.002308876346844536, ordered_statistics=[OrderedStatistic(items_base=frozenset({'misc. beverages', 'shopping bags'}), items_add=frozenset({'onions'}), confidence=0.24324324324324326, lift=3.192465192465193)]),\n",
       " RelationRecord(items=frozenset({'red/blush wine', 'napkins', 'whipped/sour cream'}), support=0.002052334530528476, ordered_statistics=[OrderedStatistic(items_base=frozenset({'red/blush wine'}), items_add=frozenset({'napkins', 'whipped/sour cream'}), confidence=0.05161290322580645, lift=3.5295981890209394), OrderedStatistic(items_base=frozenset({'napkins', 'whipped/sour cream'}), items_add=frozenset({'red/blush wine'}), confidence=0.14035087719298245, lift=3.5295981890209394)]),\n",
       " RelationRecord(items=frozenset({'specialty bar', 'salty snack', 'newspapers'}), support=0.002308876346844536, ordered_statistics=[OrderedStatistic(items_base=frozenset({'salty snack', 'newspapers'}), items_add=frozenset({'specialty bar'}), confidence=0.16363636363636366, lift=3.111485587583149), OrderedStatistic(items_base=frozenset({'specialty bar', 'salty snack'}), items_add=frozenset({'newspapers'}), confidence=0.5625000000000001, lift=4.023165137614679)]),\n",
       " RelationRecord(items=frozenset({'seasonal products', 'newspapers', 'shopping bags'}), support=0.002052334530528476, ordered_statistics=[OrderedStatistic(items_base=frozenset({'seasonal products', 'newspapers'}), items_add=frozenset({'shopping bags'}), confidence=0.5714285714285714, lift=3.3954703832752613)]),\n",
       " RelationRecord(items=frozenset({'specialty bar', 'sugar', 'newspapers'}), support=0.002052334530528476, ordered_statistics=[OrderedStatistic(items_base=frozenset({'sugar', 'newspapers'}), items_add=frozenset({'specialty bar'}), confidence=0.16666666666666666, lift=3.16910569105691)]),\n",
       " RelationRecord(items=frozenset({'pip fruit', 'oil', 'soft cheese'}), support=0.002052334530528476, ordered_statistics=[OrderedStatistic(items_base=frozenset({'soft cheese'}), items_add=frozenset({'oil', 'pip fruit'}), confidence=0.05442176870748299, lift=5.174050107848017), OrderedStatistic(items_base=frozenset({'pip fruit', 'oil'}), items_add=frozenset({'soft cheese'}), confidence=0.1951219512195122, lift=5.174050107848018), OrderedStatistic(items_base=frozenset({'oil', 'soft cheese'}), items_add=frozenset({'pip fruit'}), confidence=0.7272727272727273, lift=4.263021189336979), OrderedStatistic(items_base=frozenset({'pip fruit', 'soft cheese'}), items_add=frozenset({'oil'}), confidence=0.23529411764705882, lift=4.226619680130116)]),\n",
       " RelationRecord(items=frozenset({'spread cheese', 'other vegetables', 'onions'}), support=0.002565418163160595, ordered_statistics=[OrderedStatistic(items_base=frozenset({'spread cheese'}), items_add=frozenset({'other vegetables', 'onions'}), confidence=0.10204081632653061, lift=3.0362984888611932), OrderedStatistic(items_base=frozenset({'other vegetables', 'onions'}), items_add=frozenset({'spread cheese'}), confidence=0.07633587786259542, lift=3.0362984888611937)]),\n",
       " RelationRecord(items=frozenset({'sausage', 'onions', 'sliced cheese'}), support=0.0035915854284248334, ordered_statistics=[OrderedStatistic(items_base=frozenset({'sliced cheese'}), items_add=frozenset({'sausage', 'onions'}), confidence=0.06930693069306931, lift=4.093309330933093), OrderedStatistic(items_base=frozenset({'sausage', 'onions'}), items_add=frozenset({'sliced cheese'}), confidence=0.2121212121212121, lift=4.093309330933093), OrderedStatistic(items_base=frozenset({'sausage', 'sliced cheese'}), items_add=frozenset({'onions'}), confidence=0.23728813559322035, lift=3.1143069109170805)]),\n",
       " RelationRecord(items=frozenset({'whole milk', 'spread cheese', 'onions'}), support=0.0030785017957927143, ordered_statistics=[OrderedStatistic(items_base=frozenset({'spread cheese'}), items_add=frozenset({'whole milk', 'onions'}), confidence=0.12244897959183675, lift=3.079394338380514), OrderedStatistic(items_base=frozenset({'whole milk', 'onions'}), items_add=frozenset({'spread cheese'}), confidence=0.07741935483870968, lift=3.0793943383805136)]),\n",
       " RelationRecord(items=frozenset({'spread cheese', 'other vegetables', 'sugar'}), support=0.0030785017957927143, ordered_statistics=[OrderedStatistic(items_base=frozenset({'spread cheese'}), items_add=frozenset({'other vegetables', 'sugar'}), confidence=0.12244897959183675, lift=4.186895810955962), OrderedStatistic(items_base=frozenset({'spread cheese', 'other vegetables'}), items_add=frozenset({'sugar'}), confidence=0.26666666666666666, lift=4.04461738002594), OrderedStatistic(items_base=frozenset({'other vegetables', 'sugar'}), items_add=frozenset({'spread cheese'}), confidence=0.10526315789473685, lift=4.186895810955962)]),\n",
       " RelationRecord(items=frozenset({'root vegetables', 'white bread', 'packaged fruit/vegetables'}), support=0.002308876346844536, ordered_statistics=[OrderedStatistic(items_base=frozenset({'white bread', 'packaged fruit/vegetables'}), items_add=frozenset({'root vegetables'}), confidence=0.8181818181818183, lift=3.5475781170998086)]),\n",
       " RelationRecord(items=frozenset({'pastry', 'pip fruit', 'pet care'}), support=0.002565418163160595, ordered_statistics=[OrderedStatistic(items_base=frozenset({'pip fruit', 'pet care'}), items_add=frozenset({'pastry'}), confidence=0.5555555555555555, lift=3.1294155427103396)]),\n",
       " RelationRecord(items=frozenset({'whole milk', 'pickled vegetables', 'semi-finished bread'}), support=0.002308876346844536, ordered_statistics=[OrderedStatistic(items_base=frozenset({'pickled vegetables'}), items_add=frozenset({'whole milk', 'semi-finished bread'}), confidence=0.06923076923076923, lift=3.5046953046953044), OrderedStatistic(items_base=frozenset({'semi-finished bread'}), items_add=frozenset({'whole milk', 'pickled vegetables'}), confidence=0.06382978723404256, lift=3.6059204440333033), OrderedStatistic(items_base=frozenset({'whole milk', 'pickled vegetables'}), items_add=frozenset({'semi-finished bread'}), confidence=0.13043478260869568, lift=3.6059204440333033), OrderedStatistic(items_base=frozenset({'whole milk', 'semi-finished bread'}), items_add=frozenset({'pickled vegetables'}), confidence=0.11688311688311688, lift=3.504695304695305)]),\n",
       " RelationRecord(items=frozenset({'white bread', 'red/blush wine', 'whipped/sour cream'}), support=0.002052334530528476, ordered_statistics=[OrderedStatistic(items_base=frozenset({'white bread', 'red/blush wine'}), items_add=frozenset({'whipped/sour cream'}), confidence=0.5, lift=3.2321724709784414)]),\n",
       " RelationRecord(items=frozenset({'rolls/buns', 'snack products', 'soda'}), support=0.002565418163160595, ordered_statistics=[OrderedStatistic(items_base=frozenset({'snack products'}), items_add=frozenset({'rolls/buns', 'soda'}), confidence=0.37037037037037035, lift=3.091442620350543)]),\n",
       " RelationRecord(items=frozenset({'root vegetables', 'sweet spreads', 'shopping bags'}), support=0.002052334530528476, ordered_statistics=[OrderedStatistic(items_base=frozenset({'sweet spreads', 'shopping bags'}), items_add=frozenset({'root vegetables'}), confidence=0.7272727272727273, lift=3.1534027707553847)]),\n",
       " RelationRecord(items=frozenset({'rum', 'tropical fruit', 'soda'}), support=0.002052334530528476, ordered_statistics=[OrderedStatistic(items_base=frozenset({'rum'}), items_add=frozenset({'tropical fruit', 'soda'}), confidence=0.25, lift=3.0548589341692787)]),\n",
       " RelationRecord(items=frozenset({'tropical fruit', 'salty snack', 'white wine'}), support=0.002308876346844536, ordered_statistics=[OrderedStatistic(items_base=frozenset({'white wine'}), items_add=frozenset({'tropical fruit', 'salty snack'}), confidence=0.05232558139534884, lift=3.1869549418604652), OrderedStatistic(items_base=frozenset({'tropical fruit', 'salty snack'}), items_add=frozenset({'white wine'}), confidence=0.14062500000000003, lift=3.1869549418604657)]),\n",
       " RelationRecord(items=frozenset({'whole milk', 'salty snack', 'zwieback'}), support=0.002052334530528476, ordered_statistics=[OrderedStatistic(items_base=frozenset({'zwieback'}), items_add=frozenset({'whole milk', 'salty snack'}), confidence=0.13333333333333333, lift=3.937373737373737), OrderedStatistic(items_base=frozenset({'whole milk', 'salty snack'}), items_add=frozenset({'zwieback'}), confidence=0.0606060606060606, lift=3.937373737373737), OrderedStatistic(items_base=frozenset({'whole milk', 'zwieback'}), items_add=frozenset({'salty snack'}), confidence=0.2222222222222222, lift=3.208230452674897)]),\n",
       " RelationRecord(items=frozenset({'white bread', 'sausage', 'sliced cheese'}), support=0.0035915854284248334, ordered_statistics=[OrderedStatistic(items_base=frozenset({'sliced cheese'}), items_add=frozenset({'white bread', 'sausage'}), confidence=0.06930693069306931, lift=3.0699819981998204), OrderedStatistic(items_base=frozenset({'white bread', 'sausage'}), items_add=frozenset({'sliced cheese'}), confidence=0.15909090909090912, lift=3.0699819981998204)]),\n",
       " RelationRecord(items=frozenset({'waffles', 'yogurt', 'sliced cheese'}), support=0.0035915854284248334, ordered_statistics=[OrderedStatistic(items_base=frozenset({'waffles', 'sliced cheese'}), items_add=frozenset({'yogurt'}), confidence=0.9333333333333333, lift=3.301391409558379)])]"
      ]
     },
     "execution_count": 15,
     "metadata": {},
     "output_type": "execute_result"
    }
   ],
   "source": [
    "results = list(rules) ## Storing results in list format for better visualisation\n",
    "results"
   ]
  },
  {
   "cell_type": "markdown",
   "id": "aed48eb3",
   "metadata": {
    "papermill": {
     "duration": 0.011235,
     "end_time": "2022-10-02T20:48:30.635962",
     "exception": false,
     "start_time": "2022-10-02T20:48:30.624727",
     "status": "completed"
    },
    "tags": []
   },
   "source": [
    "## **Step - 6 :** Result Customization"
   ]
  },
  {
   "cell_type": "code",
   "execution_count": 16,
   "id": "ee60d2d1",
   "metadata": {
    "execution": {
     "iopub.execute_input": "2022-10-02T20:48:30.661919Z",
     "iopub.status.busy": "2022-10-02T20:48:30.660773Z",
     "iopub.status.idle": "2022-10-02T20:48:30.670623Z",
     "shell.execute_reply": "2022-10-02T20:48:30.669597Z"
    },
    "papermill": {
     "duration": 0.02548,
     "end_time": "2022-10-02T20:48:30.673146",
     "exception": false,
     "start_time": "2022-10-02T20:48:30.647666",
     "status": "completed"
    },
    "tags": []
   },
   "outputs": [],
   "source": [
    "## Creating user-defined function for arranging the results obtained from model into readable format\n",
    "\n",
    "def inspect(results):\n",
    "    lhs         = [tuple(result[2][0][0])[0] for result in results]\n",
    "    rhs         = [tuple(result[2][0][1])[0] for result in results]\n",
    "    supports    = [result[1] for result in results]\n",
    "    confidences = [result[2][0][2] for result in results]\n",
    "    lifts       = [result[2][0][3] for result in results]\n",
    "    return list(zip(lhs, rhs, supports, confidences, lifts))\n",
    "resultsinDataFrame = pd.DataFrame(inspect(results), columns = ['Left Hand Side', 'Right Hand Side', 'Support', 'Confidence', 'Lift'])"
   ]
  },
  {
   "cell_type": "code",
   "execution_count": 17,
   "id": "2e176e78",
   "metadata": {
    "execution": {
     "iopub.execute_input": "2022-10-02T20:48:30.698649Z",
     "iopub.status.busy": "2022-10-02T20:48:30.697844Z",
     "iopub.status.idle": "2022-10-02T20:48:30.714503Z",
     "shell.execute_reply": "2022-10-02T20:48:30.713283Z"
    },
    "papermill": {
     "duration": 0.032226,
     "end_time": "2022-10-02T20:48:30.717006",
     "exception": false,
     "start_time": "2022-10-02T20:48:30.684780",
     "status": "completed"
    },
    "tags": []
   },
   "outputs": [
    {
     "data": {
      "text/html": [
       "<div>\n",
       "<style scoped>\n",
       "    .dataframe tbody tr th:only-of-type {\n",
       "        vertical-align: middle;\n",
       "    }\n",
       "\n",
       "    .dataframe tbody tr th {\n",
       "        vertical-align: top;\n",
       "    }\n",
       "\n",
       "    .dataframe thead th {\n",
       "        text-align: right;\n",
       "    }\n",
       "</style>\n",
       "<table border=\"1\" class=\"dataframe\">\n",
       "  <thead>\n",
       "    <tr style=\"text-align: right;\">\n",
       "      <th></th>\n",
       "      <th>Left Hand Side</th>\n",
       "      <th>Right Hand Side</th>\n",
       "      <th>Support</th>\n",
       "      <th>Confidence</th>\n",
       "      <th>Lift</th>\n",
       "    </tr>\n",
       "  </thead>\n",
       "  <tbody>\n",
       "    <tr>\n",
       "      <th>315</th>\n",
       "      <td>waffles</td>\n",
       "      <td>yogurt</td>\n",
       "      <td>0.003592</td>\n",
       "      <td>0.933333</td>\n",
       "      <td>3.301391</td>\n",
       "    </tr>\n",
       "    <tr>\n",
       "      <th>305</th>\n",
       "      <td>white bread</td>\n",
       "      <td>root vegetables</td>\n",
       "      <td>0.002309</td>\n",
       "      <td>0.818182</td>\n",
       "      <td>3.547578</td>\n",
       "    </tr>\n",
       "    <tr>\n",
       "      <th>310</th>\n",
       "      <td>sweet spreads</td>\n",
       "      <td>root vegetables</td>\n",
       "      <td>0.002052</td>\n",
       "      <td>0.727273</td>\n",
       "      <td>3.153403</td>\n",
       "    </tr>\n",
       "    <tr>\n",
       "      <th>204</th>\n",
       "      <td>herbs</td>\n",
       "      <td>sausage</td>\n",
       "      <td>0.002309</td>\n",
       "      <td>0.692308</td>\n",
       "      <td>3.360667</td>\n",
       "    </tr>\n",
       "    <tr>\n",
       "      <th>114</th>\n",
       "      <td>candles</td>\n",
       "      <td>canned beer</td>\n",
       "      <td>0.002309</td>\n",
       "      <td>0.600000</td>\n",
       "      <td>3.631677</td>\n",
       "    </tr>\n",
       "    <tr>\n",
       "      <th>179</th>\n",
       "      <td>specialty chocolate</td>\n",
       "      <td>citrus fruit</td>\n",
       "      <td>0.002309</td>\n",
       "      <td>0.600000</td>\n",
       "      <td>3.239335</td>\n",
       "    </tr>\n",
       "    <tr>\n",
       "      <th>129</th>\n",
       "      <td>pasta</td>\n",
       "      <td>pastry</td>\n",
       "      <td>0.002052</td>\n",
       "      <td>0.571429</td>\n",
       "      <td>3.218827</td>\n",
       "    </tr>\n",
       "    <tr>\n",
       "      <th>242</th>\n",
       "      <td>pasta</td>\n",
       "      <td>pastry</td>\n",
       "      <td>0.002052</td>\n",
       "      <td>0.571429</td>\n",
       "      <td>3.218827</td>\n",
       "    </tr>\n",
       "    <tr>\n",
       "      <th>298</th>\n",
       "      <td>seasonal products</td>\n",
       "      <td>shopping bags</td>\n",
       "      <td>0.002052</td>\n",
       "      <td>0.571429</td>\n",
       "      <td>3.395470</td>\n",
       "    </tr>\n",
       "    <tr>\n",
       "      <th>94</th>\n",
       "      <td>pasta</td>\n",
       "      <td>pastry</td>\n",
       "      <td>0.002309</td>\n",
       "      <td>0.562500</td>\n",
       "      <td>3.168533</td>\n",
       "    </tr>\n",
       "    <tr>\n",
       "      <th>306</th>\n",
       "      <td>pip fruit</td>\n",
       "      <td>pastry</td>\n",
       "      <td>0.002565</td>\n",
       "      <td>0.555556</td>\n",
       "      <td>3.129416</td>\n",
       "    </tr>\n",
       "    <tr>\n",
       "      <th>70</th>\n",
       "      <td>specialty cheese</td>\n",
       "      <td>frankfurter</td>\n",
       "      <td>0.002052</td>\n",
       "      <td>0.533333</td>\n",
       "      <td>3.885857</td>\n",
       "    </tr>\n",
       "    <tr>\n",
       "      <th>173</th>\n",
       "      <td>chocolate</td>\n",
       "      <td>frankfurter</td>\n",
       "      <td>0.002052</td>\n",
       "      <td>0.533333</td>\n",
       "      <td>3.885857</td>\n",
       "    </tr>\n",
       "    <tr>\n",
       "      <th>187</th>\n",
       "      <td>mustard</td>\n",
       "      <td>pastry</td>\n",
       "      <td>0.002052</td>\n",
       "      <td>0.533333</td>\n",
       "      <td>3.004239</td>\n",
       "    </tr>\n",
       "    <tr>\n",
       "      <th>279</th>\n",
       "      <td>oil</td>\n",
       "      <td>pip fruit</td>\n",
       "      <td>0.002565</td>\n",
       "      <td>0.526316</td>\n",
       "      <td>3.085081</td>\n",
       "    </tr>\n",
       "    <tr>\n",
       "      <th>21</th>\n",
       "      <td>baking powder</td>\n",
       "      <td>canned beer</td>\n",
       "      <td>0.002565</td>\n",
       "      <td>0.500000</td>\n",
       "      <td>3.026398</td>\n",
       "    </tr>\n",
       "    <tr>\n",
       "      <th>44</th>\n",
       "      <td>berries</td>\n",
       "      <td>newspapers</td>\n",
       "      <td>0.002309</td>\n",
       "      <td>0.500000</td>\n",
       "      <td>3.576147</td>\n",
       "    </tr>\n",
       "    <tr>\n",
       "      <th>56</th>\n",
       "      <td>bottled water</td>\n",
       "      <td>bottled beer</td>\n",
       "      <td>0.002052</td>\n",
       "      <td>0.500000</td>\n",
       "      <td>3.153722</td>\n",
       "    </tr>\n",
       "    <tr>\n",
       "      <th>128</th>\n",
       "      <td>newspapers</td>\n",
       "      <td>canned beer</td>\n",
       "      <td>0.002309</td>\n",
       "      <td>0.500000</td>\n",
       "      <td>3.026398</td>\n",
       "    </tr>\n",
       "    <tr>\n",
       "      <th>308</th>\n",
       "      <td>white bread</td>\n",
       "      <td>whipped/sour cream</td>\n",
       "      <td>0.002052</td>\n",
       "      <td>0.500000</td>\n",
       "      <td>3.232172</td>\n",
       "    </tr>\n",
       "  </tbody>\n",
       "</table>\n",
       "</div>"
      ],
      "text/plain": [
       "          Left Hand Side     Right Hand Side   Support  Confidence      Lift\n",
       "315              waffles              yogurt  0.003592    0.933333  3.301391\n",
       "305          white bread     root vegetables  0.002309    0.818182  3.547578\n",
       "310        sweet spreads     root vegetables  0.002052    0.727273  3.153403\n",
       "204                herbs             sausage  0.002309    0.692308  3.360667\n",
       "114              candles         canned beer  0.002309    0.600000  3.631677\n",
       "179  specialty chocolate        citrus fruit  0.002309    0.600000  3.239335\n",
       "129                pasta              pastry  0.002052    0.571429  3.218827\n",
       "242                pasta              pastry  0.002052    0.571429  3.218827\n",
       "298    seasonal products       shopping bags  0.002052    0.571429  3.395470\n",
       "94                 pasta              pastry  0.002309    0.562500  3.168533\n",
       "306            pip fruit              pastry  0.002565    0.555556  3.129416\n",
       "70      specialty cheese         frankfurter  0.002052    0.533333  3.885857\n",
       "173            chocolate         frankfurter  0.002052    0.533333  3.885857\n",
       "187              mustard              pastry  0.002052    0.533333  3.004239\n",
       "279                  oil           pip fruit  0.002565    0.526316  3.085081\n",
       "21         baking powder         canned beer  0.002565    0.500000  3.026398\n",
       "44               berries          newspapers  0.002309    0.500000  3.576147\n",
       "56         bottled water        bottled beer  0.002052    0.500000  3.153722\n",
       "128           newspapers         canned beer  0.002309    0.500000  3.026398\n",
       "308          white bread  whipped/sour cream  0.002052    0.500000  3.232172"
      ]
     },
     "execution_count": 17,
     "metadata": {},
     "output_type": "execute_result"
    }
   ],
   "source": [
    "resultsinDataFrame.nlargest(n=20, columns=\"Confidence\") ## Showing best possible scenarios"
   ]
  },
  {
   "cell_type": "code",
   "execution_count": 18,
   "id": "bc350c59",
   "metadata": {},
   "outputs": [],
   "source": [
    "product_dictionary = {}\n",
    "for result in results:\n",
    "    x = tuple(result[2][0][0])[0]\n",
    "    y = tuple(result[2][0][1])[0]\n",
    "    product_dictionary[x] = y"
   ]
  },
  {
   "cell_type": "code",
   "execution_count": 19,
   "id": "b45bbb3a",
   "metadata": {},
   "outputs": [],
   "source": [
    "# open file for writing\n",
    "f = open(\"pr2.txt\",\"w\")\n",
    "\n",
    "# write file\n",
    "f.write( str(product_dictionary) )\n",
    "\n",
    "# close file\n",
    "f.close()"
   ]
  }
 ],
 "metadata": {
  "kernelspec": {
   "display_name": "Python 3.10.6 64-bit",
   "language": "python",
   "name": "python3"
  },
  "language_info": {
   "codemirror_mode": {
    "name": "ipython",
    "version": 3
   },
   "file_extension": ".py",
   "mimetype": "text/x-python",
   "name": "python",
   "nbconvert_exporter": "python",
   "pygments_lexer": "ipython3",
   "version": "3.10.6"
  },
  "papermill": {
   "default_parameters": {},
   "duration": 29.570671,
   "end_time": "2022-10-02T20:48:31.551290",
   "environment_variables": {},
   "exception": null,
   "input_path": "__notebook__.ipynb",
   "output_path": "__notebook__.ipynb",
   "parameters": {},
   "start_time": "2022-10-02T20:48:01.980619",
   "version": "2.3.4"
  },
  "vscode": {
   "interpreter": {
    "hash": "3196968d684371006099b3d55edeef8ed90365227a30deaef86e5d4aa8519be0"
   }
  }
 },
 "nbformat": 4,
 "nbformat_minor": 5
}
